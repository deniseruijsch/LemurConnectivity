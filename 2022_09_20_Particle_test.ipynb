{
 "cells": [
  {
   "cell_type": "markdown",
   "id": "22a75ea3-aa54-4853-996f-e34f74f08bd8",
   "metadata": {},
   "source": [
    "# MPP for real network (whole grid)\n",
    "\n",
    "Run the parcels model with windage for the grid with evenly distributed particles (ocean only) and calculate MPP "
   ]
  },
  {
   "cell_type": "markdown",
   "id": "2978007c-95c4-4fed-967a-3ff640381273",
   "metadata": {},
   "source": [
    "## Run the model"
   ]
  },
  {
   "cell_type": "code",
   "execution_count": 1,
   "id": "0180bac1-5116-4ab0-a894-05c2375f592d",
   "metadata": {},
   "outputs": [],
   "source": [
    "#!/usr/bin/env python3\n",
    "# -*- coding: utf-8 -*-\n",
    "\"\"\"\n",
    "Created on Mon Apr 11 16:39:06 2022\n",
    "\n",
    "@author: ruijsch\n",
    "\"\"\"\n",
    "\n",
    "from parcels import FieldSet, ParticleSet, Variable, JITParticle, AdvectionRK4, plotTrajectoriesFile, ErrorCode, ParticleFile, ScipyParticle\n",
    "from parcels import UnitConverter, Field, Variable\n",
    "import numpy as np\n",
    "import math\n",
    "from datetime import timedelta, datetime\n",
    "from datetime import timedelta as delta\n",
    "from operator import attrgetter\n",
    "from glob import glob\n",
    "import copy\n",
    "\n",
    "\n",
    "\n",
    "import xarray as xr\n",
    "import matplotlib.pyplot as plt\n",
    "\n",
    "\n"
   ]
  },
  {
   "cell_type": "code",
   "execution_count": 2,
   "id": "c8062304-06b5-4fb9-a651-0fbbaab6ff1e",
   "metadata": {},
   "outputs": [],
   "source": [
    "#%%\n",
    "\n",
    "def DeleteParticle(particle, fieldset, time):\n",
    "    particle.delete()\n",
    "\n",
    "def PrintLoc(particle, fieldset, time):\n",
    "    print('(lon, lat): (%.4f, %.4f)'%(particle.lon, particle.lat))\n"
   ]
  },
  {
   "cell_type": "code",
   "execution_count": 3,
   "id": "29ed5b9f-1130-45f8-aba1-9e3501973fd3",
   "metadata": {
    "tags": []
   },
   "outputs": [],
   "source": [
    "\n",
    "#%%\n",
    "#Load the data from Lorenz and define the indices\n",
    " \n",
    "data_path_ocean = '/storage/shared/oceanparcels/input_data/MOi/'\n",
    "# Load only a few time steps of the model output, to speed up this test simulation\n",
    "ufiles = sorted(glob(data_path_ocean+'psy4v3r1/psy4v3r1-daily_U_*.nc'))[:50]\n",
    "vfiles = [f.replace('_U_', '_V_') for f in ufiles]\n",
    "wfiles = [f.replace('_U_', '_W_') for f in ufiles][:4]\n",
    "mesh_mask = data_path_ocean + 'domain_ORCA0083-N006/coordinates.nc'\n",
    "\n",
    "filenames = {'U': {'lon': mesh_mask, 'lat': mesh_mask, 'depth': wfiles[0], 'data': ufiles},\n",
    "             'V': {'lon': mesh_mask, 'lat': mesh_mask, 'depth': wfiles[0], 'data': vfiles},\n",
    "\n",
    "             }\n",
    "variables = {'U': 'vozocrtx', 'V': 'vomecrty'}\n",
    "dimensions = {'U': {'lon': 'glamf', 'lat': 'gphif', 'depth': 'depthw', 'time': 'time_counter'},\n",
    "              'V': {'lon': 'glamf', 'lat': 'gphif', 'depth': 'depthw', 'time': 'time_counter'}}\n",
    "\n",
    "# Madagascar indices\n",
    "indices = {'lon': np.arange(3500,4321).tolist(),\n",
    "            'lat': np.arange(900, 1600).tolist()}\n",
    "\n",
    "#%%\n",
    "\n",
    "data_path_wind = '/storage/shared/oceanparcels/output_data/data_Mikael/ERA5/wind/'\n",
    "# Load only a few time steps of the model output, to speed up this test simulation\n",
    "wind_files = sorted(glob(data_path_wind+'ERA5_global_wind_monthly_*.nc'))[81:240]\n",
    "\n",
    "# the mesh mask comes from the ocean data path\n",
    "mesh_mask = data_path_ocean + 'domain_ORCA0083-N006/coordinates.nc'\n",
    "\n",
    "\n",
    "#%%\n",
    "\n",
    "data_path_bathymetry = '/storage/shared/oceanparcels/input_data/MOi/'\n",
    "\n",
    "maskfiles = data_path_bathymetry+'domain_ORCA0083-N006/bathymetry_ORCA12_V3.3.nc'\n",
    "\n",
    "filenames_mask = {'mask': {'lon': maskfiles, 'lat': maskfiles, 'data': maskfiles}}\n",
    "\n",
    "variables_mask = {'mask': 'mask'}\n",
    "dimensions_mask = {'mask': {'lon': 'nav_lon', 'lat': 'nav_lat'}}\n",
    "\n",
    "# Madagascar indices\n",
    "indices_mask = {'lon': np.arange(3500,4321).tolist(),\n",
    "            'lat': np.arange(900, 1600).tolist()}\n",
    "\n",
    "\n",
    "#%%\n",
    "\n",
    "\n",
    "\n",
    "coastfiles = 'distance_to_coast_22_04_22.nc'\n",
    "\n",
    "filenames_coast = {'distance': {'lon': coastfiles, 'lat': coastfiles, 'data': coastfiles}}\n",
    "\n",
    "variables_coast = {'distance': 'distance'}\n",
    "dimensions_coast = {'distance': {'lon': 'lon', 'lat': 'lat'}}\n",
    "\n",
    "# Madagascar indices -> it already has the right indices\n",
    "# indices_coast = {'lon': np.arange(3500,4321).tolist(),\n",
    "#             'lat': np.arange(900, 1600).tolist()}\n",
    "\n",
    "\n",
    "boxfiles = 'box.nc'\n",
    "\n",
    "filenames_coast = {'distance': {'lon': coastfiles, 'lat': coastfiles, 'data': coastfiles}}\n",
    "\n",
    "variables_coast = {'distance': 'distance'}\n",
    "dimensions_coast = {'distance': {'lon': 'lon', 'lat': 'lat'}}\n",
    "\n",
    "\n"
   ]
  },
  {
   "cell_type": "code",
   "execution_count": 4,
   "id": "c6573fa3-0592-4a53-98e0-2532baa90654",
   "metadata": {
    "tags": []
   },
   "outputs": [
    {
     "name": "stderr",
     "output_type": "stream",
     "text": [
      "WARNING: File /storage/shared/oceanparcels/input_data/MOi/domain_ORCA0083-N006/coordinates.nc could not be decoded properly by xarray (version 0.19.0).\n",
      "         It will be opened with no decoding. Filling values might be wrongly parsed.\n",
      "/nethome/6142060/parcels/parcels/field.py:248: VisibleDeprecationWarning: Creating an ndarray from ragged nested sequences (which is a list-or-tuple of lists-or-tuples-or ndarrays with different lengths or shapes) is deprecated. If you meant to do this, you must specify 'dtype=object' when creating the ndarray.\n",
      "  timeslices = np.array(timeslices)\n",
      "/nethome/6142060/parcels/parcels/field.py:250: VisibleDeprecationWarning: Creating an ndarray from ragged nested sequences (which is a list-or-tuple of lists-or-tuples-or ndarrays with different lengths or shapes) is deprecated. If you meant to do this, you must specify 'dtype=object' when creating the ndarray.\n",
      "  dataFiles = np.concatenate(np.array(dataFiles))\n",
      "WARNING: Flipping lat data from North-South to South-North. Note that this may lead to wrong sign for meridional velocity, so tread very carefully\n"
     ]
    }
   ],
   "source": [
    "\n",
    "#%%\n",
    "#Make the fieldsets for the currents, wind, land/sea mask and the coast\n",
    "\n",
    "# note the indices argument and the 'allow time extrapolation=True' to speed up simulation\n",
    "fset_currents = FieldSet.from_nemo(filenames, variables, dimensions, indices=indices) #, allow_time_extrapolation=True)\n",
    "\n",
    "\n",
    "#%%\n",
    "\n",
    "withwind = 0.03  # wind factor of 3%\n",
    "if withwind:\n",
    "    windfiles = {'U': wind_files,\n",
    "                 'V': wind_files}\n",
    "    winddimensions = {'lon': 'longitude', \n",
    "                      'lat': 'latitude', \n",
    "                      'time': 'time'}\n",
    "    windvariables = {'U': 'u10', 'V': 'v10'}\n",
    "    # Madagascar indices\n",
    "    indices = {'lon': np.arange(0,300).tolist(),\n",
    "               'lat': np.arange(300, 550).tolist()}\n",
    "    fset_wind = FieldSet.from_nemo(windfiles, windvariables, winddimensions,indices=indices)#, allow_time_extrapolation=True)\n",
    "    fset_wind.U.set_scaling_factor(withwind)\n",
    "    fset_wind.V.set_scaling_factor(withwind)\n",
    "    \n",
    "\n",
    "#%%\n",
    "\n",
    "\n",
    "fset_mask = FieldSet.from_nemo(filenames_mask, variables_mask, dimensions_mask, indices=indices_mask)\n",
    "fset_coast = FieldSet.from_nemo(filenames_coast, variables_coast, dimensions_coast)\n",
    "\n",
    "#%%\n",
    "\n",
    "if withwind:\n",
    "    fieldset = FieldSet(U=fset_currents.U + fset_wind.U, V=fset_currents.V + fset_wind.V)\n",
    "else:\n",
    "    fieldset = FieldSet(U=fset_currents.U, V=fset_currents.V)\n",
    "    \n",
    "fieldset.add_field(fset_mask.mask)\n",
    "fieldset.add_field(fset_coast.distance)\n",
    "\n"
   ]
  },
  {
   "cell_type": "code",
   "execution_count": 5,
   "id": "bc66b43d-7795-4387-ab53-8fe38a3670f8",
   "metadata": {},
   "outputs": [
    {
     "data": {
      "image/png": "[encoded data removed]",
      "text/plain": [
       "<Figure size 432x288 with 2 Axes>"
      ]
     },
     "metadata": {
      "needs_background": "light"
     },
     "output_type": "display_data"
    }
   ],
   "source": [
    "fset_currents.U.show()"
   ]
  },
  {
   "cell_type": "code",
   "execution_count": 6,
   "id": "94fd60ec-388e-4517-8178-6bd19289fa15",
   "metadata": {},
   "outputs": [
    {
     "name": "stderr",
     "output_type": "stream",
     "text": [
      "/opt/apps/miniconda3/envs/parcels-dev/lib/python3.8/site-packages/matplotlib/colors.py:620: RuntimeWarning: overflow encountered in multiply\n",
      "  xa *= self.N\n"
     ]
    },
    {
     "data": {
      "image/png": "[encoded data removed]",
      "text/plain": [
       "<Figure size 432x288 with 2 Axes>"
      ]
     },
     "metadata": {
      "needs_background": "light"
     },
     "output_type": "display_data"
    }
   ],
   "source": [
    "fieldset.U[0].show()"
   ]
  },
  {
   "cell_type": "code",
   "execution_count": 7,
   "id": "5fc707b0-ee3d-4a28-8587-ffa06dea3384",
   "metadata": {},
   "outputs": [
    {
     "name": "stderr",
     "output_type": "stream",
     "text": [
      "/opt/apps/miniconda3/envs/parcels-dev/lib/python3.8/site-packages/matplotlib/colors.py:1201: RuntimeWarning: invalid value encountered in subtract\n",
      "  resdat -= vmin\n",
      "/opt/apps/miniconda3/envs/parcels-dev/lib/python3.8/site-packages/matplotlib/colors.py:1202: RuntimeWarning: overflow encountered in true_divide\n",
      "  resdat /= (vmax - vmin)\n"
     ]
    },
    {
     "data": {
      "image/png": "[encoded data removed]",
      "text/plain": [
       "<Figure size 432x288 with 2 Axes>"
      ]
     },
     "metadata": {
      "needs_background": "light"
     },
     "output_type": "display_data"
    }
   ],
   "source": [
    "fieldset.U[1].show()"
   ]
  },
  {
   "cell_type": "code",
   "execution_count": 8,
   "id": "d18196ca-3592-4241-a1b1-22e0bdd7d04e",
   "metadata": {},
   "outputs": [
    {
     "data": {
      "image/png": "[encoded data removed]",
      "text/plain": [
       "<Figure size 432x288 with 2 Axes>"
      ]
     },
     "metadata": {
      "needs_background": "light"
     },
     "output_type": "display_data"
    }
   ],
   "source": [
    "fieldset.mask.show()"
   ]
  },
  {
   "cell_type": "markdown",
   "id": "aee4f497-4625-400e-95fa-87292f3aba62",
   "metadata": {},
   "source": [
    "### Choose a small portion of the grid as test"
   ]
  },
  {
   "cell_type": "code",
   "execution_count": 9,
   "id": "96325676-e9b0-44b1-8a0c-e06b40cc57a9",
   "metadata": {},
   "outputs": [],
   "source": [
    "fieldset.mask.data[:,:,650:] = 0\n",
    "fieldset.mask.data[:,:,:220] = 0\n",
    "fieldset.mask.data[:,:165,:] = 0\n",
    "fieldset.mask.data[:,590:,:] = 0"
   ]
  },
  {
   "cell_type": "code",
   "execution_count": 10,
   "id": "ac84cbca-61df-486a-8a10-58ea8a2b90b9",
   "metadata": {},
   "outputs": [
    {
     "data": {
      "image/png": "[encoded data removed]",
      "text/plain": [
       "<Figure size 432x288 with 2 Axes>"
      ]
     },
     "metadata": {
      "needs_background": "light"
     },
     "output_type": "display_data"
    }
   ],
   "source": [
    "fieldset.mask.show()"
   ]
  },
  {
   "cell_type": "code",
   "execution_count": 11,
   "id": "cda6c299-8b50-4bb9-9e9e-41720cfd48ee",
   "metadata": {
    "tags": []
   },
   "outputs": [
    {
     "data": {
      "text/plain": [
       "(array([[ 4.5833335,  4.6666665,  4.75     , ..., 72.75     , 72.833336 ,\n",
       "         72.916664 ],\n",
       "        [ 4.5833335,  4.6666665,  4.75     , ..., 72.75     , 72.833336 ,\n",
       "         72.916664 ],\n",
       "        [ 4.5833335,  4.6666665,  4.75     , ..., 72.75     , 72.833336 ,\n",
       "         72.916664 ],\n",
       "        ...,\n",
       "        [ 4.5833335,  4.6666665,  4.75     , ..., 72.75     , 72.833336 ,\n",
       "         72.916664 ],\n",
       "        [ 4.5833335,  4.6666665,  4.75     , ..., 72.75     , 72.833336 ,\n",
       "         72.916664 ],\n",
       "        [ 4.5833335,  4.6666665,  4.75     , ..., 72.75     , 72.833336 ,\n",
       "         72.916664 ]], dtype=float32),\n",
       " array([[-44.289257, -44.289257, -44.289257, ..., -44.289257, -44.289257,\n",
       "         -44.289257],\n",
       "        [-44.229576, -44.229576, -44.229576, ..., -44.229576, -44.229576,\n",
       "         -44.229576],\n",
       "        [-44.16983 , -44.16983 , -44.16983 , ..., -44.16983 , -44.16983 ,\n",
       "         -44.16983 ],\n",
       "        ...,\n",
       "        [  8.551407,   8.551407,   8.551407, ...,   8.551407,   8.551407,\n",
       "           8.551407],\n",
       "        [  8.633805,   8.633805,   8.633805, ...,   8.633805,   8.633805,\n",
       "           8.633805],\n",
       "        [  8.716186,   8.716186,   8.716186, ...,   8.716186,   8.716186,\n",
       "           8.716186]], dtype=float32))"
      ]
     },
     "execution_count": 11,
     "metadata": {},
     "output_type": "execute_result"
    }
   ],
   "source": [
    "X,Y = np.meshgrid(fieldset.mask.lon, fieldset.mask.lat)\n",
    "X,Y"
   ]
  },
  {
   "cell_type": "markdown",
   "id": "589f2d14-f781-4c54-ac2e-4f9671ef1ce3",
   "metadata": {},
   "source": [
    "#### Find ocean coordinates "
   ]
  },
  {
   "cell_type": "code",
   "execution_count": 12,
   "id": "2e82d506-034d-4fbc-a844-4c97b3a23b4e",
   "metadata": {},
   "outputs": [
    {
     "data": {
      "text/plain": [
       "array([[[False, False, False, ..., False, False, False],\n",
       "        [False, False, False, ..., False, False, False],\n",
       "        [False, False, False, ..., False, False, False],\n",
       "        ...,\n",
       "        [False, False, False, ..., False, False, False],\n",
       "        [False, False, False, ..., False, False, False],\n",
       "        [False, False, False, ..., False, False, False]]])"
      ]
     },
     "execution_count": 12,
     "metadata": {},
     "output_type": "execute_result"
    }
   ],
   "source": [
    "p = fieldset.mask.data == 1\n",
    "\n",
    "p\n",
    "    "
   ]
  },
  {
   "cell_type": "code",
   "execution_count": 13,
   "id": "998cc254-f146-4e54-8309-520bb052d8b6",
   "metadata": {},
   "outputs": [
    {
     "data": {
      "text/plain": [
       "array([[[0., 0., 0., ..., 0., 0., 0.],\n",
       "        [0., 0., 0., ..., 0., 0., 0.],\n",
       "        [0., 0., 0., ..., 0., 0., 0.],\n",
       "        ...,\n",
       "        [0., 0., 0., ..., 0., 0., 0.],\n",
       "        [0., 0., 0., ..., 0., 0., 0.],\n",
       "        [0., 0., 0., ..., 0., 0., 0.]]], dtype=float32)"
      ]
     },
     "execution_count": 13,
     "metadata": {},
     "output_type": "execute_result"
    }
   ],
   "source": [
    "fieldset.mask.data"
   ]
  },
  {
   "cell_type": "code",
   "execution_count": 14,
   "id": "187f6de6-41d6-43a0-ab15-b531fed307d0",
   "metadata": {},
   "outputs": [
    {
     "data": {
      "text/plain": [
       "(1, 700, 821)"
      ]
     },
     "execution_count": 14,
     "metadata": {},
     "output_type": "execute_result"
    }
   ],
   "source": [
    "np.shape(fieldset.mask.data)"
   ]
  },
  {
   "cell_type": "code",
   "execution_count": 15,
   "id": "26809a87-efbf-4053-9a28-929704fb72e5",
   "metadata": {},
   "outputs": [],
   "source": [
    "incomp_arr = fieldset.mask.data\n",
    "\n",
    "avg_arr = ((incomp_arr + np.roll(incomp_arr, -1))/2.0)\n",
    "# array([1.5, 2.5, 3.5, 5. , 3. , 0.5])"
   ]
  },
  {
   "cell_type": "code",
   "execution_count": 16,
   "id": "3809d8de-1aa0-48f6-8222-d003b86188e5",
   "metadata": {},
   "outputs": [
    {
     "data": {
      "text/plain": [
       "array([[[False, False, False, ..., False, False, False],\n",
       "        [False, False, False, ..., False, False, False],\n",
       "        [False, False, False, ..., False, False, False],\n",
       "        ...,\n",
       "        [False, False, False, ..., False, False, False],\n",
       "        [False, False, False, ..., False, False, False],\n",
       "        [False, False, False, ..., False, False, False]]])"
      ]
     },
     "execution_count": 16,
     "metadata": {},
     "output_type": "execute_result"
    }
   ],
   "source": [
    "p2 = np.dstack([incomp_arr, avg_arr]) == 1\n",
    "p2"
   ]
  },
  {
   "cell_type": "code",
   "execution_count": 17,
   "id": "1a337d19-01fe-4227-94f6-fea7b62fcf74",
   "metadata": {},
   "outputs": [
    {
     "data": {
      "text/plain": [
       "(1, 700, 1642)"
      ]
     },
     "execution_count": 17,
     "metadata": {},
     "output_type": "execute_result"
    }
   ],
   "source": [
    "np.shape(np.dstack([incomp_arr, avg_arr]))"
   ]
  },
  {
   "cell_type": "code",
   "execution_count": 18,
   "id": "6cf0e75c-5711-4c0e-b688-db80286afda3",
   "metadata": {},
   "outputs": [
    {
     "data": {
      "text/plain": [
       "array([[False, False, False, ..., False, False, False],\n",
       "       [False, False, False, ..., False, False, False],\n",
       "       [False, False, False, ..., False, False, False],\n",
       "       ...,\n",
       "       [False, False, False, ..., False, False, False],\n",
       "       [False, False, False, ..., False, False, False],\n",
       "       [False, False, False, ..., False, False, False]])"
      ]
     },
     "execution_count": 18,
     "metadata": {},
     "output_type": "execute_result"
    }
   ],
   "source": [
    "p2[0,:,:]"
   ]
  },
  {
   "cell_type": "code",
   "execution_count": 19,
   "id": "23868494-5277-4fa8-8010-5f6067edc5fd",
   "metadata": {},
   "outputs": [
    {
     "data": {
      "text/plain": [
       "array([[False, False, False, ..., False, False, False],\n",
       "       [False, False, False, ..., False, False, False],\n",
       "       [False, False, False, ..., False, False, False],\n",
       "       ...,\n",
       "       [False, False, False, ..., False, False, False],\n",
       "       [False, False, False, ..., False, False, False],\n",
       "       [False, False, False, ..., False, False, False]])"
      ]
     },
     "execution_count": 19,
     "metadata": {},
     "output_type": "execute_result"
    }
   ],
   "source": [
    "p[0,:,:]"
   ]
  },
  {
   "cell_type": "code",
   "execution_count": 20,
   "id": "917f6420-d893-4535-9879-b631a089b220",
   "metadata": {},
   "outputs": [
    {
     "data": {
      "text/plain": [
       "(700, 821)"
      ]
     },
     "execution_count": 20,
     "metadata": {},
     "output_type": "execute_result"
    }
   ],
   "source": [
    "np.shape(X)"
   ]
  },
  {
   "cell_type": "code",
   "execution_count": 21,
   "id": "a5bd2022-52e1-4a0c-a2c9-ad0e118feb1f",
   "metadata": {
    "tags": []
   },
   "outputs": [],
   "source": [
    "box_lon = X[p[0,:,:]]"
   ]
  },
  {
   "cell_type": "code",
   "execution_count": 22,
   "id": "c131a0cf-d31e-4485-909f-39ebc6a6f919",
   "metadata": {},
   "outputs": [
    {
     "data": {
      "text/plain": [
       "(105574,)"
      ]
     },
     "execution_count": 22,
     "metadata": {},
     "output_type": "execute_result"
    }
   ],
   "source": [
    "np.shape(box_lon)"
   ]
  },
  {
   "cell_type": "code",
   "execution_count": 23,
   "id": "1c2f9608-bd79-4f82-bfa8-d2e641bd35d0",
   "metadata": {},
   "outputs": [],
   "source": [
    "box_lat = Y[p[0,:,:]]"
   ]
  },
  {
   "cell_type": "code",
   "execution_count": 24,
   "id": "440f0601-47ce-47cf-9c85-e712fc6592e9",
   "metadata": {},
   "outputs": [
    {
     "data": {
      "text/plain": [
       "[<matplotlib.lines.Line2D at 0x7f46c7a12ee0>]"
      ]
     },
     "execution_count": 24,
     "metadata": {},
     "output_type": "execute_result"
    },
    {
     "data": {
      "image/png": "[encoded data removed]",
      "text/plain": [
       "<Figure size 432x288 with 1 Axes>"
      ]
     },
     "metadata": {
      "needs_background": "light"
     },
     "output_type": "display_data"
    }
   ],
   "source": [
    "plt.plot(box_lon,box_lat,'.')"
   ]
  },
  {
   "cell_type": "code",
   "execution_count": 25,
   "id": "5694f6c4-329d-42c4-8bfa-734db8f5e56a",
   "metadata": {},
   "outputs": [
    {
     "data": {
      "image/png": "[encoded data removed]",
      "text/plain": [
       "<Figure size 432x288 with 1 Axes>"
      ]
     },
     "metadata": {
      "needs_background": "light"
     },
     "output_type": "display_data"
    }
   ],
   "source": [
    "plt.plot(X,Y,'.')\n",
    "plt.show()"
   ]
  },
  {
   "cell_type": "code",
   "execution_count": 26,
   "id": "304d5e55-12eb-41e2-9bfb-01fdba8216ec",
   "metadata": {},
   "outputs": [],
   "source": [
    "\n",
    "day = 86400\n",
    "#fieldset.U[0].show(show_time = 0)\n",
    "#fieldset.U[1].show(show_time=10.5*day)\n",
    "#fieldset.V[0].show(show_time = 0)\n",
    "#fieldset.V[1].show(show_time=10.5*day)\n",
    "#fieldset.mask.show()\n",
    "#fieldset.dist.show()\n",
    "\n",
    "#%%\n",
    "#Custom particles and kernels\n",
    "\n",
    "####################\n",
    "# Custom Particles #\n",
    "####################\n",
    "\n",
    "class oceancc_particle(JITParticle):\n",
    "    # add age of particle\n",
    "    age = Variable('age', dtype=np.int32, initial=0.)\n",
    "    stuck = Variable('stuck', dtype=np.int32, initial=0.)\n",
    "    distance_to_coast = Variable('distance_to_coast', dtype=np.float32, to_write=True,\n",
    "                        initial=fieldset.distance)\n",
    "    prev_lon = Variable('prev_lon', dtype=np.float32, to_write=False,\n",
    "                        initial=attrgetter('lon'))  # the previous longitude\n",
    "    prev_lat = Variable('prev_lat', dtype=np.float32, to_write=False,\n",
    "                        initial=attrgetter('lat'))  # the previous latitude.\n",
    "    first_lon = Variable('first_lon', dtype=np.float32, to_write=False,\n",
    "                        initial=attrgetter('lon'))  # the initial longitude\n",
    "    first_lat = Variable('first_lat', dtype=np.float32, to_write=False,\n",
    "                        initial=attrgetter('lat'))  # the initial latitude.\n",
    "\n",
    "#%%\n",
    "####################\n",
    "# Particle Kernels #\n",
    "####################\n",
    "# Delete particles out of bounds\n",
    "def deleteParticle(particle, fieldset, time):\n",
    "    particle.delete()\n",
    "\n",
    "# Particle ageing kernel\n",
    "def ageingParticle(particle, fieldset, time): #age of the particle (in dt = 60 min) \n",
    "    particle.age += 1 #so age 1 = 60 minutes ( = dt)\n",
    "    \n",
    "def stuckParticle(particle, fieldset, time):\n",
    "    if (particle.prev_lon == particle.lon) and (particle.prev_lat == particle.lat):\n",
    "        particle.stuck += 1\n",
    "    # Set the stored values for next iteration.\n",
    "    particle.prev_lon = particle.lon\n",
    "    particle.prev_lat = particle.lat\n",
    "\n",
    "# Delete old particles\n",
    "def killSwitch(particle, fieldset, time):\n",
    "    if particle.age >= 24*30: #if particle is older than 30 days\n",
    "        particle.delete() #delete it\n",
    "\n",
    "\n",
    "def initloc(particle, fieldset, time):\n",
    "    if time == 0:\n",
    "        particle.first_lon = particle.lon\n",
    "        particle.first_lat = particle.lat\n",
    "\n",
    "# Delete old particles\n",
    "# by repositioning them to their initial location\n",
    "def killSwitch2(particle, fieldset, time):\n",
    "    if particle.age >= 24*30:\n",
    "        particle.lon = particle.first_lon\n",
    "        particle.lat = particle.first_lat\n",
    "        particle.age = 0\n",
    "        particle.stuck = 0\n",
    "        \n",
    "def SampleDistance(particle, fieldset, time):\n",
    "    particle.distance_to_coast = fieldset.distance[particle]\n",
    "\n",
    "def AdvectionRK4_Land(particle, fieldset, time):  \n",
    "    if fieldset.mask[particle] == 0: #or fieldset.distance[particle] < 10:\n",
    "    #if fieldset.distance[particle] <= 10:\n",
    "        #land\n",
    "        particle.lon = particle.prev_lon\n",
    "        particle.lat = particle.prev_lat \n",
    "        \n",
    "            \n",
    "    if fieldset.mask[particle] == 1: # and fieldset.distance[particle] > 10:\n",
    "    #if fieldset.distance[particle] > 10:\n",
    "        #ocean\n",
    "        (u1, v1) = fieldset.UV[particle]\n",
    "        lon1, lat1 = (particle.lon + u1*.5*particle.dt, particle.lat + v1*.5*particle.dt)\n",
    "        (u2, v2) = fieldset.UV[time + .5 * particle.dt, particle.depth, lat1, lon1, particle]\n",
    "        lon2, lat2 = (particle.lon + u2*.5*particle.dt, particle.lat + v2*.5*particle.dt)\n",
    "        (u3, v3) = fieldset.UV[time + .5 * particle.dt, particle.depth, lat2, lon2, particle]\n",
    "        lon3, lat3 = (particle.lon + u3*particle.dt, particle.lat + v3*particle.dt)\n",
    "        (u4, v4) = fieldset.UV[time + particle.dt, particle.depth, lat3, lon3, particle]\n",
    "        particle.lon += (u1 + 2*u2 + 2*u3 + u4) / 6. * particle.dt\n",
    "        particle.lat += (v1 + 2*v2 + 2*v3 + v4) / 6. * particle.dt\n",
    " "
   ]
  },
  {
   "cell_type": "code",
   "execution_count": null,
   "id": "1efd254a-2c58-4e13-b287-5a08b16ae7eb",
   "metadata": {},
   "outputs": [],
   "source": []
  },
  {
   "cell_type": "markdown",
   "id": "aa1e34fb-ebee-4f95-a9e2-a3580f26f3d6",
   "metadata": {},
   "source": [
    "### Particle release locations"
   ]
  },
  {
   "cell_type": "code",
   "execution_count": 28,
   "id": "205236bf-f318-4909-acbc-45d244097fa7",
   "metadata": {},
   "outputs": [],
   "source": [
    "res = 0.05 #resolution in degrees\n",
    "\n",
    "minlon = 26\n",
    "maxlon = 57\n",
    "minlat = -32\n",
    "maxlat = -4\n",
    "grid = np.mgrid[int(minlon):int(maxlon):res,int(minlat):int(maxlat):res]+0.5\n",
    "    \n",
    "  "
   ]
  },
  {
   "cell_type": "code",
   "execution_count": 29,
   "id": "d9352bbf-834e-473a-8af4-ad2a8a9a95a5",
   "metadata": {},
   "outputs": [
    {
     "data": {
      "text/plain": [
       "array([[[ 26.5 ,  26.5 ,  26.5 , ...,  26.5 ,  26.5 ,  26.5 ],\n",
       "        [ 26.55,  26.55,  26.55, ...,  26.55,  26.55,  26.55],\n",
       "        [ 26.6 ,  26.6 ,  26.6 , ...,  26.6 ,  26.6 ,  26.6 ],\n",
       "        ...,\n",
       "        [ 57.35,  57.35,  57.35, ...,  57.35,  57.35,  57.35],\n",
       "        [ 57.4 ,  57.4 ,  57.4 , ...,  57.4 ,  57.4 ,  57.4 ],\n",
       "        [ 57.45,  57.45,  57.45, ...,  57.45,  57.45,  57.45]],\n",
       "\n",
       "       [[-31.5 , -31.45, -31.4 , ...,  -3.65,  -3.6 ,  -3.55],\n",
       "        [-31.5 , -31.45, -31.4 , ...,  -3.65,  -3.6 ,  -3.55],\n",
       "        [-31.5 , -31.45, -31.4 , ...,  -3.65,  -3.6 ,  -3.55],\n",
       "        ...,\n",
       "        [-31.5 , -31.45, -31.4 , ...,  -3.65,  -3.6 ,  -3.55],\n",
       "        [-31.5 , -31.45, -31.4 , ...,  -3.65,  -3.6 ,  -3.55],\n",
       "        [-31.5 , -31.45, -31.4 , ...,  -3.65,  -3.6 ,  -3.55]]])"
      ]
     },
     "execution_count": 29,
     "metadata": {},
     "output_type": "execute_result"
    }
   ],
   "source": [
    "grid"
   ]
  },
  {
   "cell_type": "code",
   "execution_count": 88,
   "id": "de6ee9c7-a694-4c7a-a340-f7b6a8e0423d",
   "metadata": {},
   "outputs": [
    {
     "data": {
      "text/plain": [
       "8680000"
      ]
     },
     "execution_count": 88,
     "metadata": {},
     "output_type": "execute_result"
    }
   ],
   "source": [
    "n=grid[0].size\n",
    "n"
   ]
  },
  {
   "cell_type": "code",
   "execution_count": 30,
   "id": "fc756dd7-8fe4-4c23-a20a-8ab4622cdc88",
   "metadata": {},
   "outputs": [
    {
     "data": {
      "text/plain": [
       "347200"
      ]
     },
     "execution_count": 30,
     "metadata": {},
     "output_type": "execute_result"
    }
   ],
   "source": [
    "n=grid[0].size\n",
    "n"
   ]
  },
  {
   "cell_type": "code",
   "execution_count": 31,
   "id": "f8077cfd-8d34-4d62-8237-c70d91d53bca",
   "metadata": {},
   "outputs": [],
   "source": [
    "lons = np.reshape(grid[0],n)\n",
    "lats = np.reshape(grid[1],n)"
   ]
  },
  {
   "cell_type": "code",
   "execution_count": 33,
   "id": "eee10409-4004-49a0-a0db-49bedf7873b1",
   "metadata": {},
   "outputs": [],
   "source": [
    "Land = fieldset.mask\n",
    "dd = 1\n",
    "\n",
    "[lons,lats]=[np.array([lo for lo, la in zip(lons,lats) if Land[0,0,la,lo]==dd  ]),np.array([la for lo, la in zip(lons,lats) if Land[0,0,la,lo]==dd ])]\n",
    "\n",
    "\n"
   ]
  },
  {
   "cell_type": "code",
   "execution_count": 34,
   "id": "28960c8b-0c4d-440f-8bb9-f5479705176f",
   "metadata": {},
   "outputs": [
    {
     "data": {
      "image/png": "[encoded data removed]",
      "text/plain": [
       "<Figure size 432x288 with 2 Axes>"
      ]
     },
     "metadata": {
      "needs_background": "light"
     },
     "output_type": "display_data"
    }
   ],
   "source": [
    "Land.show()"
   ]
  },
  {
   "cell_type": "code",
   "execution_count": 35,
   "id": "1174a924-1c07-4ea7-a5ff-7917f6de1bd2",
   "metadata": {},
   "outputs": [
    {
     "data": {
      "text/plain": [
       "[array([29.7 , 29.75, 29.8 , ..., 57.45, 57.45, 57.45]),\n",
       " array([-31.5 , -31.5 , -31.5 , ...,  -3.65,  -3.6 ,  -3.55])]"
      ]
     },
     "execution_count": 35,
     "metadata": {},
     "output_type": "execute_result"
    }
   ],
   "source": [
    "[lons,lats]"
   ]
  },
  {
   "cell_type": "code",
   "execution_count": 36,
   "id": "28fb9d8a-125e-498e-9dd9-b5d08739ef91",
   "metadata": {},
   "outputs": [],
   "source": [
    "np.save('lons_005.npy',(lons))\n",
    "np.save('lats_005.npy',(lats))"
   ]
  },
  {
   "cell_type": "code",
   "execution_count": null,
   "id": "60e9230e-e8dc-442b-8106-439215ead3ed",
   "metadata": {},
   "outputs": [],
   "source": []
  },
  {
   "cell_type": "code",
   "execution_count": 37,
   "id": "1d0949ab-6f9b-4ee8-a9ca-8725d31d2677",
   "metadata": {},
   "outputs": [],
   "source": [
    "lonss = np.load('lons_005.npy')\n",
    "latss = np.load('lats_005.npy')\n",
    "depths = np.ones(np.shape(lonss)[0])*0.5"
   ]
  },
  {
   "cell_type": "code",
   "execution_count": 28,
   "id": "35be8244-b777-41d0-89e3-bd576ae75ab4",
   "metadata": {},
   "outputs": [
    {
     "data": {
      "text/plain": [
       "5282441"
      ]
     },
     "execution_count": 28,
     "metadata": {},
     "output_type": "execute_result"
    }
   ],
   "source": [
    "len(lonss)"
   ]
  },
  {
   "cell_type": "code",
   "execution_count": 38,
   "id": "2ad2c02b-d689-482d-a2be-4c153ce05e61",
   "metadata": {},
   "outputs": [
    {
     "data": {
      "text/plain": [
       "211072"
      ]
     },
     "execution_count": 38,
     "metadata": {},
     "output_type": "execute_result"
    }
   ],
   "source": [
    "len(lonss)"
   ]
  },
  {
   "cell_type": "code",
   "execution_count": 39,
   "id": "b71492e0-e564-4e12-a377-b07a5ef059e2",
   "metadata": {
    "tags": []
   },
   "outputs": [
    {
     "data": {
      "text/plain": [
       "array([29.7 , 29.75, 29.8 , ..., 57.45, 57.45, 57.45])"
      ]
     },
     "execution_count": 39,
     "metadata": {},
     "output_type": "execute_result"
    }
   ],
   "source": [
    "lonss"
   ]
  },
  {
   "cell_type": "code",
   "execution_count": 40,
   "id": "18204375-fbeb-43a3-8327-93897d68d47b",
   "metadata": {},
   "outputs": [
    {
     "data": {
      "text/plain": [
       "[<matplotlib.lines.Line2D at 0x7f811c9770a0>]"
      ]
     },
     "execution_count": 40,
     "metadata": {},
     "output_type": "execute_result"
    },
    {
     "data": {
      "image/png": "[encoded data removed]",
      "text/plain": [
       "<Figure size 432x288 with 1 Axes>"
      ]
     },
     "metadata": {
      "needs_background": "light"
     },
     "output_type": "display_data"
    }
   ],
   "source": [
    "plt.plot(lonss,latss,'.')"
   ]
  },
  {
   "cell_type": "markdown",
   "id": "d2173357-540d-4242-b7d2-74d7ce4a2813",
   "metadata": {},
   "source": [
    "### Release one particle at every 0.05 degree"
   ]
  },
  {
   "cell_type": "code",
   "execution_count": null,
   "id": "addcd2a0-eb09-4250-97e6-d09d706836e5",
   "metadata": {},
   "outputs": [],
   "source": []
  },
  {
   "cell_type": "code",
   "execution_count": null,
   "id": "41432306-34ad-4546-aab5-03a369361009",
   "metadata": {},
   "outputs": [],
   "source": []
  },
  {
   "cell_type": "code",
   "execution_count": 54,
   "id": "b6898b4c-7892-47ee-a186-566173b91ee6",
   "metadata": {
    "tags": []
   },
   "outputs": [],
   "source": [
    "\n",
    "pset = ParticleSet.from_list(fieldset=fieldset, pclass=oceancc_particle, lon=lonss, lat=latss, \n",
    "                        depth = depths, time = 60*60*24*15)\n"
   ]
  },
  {
   "cell_type": "code",
   "execution_count": 55,
   "id": "31be37df-0fe7-4ccb-8564-7b1c20b58179",
   "metadata": {},
   "outputs": [
    {
     "data": {
      "image/png": "[encoded data removed]",
      "text/plain": [
       "<Figure size 432x288 with 2 Axes>"
      ]
     },
     "metadata": {
      "needs_background": "light"
     },
     "output_type": "display_data"
    }
   ],
   "source": [
    "pset.show(field = fieldset.U[0])"
   ]
  },
  {
   "cell_type": "code",
   "execution_count": 56,
   "id": "5c8656b6-2509-4164-a47f-2443e43ff8e9",
   "metadata": {},
   "outputs": [],
   "source": [
    "#pset.show()"
   ]
  },
  {
   "cell_type": "markdown",
   "id": "2e240769-dd54-486b-a3f5-8f70a92d2a4d",
   "metadata": {},
   "source": [
    "### Run the model a couple of times for 5 days"
   ]
  },
  {
   "cell_type": "code",
   "execution_count": 57,
   "id": "61000ff0-931c-40de-94d0-f5fd38287167",
   "metadata": {
    "tags": []
   },
   "outputs": [
    {
     "name": "stderr",
     "output_type": "stream",
     "text": [
      "sh: None: opdracht niet gevonden\n",
      "INFO: Compiled Arrayoceancc_particleageingParticlekillSwitchstuckParticleAdvectionRK4_LandSampleDistance ==> /tmp/parcels-26045/liba89e752408881357045b5b880643458b_0.so\n",
      "100%|█████████████████████████████| 432000.0/432000.0 [01:08<00:00, 6343.26it/s]\n"
     ]
    },
    {
     "name": "stdout",
     "output_type": "stream",
     "text": [
      "done\n"
     ]
    }
   ],
   "source": [
    "\n",
    "kernels = pset.Kernel(ageingParticle) + pset.Kernel(killSwitch) + pset.Kernel(stuckParticle) +  pset.Kernel(AdvectionRK4_Land) + pset.Kernel(SampleDistance)\n",
    "\n",
    "output_file = pset.ParticleFile(name='2022_09_22_whole_grid_005_windage_3_day15.nc', \n",
    "                         outputdt=timedelta(hours=3))#, convert_at_end=True)\n",
    "\n",
    "pset.execute(pyfunc=kernels, output_file=output_file, runtime=timedelta(days=5), dt=timedelta(minutes=60), verbose_progress=True, recovery={ErrorCode.ErrorOutOfBounds: DeleteParticle})\n",
    "\n",
    "output_file.close()\n",
    "\n",
    "print('done')\n",
    "\n",
    "\n",
    "\n"
   ]
  },
  {
   "cell_type": "code",
   "execution_count": 58,
   "id": "3dcc9298-77d6-42b4-9d84-9dfdd47195e9",
   "metadata": {},
   "outputs": [
    {
     "name": "stderr",
     "output_type": "stream",
     "text": [
      "/opt/apps/miniconda3/envs/parcels-dev/lib/python3.8/site-packages/matplotlib/colors.py:620: RuntimeWarning: overflow encountered in multiply\n",
      "  xa *= self.N\n"
     ]
    },
    {
     "data": {
      "image/png": "[encoded data removed]",
      "text/plain": [
       "<Figure size 432x288 with 2 Axes>"
      ]
     },
     "metadata": {
      "needs_background": "light"
     },
     "output_type": "display_data"
    }
   ],
   "source": [
    "pset.show(field = fieldset.U[0])"
   ]
  },
  {
   "cell_type": "code",
   "execution_count": null,
   "id": "699b4cc4-c785-4287-98fa-678b53eebfc8",
   "metadata": {},
   "outputs": [],
   "source": [
    "pset.show()"
   ]
  },
  {
   "cell_type": "markdown",
   "id": "f4118c90-deee-4a8d-b9ce-183f89a12023",
   "metadata": {},
   "source": [
    "## Now put it in a temporal network"
   ]
  },
  {
   "cell_type": "code",
   "execution_count": 27,
   "id": "6a40f99e-e35d-4321-b445-c6673dddd629",
   "metadata": {},
   "outputs": [],
   "source": [
    "import xarray as xr\n",
    "import matplotlib.pyplot as plt\n",
    "import numpy as np"
   ]
  },
  {
   "cell_type": "code",
   "execution_count": 28,
   "id": "b7af7ef5-56bc-413d-b068-0301a4e4b9da",
   "metadata": {},
   "outputs": [],
   "source": [
    "#output_files = sorted(glob('2022_09_12_network_stuff_windage_0_day*.nc'))\n",
    "\n",
    "output_files = sorted(glob('2022_09_22_whole_grid_005_windage_3_day*.nc'))"
   ]
  },
  {
   "cell_type": "code",
   "execution_count": 29,
   "id": "e6877e48-6c3a-4929-acf6-bc9971e61577",
   "metadata": {},
   "outputs": [
    {
     "data": {
      "text/plain": [
       "['2022_09_22_whole_grid_005_windage_3_day0.nc',\n",
       " '2022_09_22_whole_grid_005_windage_3_day10.nc',\n",
       " '2022_09_22_whole_grid_005_windage_3_day15.nc',\n",
       " '2022_09_22_whole_grid_005_windage_3_day5.nc']"
      ]
     },
     "execution_count": 29,
     "metadata": {},
     "output_type": "execute_result"
    }
   ],
   "source": [
    "output_files"
   ]
  },
  {
   "cell_type": "markdown",
   "id": "818dd741-c81d-4c04-8082-ca36a1dd9584",
   "metadata": {},
   "source": [
    "### Calculate the lon and lat values of starting and ending points\n",
    "Take every 5th lon point, otherwise way too many nodes"
   ]
  },
  {
   "cell_type": "code",
   "execution_count": 30,
   "id": "be55ad3c-8d81-4a67-b168-365fb6dfed14",
   "metadata": {},
   "outputs": [],
   "source": [
    "parcels = xr.open_dataset(output_files[0])\n",
    "\n",
    "start_lat = np.array(parcels.lat[:,0])\n",
    "start_lon = np.array(parcels.lon.isel(obs=0))\n",
    "\n",
    "#loc_lat = np.array(parcels.lat[:,0])[::5]\n",
    "#loc_lon = np.array(parcels.lon.isel(obs=0))[::5]"
   ]
  },
  {
   "cell_type": "code",
   "execution_count": null,
   "id": "da37bb1d-31a2-4b9e-99bd-9575758bb329",
   "metadata": {},
   "outputs": [],
   "source": []
  },
  {
   "cell_type": "code",
   "execution_count": null,
   "id": "0f35f34b-6906-4c62-9a26-c45b553448d0",
   "metadata": {},
   "outputs": [],
   "source": []
  },
  {
   "cell_type": "code",
   "execution_count": null,
   "id": "6c4374c7-6708-49da-96bc-0fdb11eb0774",
   "metadata": {},
   "outputs": [],
   "source": []
  },
  {
   "cell_type": "code",
   "execution_count": 31,
   "id": "41eb8f4e-f5c1-4e89-a759-0271186a3aaf",
   "metadata": {},
   "outputs": [],
   "source": [
    "def end_lon_lat(file):\n",
    "    \n",
    "    parcels = xr.open_dataset(file)\n",
    "    \n",
    "    end_lon = np.array(parcels.lon.isel(obs=24))\n",
    "    end_lat = np.array(parcels.lat[:,-1])\n",
    "\n",
    "    return end_lon, end_lat"
   ]
  },
  {
   "cell_type": "code",
   "execution_count": null,
   "id": "34babbb8-b8ab-44ac-babc-d3faa17dac0f",
   "metadata": {},
   "outputs": [],
   "source": []
  },
  {
   "cell_type": "code",
   "execution_count": 32,
   "id": "5ec13bfa-cfa8-4926-9868-6b0bd8b32ce3",
   "metadata": {},
   "outputs": [],
   "source": [
    "end_lon = np.zeros((len(output_files),len(parcels.lat[:,-1])))\n",
    "end_lat = np.zeros((len(output_files),len(parcels.lat[:,-1])))\n",
    "\n",
    "for i in range(len(output_files)):\n",
    "    end_lon_a, end_lat_a = end_lon_lat(output_files[i])\n",
    "    end_lon[i,:] = end_lon_a\n",
    "    end_lat[i,:] = end_lat_a"
   ]
  },
  {
   "cell_type": "code",
   "execution_count": 33,
   "id": "0e795d95-ccd4-4727-a01f-bd639a22412f",
   "metadata": {},
   "outputs": [
    {
     "data": {
      "text/plain": [
       "array([[ 29.7 , -31.5 ],\n",
       "       [ 29.75, -31.5 ],\n",
       "       [ 29.8 , -31.5 ],\n",
       "       ...,\n",
       "       [ 57.45,  -3.65],\n",
       "       [ 57.45,  -3.6 ],\n",
       "       [ 57.45,  -3.55]])"
      ]
     },
     "execution_count": 33,
     "metadata": {},
     "output_type": "execute_result"
    }
   ],
   "source": [
    "start_lon_lat = np.zeros((len(start_lon),2))\n",
    "\n",
    "for i in range(len(start_lon)):\n",
    "    start_lon_lat[i,0] = start_lon[i]\n",
    "    start_lon_lat[i,1] = start_lat[i]\n",
    "    \n",
    "start_lon_lat\n",
    "\n",
    "# loc_lon_lat = np.zeros((len(loc_lon),2))\n",
    "\n",
    "# for i in range(len(loc_lon)):\n",
    "#     loc_lon_lat[i,0] = loc_lon[i]\n",
    "#     loc_lon_lat[i,1] = loc_lat[i]\n",
    "    \n"
   ]
  },
  {
   "cell_type": "code",
   "execution_count": 34,
   "id": "8f4b2d83-468f-43ed-93b9-b4a3b4e5f8f5",
   "metadata": {},
   "outputs": [
    {
     "data": {
      "text/plain": [
       "211072"
      ]
     },
     "execution_count": 34,
     "metadata": {},
     "output_type": "execute_result"
    }
   ],
   "source": [
    "len(start_lon)"
   ]
  },
  {
   "cell_type": "code",
   "execution_count": 37,
   "id": "232e27b6-4e8b-4a0f-b1a4-85309a47bcd7",
   "metadata": {
    "collapsed": true,
    "jupyter": {
     "outputs_hidden": true
    },
    "tags": []
   },
   "outputs": [
    {
     "data": {
      "text/plain": [
       "array([[[ 29.66316795, -31.51061058],\n",
       "        [ 29.57928658, -31.58317947],\n",
       "        [ 29.49876213, -31.64950752],\n",
       "        ...,\n",
       "        [ 57.25385143,  -4.40713041],\n",
       "        [ 57.25184536,  -4.36680582],\n",
       "        [ 57.24654815,  -4.32591746]],\n",
       "\n",
       "       [[ 29.71290016, -31.45293045],\n",
       "        [ 29.75786018, -31.45334244],\n",
       "        [ 29.80704117, -31.45466232],\n",
       "        ...,\n",
       "        [ 57.81549016,  -4.35530341],\n",
       "        [ 57.80510548,  -4.3131565 ],\n",
       "        [ 57.79443472,  -4.27596737]],\n",
       "\n",
       "       [[ 29.66625214, -31.46250153],\n",
       "        [ 29.75511742, -31.45311356],\n",
       "        [ 29.80280495, -31.45453072],\n",
       "        ...,\n",
       "        [ 57.82795098,  -4.79480615],\n",
       "        [ 57.82767542,  -4.74877398],\n",
       "        [ 57.82811397,  -4.70383955]],\n",
       "\n",
       "       [[ 29.66604614, -31.46095085],\n",
       "        [ 29.69283676, -31.45497513],\n",
       "        [ 29.72195435, -31.4536705 ],\n",
       "        ...,\n",
       "        [ 57.79719196,  -3.80081977],\n",
       "        [ 57.81352557,  -3.74624189],\n",
       "        [ 57.82237102,  -3.69121313]]])"
      ]
     },
     "execution_count": 37,
     "metadata": {},
     "output_type": "execute_result"
    }
   ],
   "source": [
    "end_lon_lat = np.zeros((len(output_files),np.shape(end_lon)[1],2))\n",
    "\n",
    "for i in range(len(output_files)):\n",
    "    for j in range(len(start_lon)):\n",
    "        end_lon_lat[i,j,0] = end_lon[i,j]\n",
    "        end_lon_lat[i,j,1] = end_lat[i,j]\n",
    "    \n",
    "end_lon_lat"
   ]
  },
  {
   "cell_type": "code",
   "execution_count": 50,
   "id": "02561be0-2652-4c17-8e23-98d97034c310",
   "metadata": {
    "tags": []
   },
   "outputs": [],
   "source": [
    "#locations = np.sort(np.concatenate((start_lon_lat, end_lon_lat,end_lon_lat2)))\n",
    "\n",
    "#locations = loc_lon_lat\n",
    "\n",
    "#locations"
   ]
  },
  {
   "cell_type": "markdown",
   "id": "5498aaf2-80ea-4631-84dd-0885651d5b5a",
   "metadata": {},
   "source": [
    "### Nodes"
   ]
  },
  {
   "cell_type": "code",
   "execution_count": 80,
   "id": "7211da9b-799e-4307-869f-fa08faef33f5",
   "metadata": {},
   "outputs": [],
   "source": [
    "fieldset.mask.data[:,:,650:] = 0\n",
    "fieldset.mask.data[:,:,:220] = 0\n",
    "fieldset.mask.data[:,:165,:] = 0\n",
    "fieldset.mask.data[:,590:,:] = 0"
   ]
  },
  {
   "cell_type": "code",
   "execution_count": 81,
   "id": "e1675984-4a7d-4972-a82e-29a4d61542d1",
   "metadata": {},
   "outputs": [
    {
     "data": {
      "text/plain": [
       "(700, 821)"
      ]
     },
     "execution_count": 81,
     "metadata": {},
     "output_type": "execute_result"
    }
   ],
   "source": [
    "np.shape(X)"
   ]
  },
  {
   "cell_type": "code",
   "execution_count": 82,
   "id": "69272e50-500d-4c81-9b4c-abde7af942db",
   "metadata": {
    "tags": []
   },
   "outputs": [
    {
     "data": {
      "text/plain": [
       "array([[22.916666, 23.      , 23.083334, ..., 58.5     , 58.583332,\n",
       "        58.666668],\n",
       "       [22.916666, 23.      , 23.083334, ..., 58.5     , 58.583332,\n",
       "        58.666668],\n",
       "       [22.916666, 23.      , 23.083334, ..., 58.5     , 58.583332,\n",
       "        58.666668],\n",
       "       ...,\n",
       "       [22.916666, 23.      , 23.083334, ..., 58.5     , 58.583332,\n",
       "        58.666668],\n",
       "       [22.916666, 23.      , 23.083334, ..., 58.5     , 58.583332,\n",
       "        58.666668],\n",
       "       [22.916666, 23.      , 23.083334, ..., 58.5     , 58.583332,\n",
       "        58.666668]], dtype=float32)"
      ]
     },
     "execution_count": 82,
     "metadata": {},
     "output_type": "execute_result"
    }
   ],
   "source": [
    "X_ = X[165:590,220:650]\n",
    "X_"
   ]
  },
  {
   "cell_type": "code",
   "execution_count": 83,
   "id": "38390620-7711-42da-81ab-e8ee4820a514",
   "metadata": {
    "tags": []
   },
   "outputs": [
    {
     "data": {
      "text/plain": [
       "array([[-33.633324  , -33.633324  , -33.633324  , ..., -33.633324  ,\n",
       "        -33.633324  , -33.633324  ],\n",
       "       [-33.56391   , -33.56391   , -33.56391   , ..., -33.56391   ,\n",
       "        -33.56391   , -33.56391   ],\n",
       "       [-33.494446  , -33.494446  , -33.494446  , ..., -33.494446  ,\n",
       "        -33.494446  , -33.494446  ],\n",
       "       ...,\n",
       "       [ -0.58332324,  -0.58332324,  -0.58332324, ...,  -0.58332324,\n",
       "         -0.58332324,  -0.58332324],\n",
       "       [ -0.49999365,  -0.49999365,  -0.49999365, ...,  -0.49999365,\n",
       "         -0.49999365,  -0.49999365],\n",
       "       [ -0.416663  ,  -0.416663  ,  -0.416663  , ...,  -0.416663  ,\n",
       "         -0.416663  ,  -0.416663  ]], dtype=float32)"
      ]
     },
     "execution_count": 83,
     "metadata": {},
     "output_type": "execute_result"
    }
   ],
   "source": [
    "Y_ = Y[165:590,220:650]\n",
    "Y_"
   ]
  },
  {
   "cell_type": "code",
   "execution_count": 84,
   "id": "3d15272d-6bde-45e9-9fdb-97a463ef90a7",
   "metadata": {},
   "outputs": [
    {
     "data": {
      "text/plain": [
       "(425, 430)"
      ]
     },
     "execution_count": 84,
     "metadata": {},
     "output_type": "execute_result"
    }
   ],
   "source": [
    "np.shape(X_)"
   ]
  },
  {
   "cell_type": "code",
   "execution_count": 85,
   "id": "8adc2e9e-e4d6-41ce-a393-8fdf188c699c",
   "metadata": {},
   "outputs": [
    {
     "data": {
      "text/plain": [
       "(425, 430)"
      ]
     },
     "execution_count": 85,
     "metadata": {},
     "output_type": "execute_result"
    }
   ],
   "source": [
    "np.shape(Y_)"
   ]
  },
  {
   "cell_type": "code",
   "execution_count": 86,
   "id": "6a915ac9-163b-4537-97cd-1bd784c8be5b",
   "metadata": {},
   "outputs": [
    {
     "data": {
      "image/png": "[encoded data removed]",
      "text/plain": [
       "<Figure size 432x288 with 1 Axes>"
      ]
     },
     "metadata": {
      "needs_background": "light"
     },
     "output_type": "display_data"
    }
   ],
   "source": [
    "plt.figure()\n",
    "plt.plot(X_,Y_,'.')\n",
    "plt.show()"
   ]
  },
  {
   "cell_type": "code",
   "execution_count": 87,
   "id": "7ab9d13f-a093-482a-a595-dcb5a49034ed",
   "metadata": {
    "tags": []
   },
   "outputs": [
    {
     "data": {
      "text/plain": [
       "array([[22.916666, 23.25    , 23.583334, ..., 57.916668, 58.25    ,\n",
       "        58.583332],\n",
       "       [22.916666, 23.25    , 23.583334, ..., 57.916668, 58.25    ,\n",
       "        58.583332],\n",
       "       [22.916666, 23.25    , 23.583334, ..., 57.916668, 58.25    ,\n",
       "        58.583332],\n",
       "       ...,\n",
       "       [22.916666, 23.25    , 23.583334, ..., 57.916668, 58.25    ,\n",
       "        58.583332],\n",
       "       [22.916666, 23.25    , 23.583334, ..., 57.916668, 58.25    ,\n",
       "        58.583332],\n",
       "       [22.916666, 23.25    , 23.583334, ..., 57.916668, 58.25    ,\n",
       "        58.583332]], dtype=float32)"
      ]
     },
     "execution_count": 87,
     "metadata": {},
     "output_type": "execute_result"
    }
   ],
   "source": [
    "#X__ = X_[::2,::2]\n",
    "X__ = X_[::4,::4]\n",
    "X__"
   ]
  },
  {
   "cell_type": "code",
   "execution_count": 88,
   "id": "d0ab5465-a434-40dd-b54b-160e43a53274",
   "metadata": {
    "tags": []
   },
   "outputs": [
    {
     "data": {
      "text/plain": [
       "array([[-33.633324 , -33.633324 , -33.633324 , ..., -33.633324 ,\n",
       "        -33.633324 , -33.633324 ],\n",
       "       [-33.355343 , -33.355343 , -33.355343 , ..., -33.355343 ,\n",
       "        -33.355343 , -33.355343 ],\n",
       "       [-33.076473 , -33.076473 , -33.076473 , ..., -33.076473 ,\n",
       "        -33.076473 , -33.076473 ],\n",
       "       ...,\n",
       "       [ -1.0832688,  -1.0832688,  -1.0832688, ...,  -1.0832688,\n",
       "         -1.0832688,  -1.0832688],\n",
       "       [ -0.7499786,  -0.7499786,  -0.7499786, ...,  -0.7499786,\n",
       "         -0.7499786,  -0.7499786],\n",
       "       [ -0.416663 ,  -0.416663 ,  -0.416663 , ...,  -0.416663 ,\n",
       "         -0.416663 ,  -0.416663 ]], dtype=float32)"
      ]
     },
     "execution_count": 88,
     "metadata": {},
     "output_type": "execute_result"
    }
   ],
   "source": [
    "#Y__ = Y_[::2,::2]\n",
    "Y__ = Y_[::4,::4]\n",
    "Y__"
   ]
  },
  {
   "cell_type": "code",
   "execution_count": 89,
   "id": "cd2002c9-1cc8-4cc3-905b-e2d08f252f57",
   "metadata": {
    "tags": []
   },
   "outputs": [
    {
     "data": {
      "text/plain": [
       "array([[[False, False, False, ...,  True,  True,  True],\n",
       "        [False, False, False, ...,  True,  True,  True],\n",
       "        [False, False, False, ...,  True,  True,  True],\n",
       "        ...,\n",
       "        [False, False, False, ...,  True,  True,  True],\n",
       "        [False, False, False, ...,  True,  True,  True],\n",
       "        [False, False, False, ...,  True,  True,  True]]])"
      ]
     },
     "execution_count": 89,
     "metadata": {},
     "output_type": "execute_result"
    }
   ],
   "source": [
    "p_ = p[:,165:590,220:650]\n",
    "p_"
   ]
  },
  {
   "cell_type": "code",
   "execution_count": 90,
   "id": "da75006b-a066-4acf-bbb3-75e62d8e6841",
   "metadata": {
    "tags": []
   },
   "outputs": [
    {
     "data": {
      "text/plain": [
       "array([[[False, False, False, ...,  True,  True,  True],\n",
       "        [False, False, False, ...,  True,  True,  True],\n",
       "        [False, False, False, ...,  True,  True,  True],\n",
       "        ...,\n",
       "        [False, False, False, ...,  True,  True,  True],\n",
       "        [False, False, False, ...,  True,  True,  True],\n",
       "        [False, False, False, ...,  True,  True,  True]]])"
      ]
     },
     "execution_count": 90,
     "metadata": {},
     "output_type": "execute_result"
    }
   ],
   "source": [
    "#p__ = p_[:,::2,::2]\n",
    "p__ = p_[:,::4,::4]\n",
    "p__"
   ]
  },
  {
   "cell_type": "code",
   "execution_count": 91,
   "id": "5e151c22-10e2-44d8-8fcb-2bdc3679a011",
   "metadata": {},
   "outputs": [],
   "source": [
    "box_lon_ = X_[p_[0,:,:]]"
   ]
  },
  {
   "cell_type": "code",
   "execution_count": 92,
   "id": "4aa00075-229e-4e0a-a2cd-b65fadbbe85c",
   "metadata": {},
   "outputs": [],
   "source": [
    "box_lat_ = Y_[p_[0,:,:]]"
   ]
  },
  {
   "cell_type": "code",
   "execution_count": 93,
   "id": "2b68a378-ae84-45d8-be98-cb6d461a2982",
   "metadata": {},
   "outputs": [],
   "source": [
    "box_lon__ = X__[p__[0,:,:]]\n",
    "box_lat__ = Y__[p__[0,:,:]]"
   ]
  },
  {
   "cell_type": "code",
   "execution_count": 94,
   "id": "ff25b56e-0b7a-47ef-ac16-de61b8778cfd",
   "metadata": {
    "tags": []
   },
   "outputs": [
    {
     "data": {
      "text/plain": [
       "array([26.916666, 27.25    , 27.583334, ..., 57.916668, 58.25    ,\n",
       "       58.583332], dtype=float32)"
      ]
     },
     "execution_count": 94,
     "metadata": {},
     "output_type": "execute_result"
    }
   ],
   "source": [
    "box_lon__"
   ]
  },
  {
   "cell_type": "code",
   "execution_count": 95,
   "id": "fee15093-550c-4989-a82c-6e6ad83bc7bd",
   "metadata": {},
   "outputs": [
    {
     "data": {
      "text/plain": [
       "array([-33.633324, -33.633324, -33.633324, ...,  -0.416663,  -0.416663,\n",
       "        -0.416663], dtype=float32)"
      ]
     },
     "execution_count": 95,
     "metadata": {},
     "output_type": "execute_result"
    }
   ],
   "source": [
    "box_lat__"
   ]
  },
  {
   "cell_type": "code",
   "execution_count": 96,
   "id": "ddc76b81-33fe-4cbc-81ea-7dcb5c93a640",
   "metadata": {},
   "outputs": [
    {
     "data": {
      "text/plain": [
       "[<matplotlib.lines.Line2D at 0x7f46c7867370>]"
      ]
     },
     "execution_count": 96,
     "metadata": {},
     "output_type": "execute_result"
    },
    {
     "data": {
      "image/png": "[encoded data removed]",
      "text/plain": [
       "<Figure size 432x288 with 1 Axes>"
      ]
     },
     "metadata": {
      "needs_background": "light"
     },
     "output_type": "display_data"
    }
   ],
   "source": [
    "plt.plot(box_lon_,box_lat_,'.')"
   ]
  },
  {
   "cell_type": "code",
   "execution_count": 97,
   "id": "0b550d26-83c2-4029-bf06-ef0bf5b8079b",
   "metadata": {},
   "outputs": [
    {
     "data": {
      "text/plain": [
       "[<matplotlib.lines.Line2D at 0x7f4668db47f0>]"
      ]
     },
     "execution_count": 97,
     "metadata": {},
     "output_type": "execute_result"
    },
    {
     "data": {
      "image/png": "[encoded data removed]",
      "text/plain": [
       "<Figure size 432x288 with 1 Axes>"
      ]
     },
     "metadata": {
      "needs_background": "light"
     },
     "output_type": "display_data"
    }
   ],
   "source": [
    "plt.plot(box_lon__,box_lat__,'.')"
   ]
  },
  {
   "cell_type": "code",
   "execution_count": 98,
   "id": "82e648e7-06f5-45ec-93fd-8cc4c9205b90",
   "metadata": {},
   "outputs": [],
   "source": [
    "box_lon_lat_ = np.zeros((len(box_lon_),2))\n",
    "\n",
    "for i in range(len(box_lon_)):\n",
    "    box_lon_lat_[i,0] = box_lon_[i]\n",
    "    box_lon_lat_[i,1] = box_lat_[i]"
   ]
  },
  {
   "cell_type": "code",
   "execution_count": 100,
   "id": "9488c78b-1139-4b2f-98bc-dcc860f2ebde",
   "metadata": {},
   "outputs": [
    {
     "data": {
      "text/plain": [
       "105574"
      ]
     },
     "execution_count": 100,
     "metadata": {},
     "output_type": "execute_result"
    }
   ],
   "source": [
    "len(box_lon_)"
   ]
  },
  {
   "cell_type": "code",
   "execution_count": 101,
   "id": "944818df-ed5b-4bfc-bc4e-4cf188865d68",
   "metadata": {},
   "outputs": [
    {
     "data": {
      "text/plain": [
       "[<matplotlib.lines.Line2D at 0x7f466909aee0>]"
      ]
     },
     "execution_count": 101,
     "metadata": {},
     "output_type": "execute_result"
    },
    {
     "data": {
      "image/png": "[encoded data removed]",
      "text/plain": [
       "<Figure size 432x288 with 1 Axes>"
      ]
     },
     "metadata": {
      "needs_background": "light"
     },
     "output_type": "display_data"
    }
   ],
   "source": [
    "plt.plot(box_lon_lat_[:,0],box_lon_lat_[:,1],'.')"
   ]
  },
  {
   "cell_type": "code",
   "execution_count": 102,
   "id": "b4272bea-b488-4a28-8c6b-0e0c5f81bfe1",
   "metadata": {},
   "outputs": [],
   "source": [
    "box_lon_lat__ = np.zeros((len(box_lon__),2))\n",
    "\n",
    "for i in range(len(box_lon__)):\n",
    "    box_lon_lat__[i,0] = box_lon__[i]\n",
    "    box_lon_lat__[i,1] = box_lat__[i]"
   ]
  },
  {
   "cell_type": "code",
   "execution_count": 103,
   "id": "c50bea88-b061-472a-b039-2275c1980abf",
   "metadata": {},
   "outputs": [
    {
     "data": {
      "text/plain": [
       "[<matplotlib.lines.Line2D at 0x7f46c7ba7430>]"
      ]
     },
     "execution_count": 103,
     "metadata": {},
     "output_type": "execute_result"
    },
    {
     "data": {
      "image/png": "[encoded data removed]",
      "text/plain": [
       "<Figure size 432x288 with 1 Axes>"
      ]
     },
     "metadata": {
      "needs_background": "light"
     },
     "output_type": "display_data"
    }
   ],
   "source": [
    "plt.plot(box_lon_lat__[:,0],box_lon_lat__[:,1],'.')"
   ]
  },
  {
   "cell_type": "code",
   "execution_count": 104,
   "id": "c90db5f5-1634-42cc-9753-86d36748fd4b",
   "metadata": {
    "tags": []
   },
   "outputs": [],
   "source": [
    "locations = box_lon_lat__\n",
    "\n",
    "#locations"
   ]
  },
  {
   "cell_type": "code",
   "execution_count": 105,
   "id": "2793f145-25b0-42df-9205-bde1ba50b6c5",
   "metadata": {},
   "outputs": [
    {
     "data": {
      "text/plain": [
       "6676"
      ]
     },
     "execution_count": 105,
     "metadata": {},
     "output_type": "execute_result"
    }
   ],
   "source": [
    "len(locations)"
   ]
  },
  {
   "cell_type": "code",
   "execution_count": 62,
   "id": "252583ac-f0f7-4a62-9e8b-b88cac88dbe1",
   "metadata": {},
   "outputs": [
    {
     "data": {
      "text/plain": [
       "26404"
      ]
     },
     "execution_count": 62,
     "metadata": {},
     "output_type": "execute_result"
    }
   ],
   "source": [
    "len(locations)"
   ]
  },
  {
   "cell_type": "code",
   "execution_count": 106,
   "id": "d0b6bc0d-6299-4dac-83f6-12624055b454",
   "metadata": {
    "tags": []
   },
   "outputs": [
    {
     "data": {
      "text/plain": [
       "array([0., 0., 0., ..., 0., 0., 0.])"
      ]
     },
     "execution_count": 106,
     "metadata": {},
     "output_type": "execute_result"
    }
   ],
   "source": [
    "index_start = np.zeros(len(start_lon_lat))\n",
    "index_end = np.zeros((len(output_files),len(start_lon_lat)))\n",
    "index_start"
   ]
  },
  {
   "cell_type": "code",
   "execution_count": 107,
   "id": "d8a68237-1d11-47b3-b36a-a00fa5f92c50",
   "metadata": {},
   "outputs": [
    {
     "data": {
      "text/plain": [
       "array([[ 29.7 , -31.5 ],\n",
       "       [ 29.75, -31.5 ],\n",
       "       [ 29.8 , -31.5 ],\n",
       "       ...,\n",
       "       [ 57.45,  -3.65],\n",
       "       [ 57.45,  -3.6 ],\n",
       "       [ 57.45,  -3.55]])"
      ]
     },
     "execution_count": 107,
     "metadata": {},
     "output_type": "execute_result"
    }
   ],
   "source": [
    "start_lon_lat"
   ]
  },
  {
   "cell_type": "code",
   "execution_count": 108,
   "id": "fd10f327-2c7b-475e-b9c1-318cfd9bd1df",
   "metadata": {},
   "outputs": [],
   "source": [
    "for j in range(len(start_lon_lat)):\n",
    "#for j in range(0,20):\n",
    "    latvalue = start_lon_lat[j,:][1]\n",
    "    lat_min = (np.abs(locations[:,1] - latvalue))\n",
    "    idxlat_start = np.where(lat_min == lat_min.min())\n",
    "\n",
    "    lonvalue = start_lon_lat[j,:][0]\n",
    "    lon_min = (np.abs(locations[idxlat_start][:,0] - lonvalue))\n",
    "    idxlon_start = np.where(lon_min == lon_min.min()) \n",
    "    idxlon_start = idxlon_start + idxlat_start[0][0]\n",
    "\n",
    "    index_ = np.intersect1d(np.asarray(idxlon_start), np.asarray(idxlat_start))\n",
    "    index__ = index_[0]\n",
    "    #print(index_1)\n",
    "\n",
    "    if len(index_) != 0:\n",
    "        index_start[j] = index__\n",
    "    else: \n",
    "        #index[i,j] = 10e10\n",
    "        latvalue = idxlat_start[0][0]\n",
    "        idx_min = (np.abs(idxlon - latvalue))\n",
    "        a = np.argwhere(idx_min == idx_min.min())[0,1]\n",
    "        index_start[j] = idxlon[0][a]"
   ]
  },
  {
   "cell_type": "code",
   "execution_count": 109,
   "id": "d6c5c270-6460-40cd-9f1a-977aec1e382b",
   "metadata": {},
   "outputs": [
    {
     "name": "stdout",
     "output_type": "stream",
     "text": [
      "0\n",
      "1\n",
      "2\n",
      "3\n"
     ]
    }
   ],
   "source": [
    "for i in range(len(output_files)):\n",
    "    print(i)\n",
    "    for j in range(len(start_lon_lat)):\n",
    "        latvalue = end_lon_lat[i,j][1]\n",
    "        lat_min = (np.abs(locations[:,1] - latvalue))\n",
    "        idxlat_end = np.where(lat_min == lat_min.min())\n",
    "\n",
    "        lonvalue = end_lon_lat[i,j][0]\n",
    "        lon_min = (np.abs(locations[idxlat_end][:,0] - lonvalue))\n",
    "        idxlon_end = np.where(lon_min == lon_min.min()) \n",
    "        idxlon_end = idxlon_end + idxlat_end[0][0]\n",
    "\n",
    "        index_ = np.intersect1d(np.asarray(idxlon_end), np.asarray(idxlat_end))\n",
    "        #print(index_1)\n",
    "\n",
    "        if len(index_) != 0:\n",
    "            index_end[i,j] = index_[0]\n",
    "        else: \n",
    "            #index[i,j] = 10e10\n",
    "            latvalue = idxlat[0][0]\n",
    "            idx_min = (np.abs(idxlon - latvalue))\n",
    "            a = np.argwhere(idx_min == idx_min.min())[0,1]\n",
    "            index_end[i,j] = idxlon[0][a]"
   ]
  },
  {
   "cell_type": "code",
   "execution_count": 110,
   "id": "ca5c3c9f-4e45-4989-bd6f-6472eabdfe0a",
   "metadata": {
    "tags": []
   },
   "outputs": [
    {
     "data": {
      "text/plain": [
       "[<matplotlib.lines.Line2D at 0x7f46c7a552b0>]"
      ]
     },
     "execution_count": 110,
     "metadata": {},
     "output_type": "execute_result"
    },
    {
     "data": {
      "image/png": "[encoded data removed]",
      "text/plain": [
       "<Figure size 432x288 with 1 Axes>"
      ]
     },
     "metadata": {
      "needs_background": "light"
     },
     "output_type": "display_data"
    }
   ],
   "source": [
    "\n",
    "plt.plot(index_start[:],'.')\n",
    "#plt.plot(index[4,:],'.')\n"
   ]
  },
  {
   "cell_type": "code",
   "execution_count": 111,
   "id": "3790cf1d-2f22-4584-ace6-fa89ded47e7a",
   "metadata": {},
   "outputs": [
    {
     "data": {
      "text/plain": [
       "[<matplotlib.lines.Line2D at 0x7f46c7c4e580>]"
      ]
     },
     "execution_count": 111,
     "metadata": {},
     "output_type": "execute_result"
    },
    {
     "data": {
      "image/png": "[encoded data removed]",
      "text/plain": [
       "<Figure size 432x288 with 1 Axes>"
      ]
     },
     "metadata": {
      "needs_background": "light"
     },
     "output_type": "display_data"
    }
   ],
   "source": [
    "plt.figure()\n",
    "plt.plot(index_end[2,:],'.')"
   ]
  },
  {
   "cell_type": "code",
   "execution_count": null,
   "id": "9fcd2dae-d143-4ada-b7ee-5879b82f33bd",
   "metadata": {},
   "outputs": [],
   "source": []
  },
  {
   "cell_type": "code",
   "execution_count": null,
   "id": "c4b2c95f-b70e-413a-97ac-8deed906b795",
   "metadata": {},
   "outputs": [],
   "source": []
  },
  {
   "cell_type": "code",
   "execution_count": 112,
   "id": "4fd18e55-9faa-4e0f-82ac-fd760b28e863",
   "metadata": {},
   "outputs": [],
   "source": [
    "np.save('index_start_005_lessloc.npy',(index_start))\n",
    "np.save('index_end_005_lessloc.npy',(index_end))"
   ]
  },
  {
   "cell_type": "code",
   "execution_count": null,
   "id": "c8fa61c0-54b6-471a-ac84-3a87cdbe5b9c",
   "metadata": {},
   "outputs": [],
   "source": []
  },
  {
   "cell_type": "code",
   "execution_count": null,
   "id": "92f41758-8676-46af-bbfb-96de3a1613a1",
   "metadata": {},
   "outputs": [],
   "source": []
  },
  {
   "cell_type": "code",
   "execution_count": 113,
   "id": "3f201f81-86b9-4272-9d74-12eedb120d08",
   "metadata": {},
   "outputs": [],
   "source": [
    "index_start = np.load('index_start_005_lessloc.npy')\n",
    "index_end = np.load('index_end_005_lessloc.npy')"
   ]
  },
  {
   "cell_type": "code",
   "execution_count": 114,
   "id": "037b36f4-e3c6-48fd-a37a-5a8e77be9df3",
   "metadata": {},
   "outputs": [
    {
     "data": {
      "text/plain": [
       "array([ 733.,  733.,  733., ..., 6144., 6144., 6200.])"
      ]
     },
     "execution_count": 114,
     "metadata": {},
     "output_type": "execute_result"
    }
   ],
   "source": [
    "index_start"
   ]
  },
  {
   "cell_type": "code",
   "execution_count": 115,
   "id": "d24ce2af-9897-4ae2-9d13-5f88992eecc8",
   "metadata": {},
   "outputs": [
    {
     "data": {
      "text/plain": [
       "array([[ 733.,  645.,  645., ..., 6029., 6029., 6029.],\n",
       "       [ 733.,  733.,  733., ..., 6031., 6031., 6031.],\n",
       "       [ 733.,  733.,  733., ..., 5973., 5973., 5973.],\n",
       "       [ 733.,  733.,  733., ..., 6145., 6145., 6145.]])"
      ]
     },
     "execution_count": 115,
     "metadata": {},
     "output_type": "execute_result"
    }
   ],
   "source": [
    "index_end"
   ]
  },
  {
   "cell_type": "markdown",
   "id": "12dd4bfb-14db-4075-a77c-083818034ab9",
   "metadata": {
    "tags": []
   },
   "source": [
    "Particle that started in node 1161 will end up in node 561 after 20 days"
   ]
  },
  {
   "cell_type": "code",
   "execution_count": 116,
   "id": "6569393d-d25e-4619-803b-70a739cbb9fd",
   "metadata": {},
   "outputs": [
    {
     "data": {
      "text/plain": [
       "array([1161., 1161., 1161., 1244., 1244., 1244., 1244., 1244., 1244.,\n",
       "       1326., 1326., 1326., 1326., 1326., 1326., 1408., 1408., 1408.,\n",
       "       1408.,  738.,  738.,  738.,  738.,  738.,  738.,  824.,  824.,\n",
       "        824.,  824.,  824.,  909.,  909.,  909.,  909.,  909.,  909.,\n",
       "        994.,  994.,  994.,  994.,  994.,  994., 1078., 1078., 1078.,\n",
       "       1078., 1078., 1078., 1161., 1161., 1161., 1161., 1161., 1244.,\n",
       "       1244., 1244., 1244., 1244., 1244., 1326., 1326., 1326., 1326.,\n",
       "       1326., 1326., 1408., 1408., 1408., 1408.,  739.,  739.,  739.,\n",
       "        739.,  739.,  739.,  825.,  825.,  825.,  825.,  825.,  910.,\n",
       "        910.,  910.,  910.,  910.,  910.,  995.,  995.,  995.,  995.,\n",
       "        995.,  995., 1079., 1079., 1079., 1079., 1079., 1079., 1162.,\n",
       "       1162.])"
      ]
     },
     "execution_count": 116,
     "metadata": {},
     "output_type": "execute_result"
    }
   ],
   "source": [
    "index_start[1000:1100]"
   ]
  },
  {
   "cell_type": "code",
   "execution_count": 117,
   "id": "57fafdfd-7804-45f7-853f-1ceca6fd7977",
   "metadata": {},
   "outputs": [
    {
     "data": {
      "text/plain": [
       "array([ 561.,  649.,  649.,  736.,  822.,  908.,  993., 1160., 1243.,\n",
       "       1243., 1326., 1408., 1408., 1408., 1408., 1408., 1408., 1408.,\n",
       "       1408.,  473.,  473.,  562.,  562.,  562.,  562.,  562.,  562.,\n",
       "        562.,  562.,  562.,  562.,  562.,  650.,  650.,  650.,  650.,\n",
       "        650.,  650.,  650.,  650.,  650.,  562.,  562.,  562.,  561.,\n",
       "        561.,  561.,  561.,  561.,  561.,  561.,  649.,  649.,  649.,\n",
       "        736.,  823.,  993., 1160., 1243., 1243., 1326., 1326., 1326.,\n",
       "       1326., 1408., 1408., 1489., 1408., 1408.,  473.,  562.,  562.,\n",
       "        562.,  562.,  562.,  562.,  562.,  562.,  562.,  562.,  650.,\n",
       "        650.,  650.,  650.,  650.,  650.,  650.,  650.,  650.,  650.,\n",
       "        650.,  650.,  650.,  650.,  650.,  562.,  562.,  561.,  561.,\n",
       "        561.])"
      ]
     },
     "execution_count": 117,
     "metadata": {},
     "output_type": "execute_result"
    }
   ],
   "source": [
    "index_end[3,:][1000:1100]"
   ]
  },
  {
   "cell_type": "code",
   "execution_count": 118,
   "id": "0b480084-24c7-43b3-823e-59c815f0bee1",
   "metadata": {},
   "outputs": [
    {
     "data": {
      "text/plain": [
       "<matplotlib.legend.Legend at 0x7f46c7acd7c0>"
      ]
     },
     "execution_count": 118,
     "metadata": {},
     "output_type": "execute_result"
    },
    {
     "data": {
      "image/png": "[encoded data removed]",
      "text/plain": [
       "<Figure size 432x288 with 1 Axes>"
      ]
     },
     "metadata": {
      "needs_background": "light"
     },
     "output_type": "display_data"
    }
   ],
   "source": [
    "plt.plot(locations[:,0], locations[:,1],'.', label = 'Nodes')\n",
    "plt.plot(locations[1161,0], locations[1161,1],'ro', label = 'Begin')\n",
    "plt.plot(locations[561,0], locations[561,1],'bo', label = 'End')\n",
    "plt.legend()"
   ]
  },
  {
   "cell_type": "markdown",
   "id": "5c72822c-cbc6-4fe8-bb24-5e5cc010dff2",
   "metadata": {},
   "source": [
    "Calculate the in and out strengths for the MPP calculations"
   ]
  },
  {
   "cell_type": "code",
   "execution_count": 119,
   "id": "d1007fc0-c819-4a80-aa12-4fe491caa482",
   "metadata": {},
   "outputs": [
    {
     "data": {
      "text/plain": [
       "array([[733.,  23.],\n",
       "       [734.,  42.],\n",
       "       [735.,  42.],\n",
       "       [736.,  36.],\n",
       "       [737.,  42.],\n",
       "       [738.,  42.],\n",
       "       [739.,  36.],\n",
       "       [740.,  42.],\n",
       "       [741.,  42.],\n",
       "       [742.,  36.]])"
      ]
     },
     "execution_count": 119,
     "metadata": {},
     "output_type": "execute_result"
    }
   ],
   "source": [
    "#calculate the out strength\n",
    "\n",
    "(unique, counts) = np.unique(index_start, return_counts=True)\n",
    "frequencies = np.asarray((unique, counts)).T\n",
    "frequencies[:10]"
   ]
  },
  {
   "cell_type": "code",
   "execution_count": 120,
   "id": "276c1778-046e-4035-9891-9aed65c6e7bb",
   "metadata": {},
   "outputs": [
    {
     "data": {
      "text/plain": [
       "array([[286.,   3.],\n",
       "       [287.,  11.],\n",
       "       [377.,   3.],\n",
       "       [378.,  11.],\n",
       "       [379.,  18.],\n",
       "       [384.,   2.],\n",
       "       [385.,  11.],\n",
       "       [386.,  10.],\n",
       "       [387.,  19.],\n",
       "       [388.,  24.]])"
      ]
     },
     "execution_count": 120,
     "metadata": {},
     "output_type": "execute_result"
    }
   ],
   "source": [
    "#calculate the in strength\n",
    "\n",
    "(unique, counts) = np.unique(index_end[0], return_counts=True)\n",
    "frequencies = np.asarray((unique, counts)).T\n",
    "frequencies[:10]"
   ]
  },
  {
   "cell_type": "markdown",
   "id": "01b29553-3ac3-4b0c-a8b3-4e1c4fe4ed52",
   "metadata": {},
   "source": [
    "### Build the matrix"
   ]
  },
  {
   "cell_type": "code",
   "execution_count": 121,
   "id": "f8c0fcdd-6932-4488-b314-24b64e5f87cb",
   "metadata": {},
   "outputs": [],
   "source": [
    "G = np.zeros((len(output_files),len(locations),len(locations)))"
   ]
  },
  {
   "cell_type": "code",
   "execution_count": 122,
   "id": "bb3c0470-43f1-4aa6-9638-6244e24dbdac",
   "metadata": {},
   "outputs": [
    {
     "data": {
      "text/plain": [
       "array([[[0., 0., 0., ..., 0., 0., 0.],\n",
       "        [0., 0., 0., ..., 0., 0., 0.],\n",
       "        [0., 0., 0., ..., 0., 0., 0.],\n",
       "        ...,\n",
       "        [0., 0., 0., ..., 0., 0., 0.],\n",
       "        [0., 0., 0., ..., 0., 0., 0.],\n",
       "        [0., 0., 0., ..., 0., 0., 0.]],\n",
       "\n",
       "       [[0., 0., 0., ..., 0., 0., 0.],\n",
       "        [0., 0., 0., ..., 0., 0., 0.],\n",
       "        [0., 0., 0., ..., 0., 0., 0.],\n",
       "        ...,\n",
       "        [0., 0., 0., ..., 0., 0., 0.],\n",
       "        [0., 0., 0., ..., 0., 0., 0.],\n",
       "        [0., 0., 0., ..., 0., 0., 0.]],\n",
       "\n",
       "       [[0., 0., 0., ..., 0., 0., 0.],\n",
       "        [0., 0., 0., ..., 0., 0., 0.],\n",
       "        [0., 0., 0., ..., 0., 0., 0.],\n",
       "        ...,\n",
       "        [0., 0., 0., ..., 0., 0., 0.],\n",
       "        [0., 0., 0., ..., 0., 0., 0.],\n",
       "        [0., 0., 0., ..., 0., 0., 0.]],\n",
       "\n",
       "       [[0., 0., 0., ..., 0., 0., 0.],\n",
       "        [0., 0., 0., ..., 0., 0., 0.],\n",
       "        [0., 0., 0., ..., 0., 0., 0.],\n",
       "        ...,\n",
       "        [0., 0., 0., ..., 0., 0., 0.],\n",
       "        [0., 0., 0., ..., 0., 0., 0.],\n",
       "        [0., 0., 0., ..., 0., 0., 0.]]])"
      ]
     },
     "execution_count": 122,
     "metadata": {},
     "output_type": "execute_result"
    }
   ],
   "source": [
    "G"
   ]
  },
  {
   "cell_type": "code",
   "execution_count": 123,
   "id": "b5161633-7751-4c35-b4d9-3e4f5167cd3f",
   "metadata": {},
   "outputs": [
    {
     "data": {
      "text/plain": [
       "(4, 6676, 6676)"
      ]
     },
     "execution_count": 123,
     "metadata": {},
     "output_type": "execute_result"
    }
   ],
   "source": [
    "np.shape(G)"
   ]
  },
  {
   "cell_type": "markdown",
   "id": "215b6908-893b-4f5c-a5e3-bf7a29b698ea",
   "metadata": {},
   "source": [
    "Fill the matrix"
   ]
  },
  {
   "cell_type": "code",
   "execution_count": 124,
   "id": "ab29113a-7fe4-4617-b310-94849a60569a",
   "metadata": {},
   "outputs": [
    {
     "name": "stdout",
     "output_type": "stream",
     "text": [
      "0\n",
      "1\n",
      "2\n",
      "3\n"
     ]
    }
   ],
   "source": [
    "for year in range(len(output_files)):\n",
    "    print(year)\n",
    "    for i,j in zip(index_end[year],index_start):\n",
    "        G[year,int(i),int(j)] = G[year,int(i),int(j)] + 1"
   ]
  },
  {
   "cell_type": "code",
   "execution_count": 125,
   "id": "8cd993af-b0d6-413b-9e5b-b75ead21b49b",
   "metadata": {},
   "outputs": [
    {
     "data": {
      "text/plain": [
       "array([[[0., 0., 0., ..., 0., 0., 0.],\n",
       "        [0., 0., 0., ..., 0., 0., 0.],\n",
       "        [0., 0., 0., ..., 0., 0., 0.],\n",
       "        ...,\n",
       "        [0., 0., 0., ..., 0., 0., 0.],\n",
       "        [0., 0., 0., ..., 0., 0., 0.],\n",
       "        [0., 0., 0., ..., 0., 0., 0.]],\n",
       "\n",
       "       [[0., 0., 0., ..., 0., 0., 0.],\n",
       "        [0., 0., 0., ..., 0., 0., 0.],\n",
       "        [0., 0., 0., ..., 0., 0., 0.],\n",
       "        ...,\n",
       "        [0., 0., 0., ..., 0., 0., 0.],\n",
       "        [0., 0., 0., ..., 0., 0., 0.],\n",
       "        [0., 0., 0., ..., 0., 0., 0.]],\n",
       "\n",
       "       [[0., 0., 0., ..., 0., 0., 0.],\n",
       "        [0., 0., 0., ..., 0., 0., 0.],\n",
       "        [0., 0., 0., ..., 0., 0., 0.],\n",
       "        ...,\n",
       "        [0., 0., 0., ..., 0., 0., 0.],\n",
       "        [0., 0., 0., ..., 0., 0., 0.],\n",
       "        [0., 0., 0., ..., 0., 0., 0.]],\n",
       "\n",
       "       [[0., 0., 0., ..., 0., 0., 0.],\n",
       "        [0., 0., 0., ..., 0., 0., 0.],\n",
       "        [0., 0., 0., ..., 0., 0., 0.],\n",
       "        ...,\n",
       "        [0., 0., 0., ..., 0., 0., 0.],\n",
       "        [0., 0., 0., ..., 0., 0., 0.],\n",
       "        [0., 0., 0., ..., 0., 0., 0.]]])"
      ]
     },
     "execution_count": 125,
     "metadata": {},
     "output_type": "execute_result"
    }
   ],
   "source": [
    "G"
   ]
  },
  {
   "cell_type": "code",
   "execution_count": 126,
   "id": "adf98213-d65f-488c-93db-c120462c7eae",
   "metadata": {},
   "outputs": [
    {
     "data": {
      "text/plain": [
       "array([[0., 0., 0., 0., 0., 0., 0., 0., 0., 0.],\n",
       "       [0., 0., 0., 0., 0., 0., 0., 0., 0., 0.],\n",
       "       [0., 0., 0., 0., 0., 0., 0., 0., 0., 0.],\n",
       "       [0., 0., 0., 0., 0., 0., 0., 0., 0., 0.],\n",
       "       [0., 0., 0., 0., 0., 0., 0., 0., 0., 0.],\n",
       "       [0., 0., 0., 0., 0., 0., 0., 0., 0., 0.],\n",
       "       [0., 0., 0., 0., 0., 0., 0., 0., 0., 0.],\n",
       "       [0., 0., 0., 0., 0., 0., 0., 0., 0., 0.],\n",
       "       [0., 0., 0., 0., 0., 0., 0., 0., 0., 0.],\n",
       "       [0., 0., 0., 0., 0., 0., 0., 0., 0., 0.]])"
      ]
     },
     "execution_count": 126,
     "metadata": {},
     "output_type": "execute_result"
    }
   ],
   "source": [
    "G[2,1000:1010,1000:1010]"
   ]
  },
  {
   "cell_type": "code",
   "execution_count": 127,
   "id": "52502aca-dd4f-406a-aa8c-a29a8d6e4169",
   "metadata": {},
   "outputs": [
    {
     "data": {
      "text/plain": [
       "(4, 6676, 6676)"
      ]
     },
     "execution_count": 127,
     "metadata": {},
     "output_type": "execute_result"
    }
   ],
   "source": [
    "np.shape(G)"
   ]
  },
  {
   "cell_type": "code",
   "execution_count": 115,
   "id": "f1fe800c-3d71-4b8d-8ca9-8e203d2f3ebf",
   "metadata": {
    "collapsed": true,
    "jupyter": {
     "outputs_hidden": true
    },
    "tags": []
   },
   "outputs": [
    {
     "name": "stdout",
     "output_type": "stream",
     "text": [
      "Error in callback <function flush_figures at 0x7f813fa87790> (for post_execute):\n"
     ]
    },
    {
     "ename": "KeyboardInterrupt",
     "evalue": "",
     "output_type": "error",
     "traceback": [
      "\u001b[0;31m---------------------------------------------------------------------------\u001b[0m",
      "\u001b[0;31mKeyboardInterrupt\u001b[0m                         Traceback (most recent call last)",
      "\u001b[0;32m/opt/apps/miniconda3/envs/parcels-dev/lib/python3.8/site-packages/matplotlib_inline/backend_inline.py\u001b[0m in \u001b[0;36mflush_figures\u001b[0;34m()\u001b[0m\n\u001b[1;32m    119\u001b[0m         \u001b[0;31m# ignore the tracking, just draw and close all figures\u001b[0m\u001b[0;34m\u001b[0m\u001b[0;34m\u001b[0m\u001b[0;34m\u001b[0m\u001b[0m\n\u001b[1;32m    120\u001b[0m         \u001b[0;32mtry\u001b[0m\u001b[0;34m:\u001b[0m\u001b[0;34m\u001b[0m\u001b[0;34m\u001b[0m\u001b[0m\n\u001b[0;32m--> 121\u001b[0;31m             \u001b[0;32mreturn\u001b[0m \u001b[0mshow\u001b[0m\u001b[0;34m(\u001b[0m\u001b[0;32mTrue\u001b[0m\u001b[0;34m)\u001b[0m\u001b[0;34m\u001b[0m\u001b[0;34m\u001b[0m\u001b[0m\n\u001b[0m\u001b[1;32m    122\u001b[0m         \u001b[0;32mexcept\u001b[0m \u001b[0mException\u001b[0m \u001b[0;32mas\u001b[0m \u001b[0me\u001b[0m\u001b[0;34m:\u001b[0m\u001b[0;34m\u001b[0m\u001b[0;34m\u001b[0m\u001b[0m\n\u001b[1;32m    123\u001b[0m             \u001b[0;31m# safely show traceback if in IPython, else raise\u001b[0m\u001b[0;34m\u001b[0m\u001b[0;34m\u001b[0m\u001b[0;34m\u001b[0m\u001b[0m\n",
      "\u001b[0;32m/opt/apps/miniconda3/envs/parcels-dev/lib/python3.8/site-packages/matplotlib_inline/backend_inline.py\u001b[0m in \u001b[0;36mshow\u001b[0;34m(close, block)\u001b[0m\n\u001b[1;32m     39\u001b[0m     \u001b[0;32mtry\u001b[0m\u001b[0;34m:\u001b[0m\u001b[0;34m\u001b[0m\u001b[0;34m\u001b[0m\u001b[0m\n\u001b[1;32m     40\u001b[0m         \u001b[0;32mfor\u001b[0m \u001b[0mfigure_manager\u001b[0m \u001b[0;32min\u001b[0m \u001b[0mGcf\u001b[0m\u001b[0;34m.\u001b[0m\u001b[0mget_all_fig_managers\u001b[0m\u001b[0;34m(\u001b[0m\u001b[0;34m)\u001b[0m\u001b[0;34m:\u001b[0m\u001b[0;34m\u001b[0m\u001b[0;34m\u001b[0m\u001b[0m\n\u001b[0;32m---> 41\u001b[0;31m             display(\n\u001b[0m\u001b[1;32m     42\u001b[0m                 \u001b[0mfigure_manager\u001b[0m\u001b[0;34m.\u001b[0m\u001b[0mcanvas\u001b[0m\u001b[0;34m.\u001b[0m\u001b[0mfigure\u001b[0m\u001b[0;34m,\u001b[0m\u001b[0;34m\u001b[0m\u001b[0;34m\u001b[0m\u001b[0m\n\u001b[1;32m     43\u001b[0m                 \u001b[0mmetadata\u001b[0m\u001b[0;34m=\u001b[0m\u001b[0m_fetch_figure_metadata\u001b[0m\u001b[0;34m(\u001b[0m\u001b[0mfigure_manager\u001b[0m\u001b[0;34m.\u001b[0m\u001b[0mcanvas\u001b[0m\u001b[0;34m.\u001b[0m\u001b[0mfigure\u001b[0m\u001b[0;34m)\u001b[0m\u001b[0;34m\u001b[0m\u001b[0;34m\u001b[0m\u001b[0m\n",
      "\u001b[0;32m/opt/apps/miniconda3/envs/parcels-dev/lib/python3.8/site-packages/IPython/core/display.py\u001b[0m in \u001b[0;36mdisplay\u001b[0;34m(include, exclude, metadata, transient, display_id, *objs, **kwargs)\u001b[0m\n\u001b[1;32m    318\u001b[0m             \u001b[0mpublish_display_data\u001b[0m\u001b[0;34m(\u001b[0m\u001b[0mdata\u001b[0m\u001b[0;34m=\u001b[0m\u001b[0mobj\u001b[0m\u001b[0;34m,\u001b[0m \u001b[0mmetadata\u001b[0m\u001b[0;34m=\u001b[0m\u001b[0mmetadata\u001b[0m\u001b[0;34m,\u001b[0m \u001b[0;34m**\u001b[0m\u001b[0mkwargs\u001b[0m\u001b[0;34m)\u001b[0m\u001b[0;34m\u001b[0m\u001b[0;34m\u001b[0m\u001b[0m\n\u001b[1;32m    319\u001b[0m         \u001b[0;32melse\u001b[0m\u001b[0;34m:\u001b[0m\u001b[0;34m\u001b[0m\u001b[0;34m\u001b[0m\u001b[0m\n\u001b[0;32m--> 320\u001b[0;31m             \u001b[0mformat_dict\u001b[0m\u001b[0;34m,\u001b[0m \u001b[0mmd_dict\u001b[0m \u001b[0;34m=\u001b[0m \u001b[0mformat\u001b[0m\u001b[0;34m(\u001b[0m\u001b[0mobj\u001b[0m\u001b[0;34m,\u001b[0m \u001b[0minclude\u001b[0m\u001b[0;34m=\u001b[0m\u001b[0minclude\u001b[0m\u001b[0;34m,\u001b[0m \u001b[0mexclude\u001b[0m\u001b[0;34m=\u001b[0m\u001b[0mexclude\u001b[0m\u001b[0;34m)\u001b[0m\u001b[0;34m\u001b[0m\u001b[0;34m\u001b[0m\u001b[0m\n\u001b[0m\u001b[1;32m    321\u001b[0m             \u001b[0;32mif\u001b[0m \u001b[0;32mnot\u001b[0m \u001b[0mformat_dict\u001b[0m\u001b[0;34m:\u001b[0m\u001b[0;34m\u001b[0m\u001b[0;34m\u001b[0m\u001b[0m\n\u001b[1;32m    322\u001b[0m                 \u001b[0;31m# nothing to display (e.g. _ipython_display_ took over)\u001b[0m\u001b[0;34m\u001b[0m\u001b[0;34m\u001b[0m\u001b[0;34m\u001b[0m\u001b[0m\n",
      "\u001b[0;32m/opt/apps/miniconda3/envs/parcels-dev/lib/python3.8/site-packages/IPython/core/formatters.py\u001b[0m in \u001b[0;36mformat\u001b[0;34m(self, obj, include, exclude)\u001b[0m\n\u001b[1;32m    178\u001b[0m             \u001b[0mmd\u001b[0m \u001b[0;34m=\u001b[0m \u001b[0;32mNone\u001b[0m\u001b[0;34m\u001b[0m\u001b[0;34m\u001b[0m\u001b[0m\n\u001b[1;32m    179\u001b[0m             \u001b[0;32mtry\u001b[0m\u001b[0;34m:\u001b[0m\u001b[0;34m\u001b[0m\u001b[0;34m\u001b[0m\u001b[0m\n\u001b[0;32m--> 180\u001b[0;31m                 \u001b[0mdata\u001b[0m \u001b[0;34m=\u001b[0m \u001b[0mformatter\u001b[0m\u001b[0;34m(\u001b[0m\u001b[0mobj\u001b[0m\u001b[0;34m)\u001b[0m\u001b[0;34m\u001b[0m\u001b[0;34m\u001b[0m\u001b[0m\n\u001b[0m\u001b[1;32m    181\u001b[0m             \u001b[0;32mexcept\u001b[0m\u001b[0;34m:\u001b[0m\u001b[0;34m\u001b[0m\u001b[0;34m\u001b[0m\u001b[0m\n\u001b[1;32m    182\u001b[0m                 \u001b[0;31m# FIXME: log the exception\u001b[0m\u001b[0;34m\u001b[0m\u001b[0;34m\u001b[0m\u001b[0;34m\u001b[0m\u001b[0m\n",
      "\u001b[0;32m/opt/apps/miniconda3/envs/parcels-dev/lib/python3.8/site-packages/decorator.py\u001b[0m in \u001b[0;36mfun\u001b[0;34m(*args, **kw)\u001b[0m\n\u001b[1;32m    230\u001b[0m             \u001b[0;32mif\u001b[0m \u001b[0;32mnot\u001b[0m \u001b[0mkwsyntax\u001b[0m\u001b[0;34m:\u001b[0m\u001b[0;34m\u001b[0m\u001b[0;34m\u001b[0m\u001b[0m\n\u001b[1;32m    231\u001b[0m                 \u001b[0margs\u001b[0m\u001b[0;34m,\u001b[0m \u001b[0mkw\u001b[0m \u001b[0;34m=\u001b[0m \u001b[0mfix\u001b[0m\u001b[0;34m(\u001b[0m\u001b[0margs\u001b[0m\u001b[0;34m,\u001b[0m \u001b[0mkw\u001b[0m\u001b[0;34m,\u001b[0m \u001b[0msig\u001b[0m\u001b[0;34m)\u001b[0m\u001b[0;34m\u001b[0m\u001b[0;34m\u001b[0m\u001b[0m\n\u001b[0;32m--> 232\u001b[0;31m             \u001b[0;32mreturn\u001b[0m \u001b[0mcaller\u001b[0m\u001b[0;34m(\u001b[0m\u001b[0mfunc\u001b[0m\u001b[0;34m,\u001b[0m \u001b[0;34m*\u001b[0m\u001b[0;34m(\u001b[0m\u001b[0mextras\u001b[0m \u001b[0;34m+\u001b[0m \u001b[0margs\u001b[0m\u001b[0;34m)\u001b[0m\u001b[0;34m,\u001b[0m \u001b[0;34m**\u001b[0m\u001b[0mkw\u001b[0m\u001b[0;34m)\u001b[0m\u001b[0;34m\u001b[0m\u001b[0;34m\u001b[0m\u001b[0m\n\u001b[0m\u001b[1;32m    233\u001b[0m     \u001b[0mfun\u001b[0m\u001b[0;34m.\u001b[0m\u001b[0m__name__\u001b[0m \u001b[0;34m=\u001b[0m \u001b[0mfunc\u001b[0m\u001b[0;34m.\u001b[0m\u001b[0m__name__\u001b[0m\u001b[0;34m\u001b[0m\u001b[0;34m\u001b[0m\u001b[0m\n\u001b[1;32m    234\u001b[0m     \u001b[0mfun\u001b[0m\u001b[0;34m.\u001b[0m\u001b[0m__doc__\u001b[0m \u001b[0;34m=\u001b[0m \u001b[0mfunc\u001b[0m\u001b[0;34m.\u001b[0m\u001b[0m__doc__\u001b[0m\u001b[0;34m\u001b[0m\u001b[0;34m\u001b[0m\u001b[0m\n",
      "\u001b[0;32m/opt/apps/miniconda3/envs/parcels-dev/lib/python3.8/site-packages/IPython/core/formatters.py\u001b[0m in \u001b[0;36mcatch_format_error\u001b[0;34m(method, self, *args, **kwargs)\u001b[0m\n\u001b[1;32m    222\u001b[0m     \u001b[0;34m\"\"\"show traceback on failed format call\"\"\"\u001b[0m\u001b[0;34m\u001b[0m\u001b[0;34m\u001b[0m\u001b[0m\n\u001b[1;32m    223\u001b[0m     \u001b[0;32mtry\u001b[0m\u001b[0;34m:\u001b[0m\u001b[0;34m\u001b[0m\u001b[0;34m\u001b[0m\u001b[0m\n\u001b[0;32m--> 224\u001b[0;31m         \u001b[0mr\u001b[0m \u001b[0;34m=\u001b[0m \u001b[0mmethod\u001b[0m\u001b[0;34m(\u001b[0m\u001b[0mself\u001b[0m\u001b[0;34m,\u001b[0m \u001b[0;34m*\u001b[0m\u001b[0margs\u001b[0m\u001b[0;34m,\u001b[0m \u001b[0;34m**\u001b[0m\u001b[0mkwargs\u001b[0m\u001b[0;34m)\u001b[0m\u001b[0;34m\u001b[0m\u001b[0;34m\u001b[0m\u001b[0m\n\u001b[0m\u001b[1;32m    225\u001b[0m     \u001b[0;32mexcept\u001b[0m \u001b[0mNotImplementedError\u001b[0m\u001b[0;34m:\u001b[0m\u001b[0;34m\u001b[0m\u001b[0;34m\u001b[0m\u001b[0m\n\u001b[1;32m    226\u001b[0m         \u001b[0;31m# don't warn on NotImplementedErrors\u001b[0m\u001b[0;34m\u001b[0m\u001b[0;34m\u001b[0m\u001b[0;34m\u001b[0m\u001b[0m\n",
      "\u001b[0;32m/opt/apps/miniconda3/envs/parcels-dev/lib/python3.8/site-packages/IPython/core/formatters.py\u001b[0m in \u001b[0;36m__call__\u001b[0;34m(self, obj)\u001b[0m\n\u001b[1;32m    339\u001b[0m                 \u001b[0;32mpass\u001b[0m\u001b[0;34m\u001b[0m\u001b[0;34m\u001b[0m\u001b[0m\n\u001b[1;32m    340\u001b[0m             \u001b[0;32melse\u001b[0m\u001b[0;34m:\u001b[0m\u001b[0;34m\u001b[0m\u001b[0;34m\u001b[0m\u001b[0m\n\u001b[0;32m--> 341\u001b[0;31m                 \u001b[0;32mreturn\u001b[0m \u001b[0mprinter\u001b[0m\u001b[0;34m(\u001b[0m\u001b[0mobj\u001b[0m\u001b[0;34m)\u001b[0m\u001b[0;34m\u001b[0m\u001b[0;34m\u001b[0m\u001b[0m\n\u001b[0m\u001b[1;32m    342\u001b[0m             \u001b[0;31m# Finally look for special method names\u001b[0m\u001b[0;34m\u001b[0m\u001b[0;34m\u001b[0m\u001b[0;34m\u001b[0m\u001b[0m\n\u001b[1;32m    343\u001b[0m             \u001b[0mmethod\u001b[0m \u001b[0;34m=\u001b[0m \u001b[0mget_real_method\u001b[0m\u001b[0;34m(\u001b[0m\u001b[0mobj\u001b[0m\u001b[0;34m,\u001b[0m \u001b[0mself\u001b[0m\u001b[0;34m.\u001b[0m\u001b[0mprint_method\u001b[0m\u001b[0;34m)\u001b[0m\u001b[0;34m\u001b[0m\u001b[0;34m\u001b[0m\u001b[0m\n",
      "\u001b[0;32m/opt/apps/miniconda3/envs/parcels-dev/lib/python3.8/site-packages/IPython/core/pylabtools.py\u001b[0m in \u001b[0;36m<lambda>\u001b[0;34m(fig)\u001b[0m\n\u001b[1;32m    251\u001b[0m \u001b[0;34m\u001b[0m\u001b[0m\n\u001b[1;32m    252\u001b[0m     \u001b[0;32mif\u001b[0m \u001b[0;34m'png'\u001b[0m \u001b[0;32min\u001b[0m \u001b[0mformats\u001b[0m\u001b[0;34m:\u001b[0m\u001b[0;34m\u001b[0m\u001b[0;34m\u001b[0m\u001b[0m\n\u001b[0;32m--> 253\u001b[0;31m         \u001b[0mpng_formatter\u001b[0m\u001b[0;34m.\u001b[0m\u001b[0mfor_type\u001b[0m\u001b[0;34m(\u001b[0m\u001b[0mFigure\u001b[0m\u001b[0;34m,\u001b[0m \u001b[0;32mlambda\u001b[0m \u001b[0mfig\u001b[0m\u001b[0;34m:\u001b[0m \u001b[0mprint_figure\u001b[0m\u001b[0;34m(\u001b[0m\u001b[0mfig\u001b[0m\u001b[0;34m,\u001b[0m \u001b[0;34m'png'\u001b[0m\u001b[0;34m,\u001b[0m \u001b[0;34m**\u001b[0m\u001b[0mkwargs\u001b[0m\u001b[0;34m)\u001b[0m\u001b[0;34m)\u001b[0m\u001b[0;34m\u001b[0m\u001b[0;34m\u001b[0m\u001b[0m\n\u001b[0m\u001b[1;32m    254\u001b[0m     \u001b[0;32mif\u001b[0m \u001b[0;34m'retina'\u001b[0m \u001b[0;32min\u001b[0m \u001b[0mformats\u001b[0m \u001b[0;32mor\u001b[0m \u001b[0;34m'png2x'\u001b[0m \u001b[0;32min\u001b[0m \u001b[0mformats\u001b[0m\u001b[0;34m:\u001b[0m\u001b[0;34m\u001b[0m\u001b[0;34m\u001b[0m\u001b[0m\n\u001b[1;32m    255\u001b[0m         \u001b[0mpng_formatter\u001b[0m\u001b[0;34m.\u001b[0m\u001b[0mfor_type\u001b[0m\u001b[0;34m(\u001b[0m\u001b[0mFigure\u001b[0m\u001b[0;34m,\u001b[0m \u001b[0;32mlambda\u001b[0m \u001b[0mfig\u001b[0m\u001b[0;34m:\u001b[0m \u001b[0mretina_figure\u001b[0m\u001b[0;34m(\u001b[0m\u001b[0mfig\u001b[0m\u001b[0;34m,\u001b[0m \u001b[0;34m**\u001b[0m\u001b[0mkwargs\u001b[0m\u001b[0;34m)\u001b[0m\u001b[0;34m)\u001b[0m\u001b[0;34m\u001b[0m\u001b[0;34m\u001b[0m\u001b[0m\n",
      "\u001b[0;32m/opt/apps/miniconda3/envs/parcels-dev/lib/python3.8/site-packages/IPython/core/pylabtools.py\u001b[0m in \u001b[0;36mprint_figure\u001b[0;34m(fig, fmt, bbox_inches, **kwargs)\u001b[0m\n\u001b[1;32m    135\u001b[0m         \u001b[0mFigureCanvasBase\u001b[0m\u001b[0;34m(\u001b[0m\u001b[0mfig\u001b[0m\u001b[0;34m)\u001b[0m\u001b[0;34m\u001b[0m\u001b[0;34m\u001b[0m\u001b[0m\n\u001b[1;32m    136\u001b[0m \u001b[0;34m\u001b[0m\u001b[0m\n\u001b[0;32m--> 137\u001b[0;31m     \u001b[0mfig\u001b[0m\u001b[0;34m.\u001b[0m\u001b[0mcanvas\u001b[0m\u001b[0;34m.\u001b[0m\u001b[0mprint_figure\u001b[0m\u001b[0;34m(\u001b[0m\u001b[0mbytes_io\u001b[0m\u001b[0;34m,\u001b[0m \u001b[0;34m**\u001b[0m\u001b[0mkw\u001b[0m\u001b[0;34m)\u001b[0m\u001b[0;34m\u001b[0m\u001b[0;34m\u001b[0m\u001b[0m\n\u001b[0m\u001b[1;32m    138\u001b[0m     \u001b[0mdata\u001b[0m \u001b[0;34m=\u001b[0m \u001b[0mbytes_io\u001b[0m\u001b[0;34m.\u001b[0m\u001b[0mgetvalue\u001b[0m\u001b[0;34m(\u001b[0m\u001b[0;34m)\u001b[0m\u001b[0;34m\u001b[0m\u001b[0;34m\u001b[0m\u001b[0m\n\u001b[1;32m    139\u001b[0m     \u001b[0;32mif\u001b[0m \u001b[0mfmt\u001b[0m \u001b[0;34m==\u001b[0m \u001b[0;34m'svg'\u001b[0m\u001b[0;34m:\u001b[0m\u001b[0;34m\u001b[0m\u001b[0;34m\u001b[0m\u001b[0m\n",
      "\u001b[0;32m/opt/apps/miniconda3/envs/parcels-dev/lib/python3.8/site-packages/matplotlib/backend_bases.py\u001b[0m in \u001b[0;36mprint_figure\u001b[0;34m(self, filename, dpi, facecolor, edgecolor, orientation, format, bbox_inches, pad_inches, bbox_extra_artists, backend, **kwargs)\u001b[0m\n\u001b[1;32m   2253\u001b[0m                 \u001b[0;31m# force the figure dpi to 72), so we need to set it again here.\u001b[0m\u001b[0;34m\u001b[0m\u001b[0;34m\u001b[0m\u001b[0;34m\u001b[0m\u001b[0m\n\u001b[1;32m   2254\u001b[0m                 \u001b[0;32mwith\u001b[0m \u001b[0mcbook\u001b[0m\u001b[0;34m.\u001b[0m\u001b[0m_setattr_cm\u001b[0m\u001b[0;34m(\u001b[0m\u001b[0mself\u001b[0m\u001b[0;34m.\u001b[0m\u001b[0mfigure\u001b[0m\u001b[0;34m,\u001b[0m \u001b[0mdpi\u001b[0m\u001b[0;34m=\u001b[0m\u001b[0mdpi\u001b[0m\u001b[0;34m)\u001b[0m\u001b[0;34m:\u001b[0m\u001b[0;34m\u001b[0m\u001b[0;34m\u001b[0m\u001b[0m\n\u001b[0;32m-> 2255\u001b[0;31m                     result = print_method(\n\u001b[0m\u001b[1;32m   2256\u001b[0m                         \u001b[0mfilename\u001b[0m\u001b[0;34m,\u001b[0m\u001b[0;34m\u001b[0m\u001b[0;34m\u001b[0m\u001b[0m\n\u001b[1;32m   2257\u001b[0m                         \u001b[0mfacecolor\u001b[0m\u001b[0;34m=\u001b[0m\u001b[0mfacecolor\u001b[0m\u001b[0;34m,\u001b[0m\u001b[0;34m\u001b[0m\u001b[0;34m\u001b[0m\u001b[0m\n",
      "\u001b[0;32m/opt/apps/miniconda3/envs/parcels-dev/lib/python3.8/site-packages/matplotlib/backend_bases.py\u001b[0m in \u001b[0;36mwrapper\u001b[0;34m(*args, **kwargs)\u001b[0m\n\u001b[1;32m   1667\u001b[0m             \u001b[0mkwargs\u001b[0m\u001b[0;34m.\u001b[0m\u001b[0mpop\u001b[0m\u001b[0;34m(\u001b[0m\u001b[0marg\u001b[0m\u001b[0;34m)\u001b[0m\u001b[0;34m\u001b[0m\u001b[0;34m\u001b[0m\u001b[0m\n\u001b[1;32m   1668\u001b[0m \u001b[0;34m\u001b[0m\u001b[0m\n\u001b[0;32m-> 1669\u001b[0;31m         \u001b[0;32mreturn\u001b[0m \u001b[0mfunc\u001b[0m\u001b[0;34m(\u001b[0m\u001b[0;34m*\u001b[0m\u001b[0margs\u001b[0m\u001b[0;34m,\u001b[0m \u001b[0;34m**\u001b[0m\u001b[0mkwargs\u001b[0m\u001b[0;34m)\u001b[0m\u001b[0;34m\u001b[0m\u001b[0;34m\u001b[0m\u001b[0m\n\u001b[0m\u001b[1;32m   1670\u001b[0m \u001b[0;34m\u001b[0m\u001b[0m\n\u001b[1;32m   1671\u001b[0m     \u001b[0;32mreturn\u001b[0m \u001b[0mwrapper\u001b[0m\u001b[0;34m\u001b[0m\u001b[0;34m\u001b[0m\u001b[0m\n",
      "\u001b[0;32m/opt/apps/miniconda3/envs/parcels-dev/lib/python3.8/site-packages/matplotlib/backends/backend_agg.py\u001b[0m in \u001b[0;36mprint_png\u001b[0;34m(self, filename_or_obj, metadata, pil_kwargs, *args)\u001b[0m\n\u001b[1;32m    506\u001b[0m             \u001b[0;34m*\u001b[0m\u001b[0mmetadata\u001b[0m\u001b[0;34m*\u001b[0m\u001b[0;34m,\u001b[0m \u001b[0mincluding\u001b[0m \u001b[0mthe\u001b[0m \u001b[0mdefault\u001b[0m \u001b[0;34m'Software'\u001b[0m \u001b[0mkey\u001b[0m\u001b[0;34m.\u001b[0m\u001b[0;34m\u001b[0m\u001b[0;34m\u001b[0m\u001b[0m\n\u001b[1;32m    507\u001b[0m         \"\"\"\n\u001b[0;32m--> 508\u001b[0;31m         \u001b[0mFigureCanvasAgg\u001b[0m\u001b[0;34m.\u001b[0m\u001b[0mdraw\u001b[0m\u001b[0;34m(\u001b[0m\u001b[0mself\u001b[0m\u001b[0;34m)\u001b[0m\u001b[0;34m\u001b[0m\u001b[0;34m\u001b[0m\u001b[0m\n\u001b[0m\u001b[1;32m    509\u001b[0m         mpl.image.imsave(\n\u001b[1;32m    510\u001b[0m             \u001b[0mfilename_or_obj\u001b[0m\u001b[0;34m,\u001b[0m \u001b[0mself\u001b[0m\u001b[0;34m.\u001b[0m\u001b[0mbuffer_rgba\u001b[0m\u001b[0;34m(\u001b[0m\u001b[0;34m)\u001b[0m\u001b[0;34m,\u001b[0m \u001b[0mformat\u001b[0m\u001b[0;34m=\u001b[0m\u001b[0;34m\"png\"\u001b[0m\u001b[0;34m,\u001b[0m \u001b[0morigin\u001b[0m\u001b[0;34m=\u001b[0m\u001b[0;34m\"upper\"\u001b[0m\u001b[0;34m,\u001b[0m\u001b[0;34m\u001b[0m\u001b[0;34m\u001b[0m\u001b[0m\n",
      "\u001b[0;32m/opt/apps/miniconda3/envs/parcels-dev/lib/python3.8/site-packages/matplotlib/backends/backend_agg.py\u001b[0m in \u001b[0;36mdraw\u001b[0;34m(self)\u001b[0m\n\u001b[1;32m    404\u001b[0m              (self.toolbar._wait_cursor_for_draw_cm() if self.toolbar\n\u001b[1;32m    405\u001b[0m               else nullcontext()):\n\u001b[0;32m--> 406\u001b[0;31m             \u001b[0mself\u001b[0m\u001b[0;34m.\u001b[0m\u001b[0mfigure\u001b[0m\u001b[0;34m.\u001b[0m\u001b[0mdraw\u001b[0m\u001b[0;34m(\u001b[0m\u001b[0mself\u001b[0m\u001b[0;34m.\u001b[0m\u001b[0mrenderer\u001b[0m\u001b[0;34m)\u001b[0m\u001b[0;34m\u001b[0m\u001b[0;34m\u001b[0m\u001b[0m\n\u001b[0m\u001b[1;32m    407\u001b[0m             \u001b[0;31m# A GUI class may be need to update a window using this draw, so\u001b[0m\u001b[0;34m\u001b[0m\u001b[0;34m\u001b[0m\u001b[0;34m\u001b[0m\u001b[0m\n\u001b[1;32m    408\u001b[0m             \u001b[0;31m# don't forget to call the superclass.\u001b[0m\u001b[0;34m\u001b[0m\u001b[0;34m\u001b[0m\u001b[0;34m\u001b[0m\u001b[0m\n",
      "\u001b[0;32m/opt/apps/miniconda3/envs/parcels-dev/lib/python3.8/site-packages/matplotlib/artist.py\u001b[0m in \u001b[0;36mdraw_wrapper\u001b[0;34m(artist, renderer, *args, **kwargs)\u001b[0m\n\u001b[1;32m     72\u001b[0m     \u001b[0;34m@\u001b[0m\u001b[0mwraps\u001b[0m\u001b[0;34m(\u001b[0m\u001b[0mdraw\u001b[0m\u001b[0;34m)\u001b[0m\u001b[0;34m\u001b[0m\u001b[0;34m\u001b[0m\u001b[0m\n\u001b[1;32m     73\u001b[0m     \u001b[0;32mdef\u001b[0m \u001b[0mdraw_wrapper\u001b[0m\u001b[0;34m(\u001b[0m\u001b[0martist\u001b[0m\u001b[0;34m,\u001b[0m \u001b[0mrenderer\u001b[0m\u001b[0;34m,\u001b[0m \u001b[0;34m*\u001b[0m\u001b[0margs\u001b[0m\u001b[0;34m,\u001b[0m \u001b[0;34m**\u001b[0m\u001b[0mkwargs\u001b[0m\u001b[0;34m)\u001b[0m\u001b[0;34m:\u001b[0m\u001b[0;34m\u001b[0m\u001b[0;34m\u001b[0m\u001b[0m\n\u001b[0;32m---> 74\u001b[0;31m         \u001b[0mresult\u001b[0m \u001b[0;34m=\u001b[0m \u001b[0mdraw\u001b[0m\u001b[0;34m(\u001b[0m\u001b[0martist\u001b[0m\u001b[0;34m,\u001b[0m \u001b[0mrenderer\u001b[0m\u001b[0;34m,\u001b[0m \u001b[0;34m*\u001b[0m\u001b[0margs\u001b[0m\u001b[0;34m,\u001b[0m \u001b[0;34m**\u001b[0m\u001b[0mkwargs\u001b[0m\u001b[0;34m)\u001b[0m\u001b[0;34m\u001b[0m\u001b[0;34m\u001b[0m\u001b[0m\n\u001b[0m\u001b[1;32m     75\u001b[0m         \u001b[0;32mif\u001b[0m \u001b[0mrenderer\u001b[0m\u001b[0;34m.\u001b[0m\u001b[0m_rasterizing\u001b[0m\u001b[0;34m:\u001b[0m\u001b[0;34m\u001b[0m\u001b[0;34m\u001b[0m\u001b[0m\n\u001b[1;32m     76\u001b[0m             \u001b[0mrenderer\u001b[0m\u001b[0;34m.\u001b[0m\u001b[0mstop_rasterizing\u001b[0m\u001b[0;34m(\u001b[0m\u001b[0;34m)\u001b[0m\u001b[0;34m\u001b[0m\u001b[0;34m\u001b[0m\u001b[0m\n",
      "\u001b[0;32m/opt/apps/miniconda3/envs/parcels-dev/lib/python3.8/site-packages/matplotlib/artist.py\u001b[0m in \u001b[0;36mdraw_wrapper\u001b[0;34m(artist, renderer, *args, **kwargs)\u001b[0m\n\u001b[1;32m     49\u001b[0m                 \u001b[0mrenderer\u001b[0m\u001b[0;34m.\u001b[0m\u001b[0mstart_filter\u001b[0m\u001b[0;34m(\u001b[0m\u001b[0;34m)\u001b[0m\u001b[0;34m\u001b[0m\u001b[0;34m\u001b[0m\u001b[0m\n\u001b[1;32m     50\u001b[0m \u001b[0;34m\u001b[0m\u001b[0m\n\u001b[0;32m---> 51\u001b[0;31m             \u001b[0;32mreturn\u001b[0m \u001b[0mdraw\u001b[0m\u001b[0;34m(\u001b[0m\u001b[0martist\u001b[0m\u001b[0;34m,\u001b[0m \u001b[0mrenderer\u001b[0m\u001b[0;34m,\u001b[0m \u001b[0;34m*\u001b[0m\u001b[0margs\u001b[0m\u001b[0;34m,\u001b[0m \u001b[0;34m**\u001b[0m\u001b[0mkwargs\u001b[0m\u001b[0;34m)\u001b[0m\u001b[0;34m\u001b[0m\u001b[0;34m\u001b[0m\u001b[0m\n\u001b[0m\u001b[1;32m     52\u001b[0m         \u001b[0;32mfinally\u001b[0m\u001b[0;34m:\u001b[0m\u001b[0;34m\u001b[0m\u001b[0;34m\u001b[0m\u001b[0m\n\u001b[1;32m     53\u001b[0m             \u001b[0;32mif\u001b[0m \u001b[0martist\u001b[0m\u001b[0;34m.\u001b[0m\u001b[0mget_agg_filter\u001b[0m\u001b[0;34m(\u001b[0m\u001b[0;34m)\u001b[0m \u001b[0;32mis\u001b[0m \u001b[0;32mnot\u001b[0m \u001b[0;32mNone\u001b[0m\u001b[0;34m:\u001b[0m\u001b[0;34m\u001b[0m\u001b[0;34m\u001b[0m\u001b[0m\n",
      "\u001b[0;32m/opt/apps/miniconda3/envs/parcels-dev/lib/python3.8/site-packages/matplotlib/figure.py\u001b[0m in \u001b[0;36mdraw\u001b[0;34m(self, renderer)\u001b[0m\n\u001b[1;32m   2778\u001b[0m \u001b[0;34m\u001b[0m\u001b[0m\n\u001b[1;32m   2779\u001b[0m             \u001b[0mself\u001b[0m\u001b[0;34m.\u001b[0m\u001b[0mpatch\u001b[0m\u001b[0;34m.\u001b[0m\u001b[0mdraw\u001b[0m\u001b[0;34m(\u001b[0m\u001b[0mrenderer\u001b[0m\u001b[0;34m)\u001b[0m\u001b[0;34m\u001b[0m\u001b[0;34m\u001b[0m\u001b[0m\n\u001b[0;32m-> 2780\u001b[0;31m             mimage._draw_list_compositing_images(\n\u001b[0m\u001b[1;32m   2781\u001b[0m                 renderer, self, artists, self.suppressComposite)\n\u001b[1;32m   2782\u001b[0m \u001b[0;34m\u001b[0m\u001b[0m\n",
      "\u001b[0;32m/opt/apps/miniconda3/envs/parcels-dev/lib/python3.8/site-packages/matplotlib/image.py\u001b[0m in \u001b[0;36m_draw_list_compositing_images\u001b[0;34m(renderer, parent, artists, suppress_composite)\u001b[0m\n\u001b[1;32m    130\u001b[0m     \u001b[0;32mif\u001b[0m \u001b[0mnot_composite\u001b[0m \u001b[0;32mor\u001b[0m \u001b[0;32mnot\u001b[0m \u001b[0mhas_images\u001b[0m\u001b[0;34m:\u001b[0m\u001b[0;34m\u001b[0m\u001b[0;34m\u001b[0m\u001b[0m\n\u001b[1;32m    131\u001b[0m         \u001b[0;32mfor\u001b[0m \u001b[0ma\u001b[0m \u001b[0;32min\u001b[0m \u001b[0martists\u001b[0m\u001b[0;34m:\u001b[0m\u001b[0;34m\u001b[0m\u001b[0;34m\u001b[0m\u001b[0m\n\u001b[0;32m--> 132\u001b[0;31m             \u001b[0ma\u001b[0m\u001b[0;34m.\u001b[0m\u001b[0mdraw\u001b[0m\u001b[0;34m(\u001b[0m\u001b[0mrenderer\u001b[0m\u001b[0;34m)\u001b[0m\u001b[0;34m\u001b[0m\u001b[0;34m\u001b[0m\u001b[0m\n\u001b[0m\u001b[1;32m    133\u001b[0m     \u001b[0;32melse\u001b[0m\u001b[0;34m:\u001b[0m\u001b[0;34m\u001b[0m\u001b[0;34m\u001b[0m\u001b[0m\n\u001b[1;32m    134\u001b[0m         \u001b[0;31m# Composite any adjacent images together\u001b[0m\u001b[0;34m\u001b[0m\u001b[0;34m\u001b[0m\u001b[0;34m\u001b[0m\u001b[0m\n",
      "\u001b[0;32m/opt/apps/miniconda3/envs/parcels-dev/lib/python3.8/site-packages/matplotlib/artist.py\u001b[0m in \u001b[0;36mdraw_wrapper\u001b[0;34m(artist, renderer, *args, **kwargs)\u001b[0m\n\u001b[1;32m     49\u001b[0m                 \u001b[0mrenderer\u001b[0m\u001b[0;34m.\u001b[0m\u001b[0mstart_filter\u001b[0m\u001b[0;34m(\u001b[0m\u001b[0;34m)\u001b[0m\u001b[0;34m\u001b[0m\u001b[0;34m\u001b[0m\u001b[0m\n\u001b[1;32m     50\u001b[0m \u001b[0;34m\u001b[0m\u001b[0m\n\u001b[0;32m---> 51\u001b[0;31m             \u001b[0;32mreturn\u001b[0m \u001b[0mdraw\u001b[0m\u001b[0;34m(\u001b[0m\u001b[0martist\u001b[0m\u001b[0;34m,\u001b[0m \u001b[0mrenderer\u001b[0m\u001b[0;34m,\u001b[0m \u001b[0;34m*\u001b[0m\u001b[0margs\u001b[0m\u001b[0;34m,\u001b[0m \u001b[0;34m**\u001b[0m\u001b[0mkwargs\u001b[0m\u001b[0;34m)\u001b[0m\u001b[0;34m\u001b[0m\u001b[0;34m\u001b[0m\u001b[0m\n\u001b[0m\u001b[1;32m     52\u001b[0m         \u001b[0;32mfinally\u001b[0m\u001b[0;34m:\u001b[0m\u001b[0;34m\u001b[0m\u001b[0;34m\u001b[0m\u001b[0m\n\u001b[1;32m     53\u001b[0m             \u001b[0;32mif\u001b[0m \u001b[0martist\u001b[0m\u001b[0;34m.\u001b[0m\u001b[0mget_agg_filter\u001b[0m\u001b[0;34m(\u001b[0m\u001b[0;34m)\u001b[0m \u001b[0;32mis\u001b[0m \u001b[0;32mnot\u001b[0m \u001b[0;32mNone\u001b[0m\u001b[0;34m:\u001b[0m\u001b[0;34m\u001b[0m\u001b[0;34m\u001b[0m\u001b[0m\n",
      "\u001b[0;32m/opt/apps/miniconda3/envs/parcels-dev/lib/python3.8/site-packages/matplotlib/_api/deprecation.py\u001b[0m in \u001b[0;36mwrapper\u001b[0;34m(*inner_args, **inner_kwargs)\u001b[0m\n\u001b[1;32m    429\u001b[0m                          \u001b[0;32melse\u001b[0m \u001b[0mdeprecation_addendum\u001b[0m\u001b[0;34m,\u001b[0m\u001b[0;34m\u001b[0m\u001b[0;34m\u001b[0m\u001b[0m\n\u001b[1;32m    430\u001b[0m                 **kwargs)\n\u001b[0;32m--> 431\u001b[0;31m         \u001b[0;32mreturn\u001b[0m \u001b[0mfunc\u001b[0m\u001b[0;34m(\u001b[0m\u001b[0;34m*\u001b[0m\u001b[0minner_args\u001b[0m\u001b[0;34m,\u001b[0m \u001b[0;34m**\u001b[0m\u001b[0minner_kwargs\u001b[0m\u001b[0;34m)\u001b[0m\u001b[0;34m\u001b[0m\u001b[0;34m\u001b[0m\u001b[0m\n\u001b[0m\u001b[1;32m    432\u001b[0m \u001b[0;34m\u001b[0m\u001b[0m\n\u001b[1;32m    433\u001b[0m     \u001b[0;32mreturn\u001b[0m \u001b[0mwrapper\u001b[0m\u001b[0;34m\u001b[0m\u001b[0;34m\u001b[0m\u001b[0m\n",
      "\u001b[0;32m/opt/apps/miniconda3/envs/parcels-dev/lib/python3.8/site-packages/matplotlib/axes/_base.py\u001b[0m in \u001b[0;36mdraw\u001b[0;34m(self, renderer, inframe)\u001b[0m\n\u001b[1;32m   2919\u001b[0m             \u001b[0mrenderer\u001b[0m\u001b[0;34m.\u001b[0m\u001b[0mstop_rasterizing\u001b[0m\u001b[0;34m(\u001b[0m\u001b[0;34m)\u001b[0m\u001b[0;34m\u001b[0m\u001b[0;34m\u001b[0m\u001b[0m\n\u001b[1;32m   2920\u001b[0m \u001b[0;34m\u001b[0m\u001b[0m\n\u001b[0;32m-> 2921\u001b[0;31m         \u001b[0mmimage\u001b[0m\u001b[0;34m.\u001b[0m\u001b[0m_draw_list_compositing_images\u001b[0m\u001b[0;34m(\u001b[0m\u001b[0mrenderer\u001b[0m\u001b[0;34m,\u001b[0m \u001b[0mself\u001b[0m\u001b[0;34m,\u001b[0m \u001b[0martists\u001b[0m\u001b[0;34m)\u001b[0m\u001b[0;34m\u001b[0m\u001b[0;34m\u001b[0m\u001b[0m\n\u001b[0m\u001b[1;32m   2922\u001b[0m \u001b[0;34m\u001b[0m\u001b[0m\n\u001b[1;32m   2923\u001b[0m         \u001b[0mrenderer\u001b[0m\u001b[0;34m.\u001b[0m\u001b[0mclose_group\u001b[0m\u001b[0;34m(\u001b[0m\u001b[0;34m'axes'\u001b[0m\u001b[0;34m)\u001b[0m\u001b[0;34m\u001b[0m\u001b[0;34m\u001b[0m\u001b[0m\n",
      "\u001b[0;32m/opt/apps/miniconda3/envs/parcels-dev/lib/python3.8/site-packages/matplotlib/image.py\u001b[0m in \u001b[0;36m_draw_list_compositing_images\u001b[0;34m(renderer, parent, artists, suppress_composite)\u001b[0m\n\u001b[1;32m    130\u001b[0m     \u001b[0;32mif\u001b[0m \u001b[0mnot_composite\u001b[0m \u001b[0;32mor\u001b[0m \u001b[0;32mnot\u001b[0m \u001b[0mhas_images\u001b[0m\u001b[0;34m:\u001b[0m\u001b[0;34m\u001b[0m\u001b[0;34m\u001b[0m\u001b[0m\n\u001b[1;32m    131\u001b[0m         \u001b[0;32mfor\u001b[0m \u001b[0ma\u001b[0m \u001b[0;32min\u001b[0m \u001b[0martists\u001b[0m\u001b[0;34m:\u001b[0m\u001b[0;34m\u001b[0m\u001b[0;34m\u001b[0m\u001b[0m\n\u001b[0;32m--> 132\u001b[0;31m             \u001b[0ma\u001b[0m\u001b[0;34m.\u001b[0m\u001b[0mdraw\u001b[0m\u001b[0;34m(\u001b[0m\u001b[0mrenderer\u001b[0m\u001b[0;34m)\u001b[0m\u001b[0;34m\u001b[0m\u001b[0;34m\u001b[0m\u001b[0m\n\u001b[0m\u001b[1;32m    133\u001b[0m     \u001b[0;32melse\u001b[0m\u001b[0;34m:\u001b[0m\u001b[0;34m\u001b[0m\u001b[0;34m\u001b[0m\u001b[0m\n\u001b[1;32m    134\u001b[0m         \u001b[0;31m# Composite any adjacent images together\u001b[0m\u001b[0;34m\u001b[0m\u001b[0;34m\u001b[0m\u001b[0;34m\u001b[0m\u001b[0m\n",
      "\u001b[0;32m/opt/apps/miniconda3/envs/parcels-dev/lib/python3.8/site-packages/matplotlib/artist.py\u001b[0m in \u001b[0;36mdraw_wrapper\u001b[0;34m(artist, renderer, *args, **kwargs)\u001b[0m\n\u001b[1;32m     49\u001b[0m                 \u001b[0mrenderer\u001b[0m\u001b[0;34m.\u001b[0m\u001b[0mstart_filter\u001b[0m\u001b[0;34m(\u001b[0m\u001b[0;34m)\u001b[0m\u001b[0;34m\u001b[0m\u001b[0;34m\u001b[0m\u001b[0m\n\u001b[1;32m     50\u001b[0m \u001b[0;34m\u001b[0m\u001b[0m\n\u001b[0;32m---> 51\u001b[0;31m             \u001b[0;32mreturn\u001b[0m \u001b[0mdraw\u001b[0m\u001b[0;34m(\u001b[0m\u001b[0martist\u001b[0m\u001b[0;34m,\u001b[0m \u001b[0mrenderer\u001b[0m\u001b[0;34m,\u001b[0m \u001b[0;34m*\u001b[0m\u001b[0margs\u001b[0m\u001b[0;34m,\u001b[0m \u001b[0;34m**\u001b[0m\u001b[0mkwargs\u001b[0m\u001b[0;34m)\u001b[0m\u001b[0;34m\u001b[0m\u001b[0;34m\u001b[0m\u001b[0m\n\u001b[0m\u001b[1;32m     52\u001b[0m         \u001b[0;32mfinally\u001b[0m\u001b[0;34m:\u001b[0m\u001b[0;34m\u001b[0m\u001b[0;34m\u001b[0m\u001b[0m\n\u001b[1;32m     53\u001b[0m             \u001b[0;32mif\u001b[0m \u001b[0martist\u001b[0m\u001b[0;34m.\u001b[0m\u001b[0mget_agg_filter\u001b[0m\u001b[0;34m(\u001b[0m\u001b[0;34m)\u001b[0m \u001b[0;32mis\u001b[0m \u001b[0;32mnot\u001b[0m \u001b[0;32mNone\u001b[0m\u001b[0;34m:\u001b[0m\u001b[0;34m\u001b[0m\u001b[0;34m\u001b[0m\u001b[0m\n",
      "\u001b[0;32m/opt/apps/miniconda3/envs/parcels-dev/lib/python3.8/site-packages/matplotlib/lines.py\u001b[0m in \u001b[0;36mdraw\u001b[0;34m(self, renderer)\u001b[0m\n\u001b[1;32m    794\u001b[0m \u001b[0;34m\u001b[0m\u001b[0m\n\u001b[1;32m    795\u001b[0m                 \u001b[0mgc\u001b[0m\u001b[0;34m.\u001b[0m\u001b[0mset_dashes\u001b[0m\u001b[0;34m(\u001b[0m\u001b[0mself\u001b[0m\u001b[0;34m.\u001b[0m\u001b[0m_dashOffset\u001b[0m\u001b[0;34m,\u001b[0m \u001b[0mself\u001b[0m\u001b[0;34m.\u001b[0m\u001b[0m_dashSeq\u001b[0m\u001b[0;34m)\u001b[0m\u001b[0;34m\u001b[0m\u001b[0;34m\u001b[0m\u001b[0m\n\u001b[0;32m--> 796\u001b[0;31m                 \u001b[0mrenderer\u001b[0m\u001b[0;34m.\u001b[0m\u001b[0mdraw_path\u001b[0m\u001b[0;34m(\u001b[0m\u001b[0mgc\u001b[0m\u001b[0;34m,\u001b[0m \u001b[0mtpath\u001b[0m\u001b[0;34m,\u001b[0m \u001b[0maffine\u001b[0m\u001b[0;34m.\u001b[0m\u001b[0mfrozen\u001b[0m\u001b[0;34m(\u001b[0m\u001b[0;34m)\u001b[0m\u001b[0;34m)\u001b[0m\u001b[0;34m\u001b[0m\u001b[0;34m\u001b[0m\u001b[0m\n\u001b[0m\u001b[1;32m    797\u001b[0m                 \u001b[0mgc\u001b[0m\u001b[0;34m.\u001b[0m\u001b[0mrestore\u001b[0m\u001b[0;34m(\u001b[0m\u001b[0;34m)\u001b[0m\u001b[0;34m\u001b[0m\u001b[0;34m\u001b[0m\u001b[0m\n\u001b[1;32m    798\u001b[0m \u001b[0;34m\u001b[0m\u001b[0m\n",
      "\u001b[0;32m/opt/apps/miniconda3/envs/parcels-dev/lib/python3.8/site-packages/matplotlib/backends/backend_agg.py\u001b[0m in \u001b[0;36mdraw_path\u001b[0;34m(self, gc, path, transform, rgbFace)\u001b[0m\n\u001b[1;32m    159\u001b[0m         \u001b[0;32melse\u001b[0m\u001b[0;34m:\u001b[0m\u001b[0;34m\u001b[0m\u001b[0;34m\u001b[0m\u001b[0m\n\u001b[1;32m    160\u001b[0m             \u001b[0;32mtry\u001b[0m\u001b[0;34m:\u001b[0m\u001b[0;34m\u001b[0m\u001b[0;34m\u001b[0m\u001b[0m\n\u001b[0;32m--> 161\u001b[0;31m                 \u001b[0mself\u001b[0m\u001b[0;34m.\u001b[0m\u001b[0m_renderer\u001b[0m\u001b[0;34m.\u001b[0m\u001b[0mdraw_path\u001b[0m\u001b[0;34m(\u001b[0m\u001b[0mgc\u001b[0m\u001b[0;34m,\u001b[0m \u001b[0mpath\u001b[0m\u001b[0;34m,\u001b[0m \u001b[0mtransform\u001b[0m\u001b[0;34m,\u001b[0m \u001b[0mrgbFace\u001b[0m\u001b[0;34m)\u001b[0m\u001b[0;34m\u001b[0m\u001b[0;34m\u001b[0m\u001b[0m\n\u001b[0m\u001b[1;32m    162\u001b[0m             \u001b[0;32mexcept\u001b[0m \u001b[0mOverflowError\u001b[0m \u001b[0;32mas\u001b[0m \u001b[0merr\u001b[0m\u001b[0;34m:\u001b[0m\u001b[0;34m\u001b[0m\u001b[0;34m\u001b[0m\u001b[0m\n\u001b[1;32m    163\u001b[0m                 raise OverflowError(\"Exceeded cell block limit (set \"\n",
      "\u001b[0;32m/opt/apps/miniconda3/envs/parcels-dev/lib/python3.8/site-packages/matplotlib/transforms.py\u001b[0m in \u001b[0;36m__array__\u001b[0;34m(self, *args, **kwargs)\u001b[0m\n\u001b[1;32m    261\u001b[0m     \u001b[0mfrozen\u001b[0m\u001b[0;34m.\u001b[0m\u001b[0m__doc__\u001b[0m \u001b[0;34m=\u001b[0m \u001b[0mTransformNode\u001b[0m\u001b[0;34m.\u001b[0m\u001b[0m__doc__\u001b[0m\u001b[0;34m\u001b[0m\u001b[0;34m\u001b[0m\u001b[0m\n\u001b[1;32m    262\u001b[0m \u001b[0;34m\u001b[0m\u001b[0m\n\u001b[0;32m--> 263\u001b[0;31m     \u001b[0;32mdef\u001b[0m \u001b[0m__array__\u001b[0m\u001b[0;34m(\u001b[0m\u001b[0mself\u001b[0m\u001b[0;34m,\u001b[0m \u001b[0;34m*\u001b[0m\u001b[0margs\u001b[0m\u001b[0;34m,\u001b[0m \u001b[0;34m**\u001b[0m\u001b[0mkwargs\u001b[0m\u001b[0;34m)\u001b[0m\u001b[0;34m:\u001b[0m\u001b[0;34m\u001b[0m\u001b[0;34m\u001b[0m\u001b[0m\n\u001b[0m\u001b[1;32m    264\u001b[0m         \u001b[0;32mreturn\u001b[0m \u001b[0mself\u001b[0m\u001b[0;34m.\u001b[0m\u001b[0mget_points\u001b[0m\u001b[0;34m(\u001b[0m\u001b[0;34m)\u001b[0m\u001b[0;34m\u001b[0m\u001b[0;34m\u001b[0m\u001b[0m\n\u001b[1;32m    265\u001b[0m \u001b[0;34m\u001b[0m\u001b[0m\n",
      "\u001b[0;31mKeyboardInterrupt\u001b[0m: "
     ]
    }
   ],
   "source": [
    "plt.figure(figsize = (16,9))\n",
    "plt.plot(locations[:,0], locations[:,1],'k.')\n",
    "\n",
    "for i in range(len(index_start)):\n",
    "#for i in range(25300,25350):\n",
    "    index1 = index_start[i]\n",
    "    index2 = index_end[2][i]\n",
    "    values = [int(index1), int(index2)]\n",
    "    plt.plot(locations[values,0], locations[values,1])\n",
    "    \n",
    "    \n"
   ]
  },
  {
   "cell_type": "code",
   "execution_count": 128,
   "id": "23cbaefb-4c2b-4404-9206-0dae37fb873a",
   "metadata": {},
   "outputs": [
    {
     "data": {
      "text/plain": [
       "211072"
      ]
     },
     "execution_count": 128,
     "metadata": {},
     "output_type": "execute_result"
    }
   ],
   "source": [
    "len(index_start)"
   ]
  },
  {
   "cell_type": "code",
   "execution_count": 129,
   "id": "3c9f73f9-d7c7-45ff-8cf9-33065ec82f23",
   "metadata": {},
   "outputs": [
    {
     "data": {
      "text/plain": [
       "6676"
      ]
     },
     "execution_count": 129,
     "metadata": {},
     "output_type": "execute_result"
    }
   ],
   "source": [
    "len(locations)"
   ]
  },
  {
   "cell_type": "code",
   "execution_count": 140,
   "id": "34d61199-4cb0-46e1-985c-edc7511c6b85",
   "metadata": {},
   "outputs": [
    {
     "data": {
      "image/png": "[encoded data removed]",
      "text/plain": [
       "<Figure size 1152x648 with 1 Axes>"
      ]
     },
     "metadata": {
      "needs_background": "light"
     },
     "output_type": "display_data"
    }
   ],
   "source": [
    "from matplotlib import pyplot as plt\n",
    "import numpy as np\n",
    "\n",
    "\n",
    "def add_arrow(line, position=None, direction='right', size=25, color=None):\n",
    "    \"\"\"\n",
    "    add an arrow to a line.\n",
    "\n",
    "    line:       Line2D object\n",
    "    position:   x-position of the arrow. If None, mean of xdata is taken\n",
    "    direction:  'left' or 'right'\n",
    "    size:       size of the arrow in fontsize points\n",
    "    color:      if None, line color is taken.\n",
    "    \"\"\"\n",
    "    if color is None:\n",
    "        color = line.get_color()\n",
    "\n",
    "    xdata = line.get_xdata()\n",
    "    ydata = line.get_ydata()\n",
    "\n",
    "    if position is None:\n",
    "        position = xdata.mean()\n",
    "    # find closest index\n",
    "    start_ind = np.argmin(np.absolute(xdata - position))\n",
    "    if direction == 'right':\n",
    "        end_ind = start_ind + 1\n",
    "    else:\n",
    "        end_ind = start_ind - 1\n",
    "\n",
    "    line.axes.annotate('',\n",
    "        xytext=(xdata[start_ind], ydata[start_ind]),\n",
    "        xy=(xdata[end_ind], ydata[end_ind]),\n",
    "        arrowprops=dict(arrowstyle=\"->\", color=color),\n",
    "        size=size\n",
    "    )\n",
    "\n",
    "\n",
    "plt.figure(figsize = (16,9))\n",
    "plt.plot(locations[:,0], locations[:,1],'k.')\n",
    "\n",
    "for i in range(41880,41980):\n",
    "    index1 = index_start[i]\n",
    "    index2 = index_end[3][i]\n",
    "    values = [int(index1), int(index2)]\n",
    "    line = plt.plot(locations[values,0], locations[values,1])[0]\n",
    "    add_arrow(line)\n",
    "\n",
    "    "
   ]
  },
  {
   "cell_type": "markdown",
   "id": "53cfff07-018f-413b-b142-55b8c9183b62",
   "metadata": {
    "tags": []
   },
   "source": [
    "It doesn't draw a line if the particle stayed in the same node, as is the case with the land-particles"
   ]
  },
  {
   "cell_type": "code",
   "execution_count": 144,
   "id": "893a0c52-5c87-4d82-a786-fb81c84114d3",
   "metadata": {
    "tags": []
   },
   "outputs": [
    {
     "data": {
      "image/png": "[encoded data removed]",
      "text/plain": [
       "<Figure size 1152x648 with 1 Axes>"
      ]
     },
     "metadata": {
      "needs_background": "light"
     },
     "output_type": "display_data"
    }
   ],
   "source": [
    "from matplotlib import pyplot as plt\n",
    "import numpy as np\n",
    "\n",
    "\n",
    "def add_arrow(line, position=None, direction='right', size=25, color=None):\n",
    "    \"\"\"\n",
    "    add an arrow to a line.\n",
    "\n",
    "    line:       Line2D object\n",
    "    position:   x-position of the arrow. If None, mean of xdata is taken\n",
    "    direction:  'left' or 'right'\n",
    "    size:       size of the arrow in fontsize points\n",
    "    color:      if None, line color is taken.\n",
    "    \"\"\"\n",
    "    if color is None:\n",
    "        color = line.get_color()\n",
    "\n",
    "    xdata = line.get_xdata()\n",
    "    ydata = line.get_ydata()\n",
    "\n",
    "    if position is None:\n",
    "        position = xdata.mean()\n",
    "    # find closest index\n",
    "    start_ind = np.argmin(np.absolute(xdata - position))\n",
    "    if direction == 'right':\n",
    "        end_ind = start_ind + 1\n",
    "    else:\n",
    "        end_ind = start_ind - 1\n",
    "\n",
    "    line.axes.annotate('',\n",
    "        xytext=(xdata[start_ind], ydata[start_ind]),\n",
    "        xy=(xdata[end_ind], ydata[end_ind]),\n",
    "        arrowprops=dict(arrowstyle=\"->\", color=color),\n",
    "        size=size\n",
    "    )\n",
    "\n",
    "\n",
    "plt.figure(figsize = (16,9))\n",
    "plt.plot(locations[:,0], locations[:,1],'k.')\n",
    "\n",
    "for i in range(1145280,1145300):\n",
    "    index1 = index_start[i]\n",
    "    index2 = index_end[3][i]\n",
    "    values = [int(index1), int(index2)]\n",
    "    line = plt.plot(locations[values,0], locations[values,1])[0]\n",
    "    add_arrow(line)\n",
    "\n",
    "    "
   ]
  },
  {
   "cell_type": "code",
   "execution_count": 141,
   "id": "c2e4a8fd-8207-4a93-825f-ed606505b69d",
   "metadata": {},
   "outputs": [
    {
     "data": {
      "text/plain": [
       "(array([40.58333206, 39.91666794]), array([-9.04552174, -6.89992809]))"
      ]
     },
     "execution_count": 141,
     "metadata": {},
     "output_type": "execute_result"
    }
   ],
   "source": [
    "locations[values,0], locations[values,1]"
   ]
  },
  {
   "cell_type": "code",
   "execution_count": 142,
   "id": "aae26989-5d10-4e1e-b26b-046452ab7398",
   "metadata": {},
   "outputs": [
    {
     "data": {
      "text/plain": [
       "array([[ 2737.,  2737.,  2561., ..., 23834., 23834., 23949.],\n",
       "       [ 2911.,  2911.,  2911., ..., 23837., 23952., 23952.],\n",
       "       [ 2737.,  2911.,  2911., ..., 23606., 23606., 23606.],\n",
       "       [ 2737.,  2911.,  2911., ..., 24293., 24293., 24293.]])"
      ]
     },
     "execution_count": 142,
     "metadata": {},
     "output_type": "execute_result"
    }
   ],
   "source": [
    "index_end"
   ]
  },
  {
   "cell_type": "markdown",
   "id": "e0853ed8-063f-415e-a1c3-11972c912a3f",
   "metadata": {},
   "source": [
    "## Network analysis "
   ]
  },
  {
   "cell_type": "markdown",
   "id": "9ee2f08f-1302-4ae6-902f-e0f0a8f26a3c",
   "metadata": {},
   "source": [
    "The probability of reaching node $k_l$ at time $t_l$ under the condition of being at $k_{l−1}$ at time $t_{l−1}$ is:"
   ]
  },
  {
   "cell_type": "markdown",
   "id": "040d496a-e952-4f36-9d3c-101a622fce08",
   "metadata": {},
   "source": [
    "$T_{k_{l-1}k_l}^{(l)} = \\frac{A_{k_{l-1},k_l}^{(l)}}{s_{out}^{(l)}(k_l-1)}$"
   ]
  },
  {
   "cell_type": "markdown",
   "id": "03c8b0b1-8645-450b-bc42-d2fd2dda4ad4",
   "metadata": {},
   "source": [
    "Take $l = 1$, so from $t_0$ to $t_1$. So: $k_l = k_1$ and $k_{l-1} = k_0$:"
   ]
  },
  {
   "cell_type": "markdown",
   "id": "5e8c7b64-3f21-4678-9a43-1a265d3560e2",
   "metadata": {},
   "source": [
    "$T_{k_{0}k_1}^{(1)} = \\frac{A_{k_{0},k_1}^{(1)}}{s_{out}^{(1)}(k_1-1)}$"
   ]
  },
  {
   "cell_type": "code",
   "execution_count": 130,
   "id": "1962313d-a21c-43ea-a124-c7116fbd6551",
   "metadata": {},
   "outputs": [],
   "source": [
    "T1 = np.zeros((np.shape(G)[1],np.shape(G)[1]))\n",
    "T2 = np.zeros((np.shape(G)[1],np.shape(G)[1]))\n",
    "T3 = np.zeros((np.shape(G)[1],np.shape(G)[1]))\n",
    "T4 = np.zeros((np.shape(G)[1],np.shape(G)[1]))"
   ]
  },
  {
   "cell_type": "code",
   "execution_count": null,
   "id": "02d1014e-9d49-4bfc-8b31-0aa742fa0a71",
   "metadata": {},
   "outputs": [],
   "source": []
  },
  {
   "cell_type": "code",
   "execution_count": null,
   "id": "4c0d533a-4e97-4dc0-8a7c-bc391254b804",
   "metadata": {},
   "outputs": [],
   "source": []
  },
  {
   "cell_type": "code",
   "execution_count": 131,
   "id": "8a30bb32-4fa4-4c61-9569-6575ccdb0364",
   "metadata": {},
   "outputs": [
    {
     "ename": "KeyboardInterrupt",
     "evalue": "",
     "output_type": "error",
     "traceback": [
      "\u001b[0;31m---------------------------------------------------------------------------\u001b[0m",
      "\u001b[0;31mKeyboardInterrupt\u001b[0m                         Traceback (most recent call last)",
      "\u001b[0;32m/tmp/ipykernel_2973924/879583040.py\u001b[0m in \u001b[0;36m<module>\u001b[0;34m\u001b[0m\n\u001b[1;32m      6\u001b[0m         \u001b[0mA4\u001b[0m \u001b[0;34m=\u001b[0m \u001b[0mG\u001b[0m\u001b[0;34m[\u001b[0m\u001b[0;36m3\u001b[0m\u001b[0;34m,\u001b[0m\u001b[0mj\u001b[0m\u001b[0;34m,\u001b[0m\u001b[0mi\u001b[0m\u001b[0;34m]\u001b[0m \u001b[0;31m#from node i to node j\u001b[0m\u001b[0;34m\u001b[0m\u001b[0;34m\u001b[0m\u001b[0m\n\u001b[1;32m      7\u001b[0m         \u001b[0ms1\u001b[0m \u001b[0;34m=\u001b[0m \u001b[0mnp\u001b[0m\u001b[0;34m.\u001b[0m\u001b[0msum\u001b[0m\u001b[0;34m(\u001b[0m\u001b[0mG\u001b[0m\u001b[0;34m[\u001b[0m\u001b[0;36m0\u001b[0m\u001b[0;34m,\u001b[0m\u001b[0;34m:\u001b[0m\u001b[0;34m,\u001b[0m\u001b[0mi\u001b[0m\u001b[0;34m]\u001b[0m\u001b[0;34m)\u001b[0m\u001b[0;34m\u001b[0m\u001b[0;34m\u001b[0m\u001b[0m\n\u001b[0;32m----> 8\u001b[0;31m         \u001b[0ms2\u001b[0m \u001b[0;34m=\u001b[0m \u001b[0mnp\u001b[0m\u001b[0;34m.\u001b[0m\u001b[0msum\u001b[0m\u001b[0;34m(\u001b[0m\u001b[0mG\u001b[0m\u001b[0;34m[\u001b[0m\u001b[0;36m1\u001b[0m\u001b[0;34m,\u001b[0m\u001b[0;34m:\u001b[0m\u001b[0;34m,\u001b[0m\u001b[0mi\u001b[0m\u001b[0;34m]\u001b[0m\u001b[0;34m)\u001b[0m\u001b[0;34m\u001b[0m\u001b[0;34m\u001b[0m\u001b[0m\n\u001b[0m\u001b[1;32m      9\u001b[0m         \u001b[0ms3\u001b[0m \u001b[0;34m=\u001b[0m \u001b[0mnp\u001b[0m\u001b[0;34m.\u001b[0m\u001b[0msum\u001b[0m\u001b[0;34m(\u001b[0m\u001b[0mG\u001b[0m\u001b[0;34m[\u001b[0m\u001b[0;36m2\u001b[0m\u001b[0;34m,\u001b[0m\u001b[0;34m:\u001b[0m\u001b[0;34m,\u001b[0m\u001b[0mi\u001b[0m\u001b[0;34m]\u001b[0m\u001b[0;34m)\u001b[0m\u001b[0;34m\u001b[0m\u001b[0;34m\u001b[0m\u001b[0m\n\u001b[1;32m     10\u001b[0m         \u001b[0ms4\u001b[0m \u001b[0;34m=\u001b[0m \u001b[0mnp\u001b[0m\u001b[0;34m.\u001b[0m\u001b[0msum\u001b[0m\u001b[0;34m(\u001b[0m\u001b[0mG\u001b[0m\u001b[0;34m[\u001b[0m\u001b[0;36m3\u001b[0m\u001b[0;34m,\u001b[0m\u001b[0;34m:\u001b[0m\u001b[0;34m,\u001b[0m\u001b[0mi\u001b[0m\u001b[0;34m]\u001b[0m\u001b[0;34m)\u001b[0m\u001b[0;34m\u001b[0m\u001b[0;34m\u001b[0m\u001b[0m\n",
      "\u001b[0;32m~/.local/lib/python3.8/site-packages/numpy/core/overrides.py\u001b[0m in \u001b[0;36msum\u001b[0;34m(*args, **kwargs)\u001b[0m\n",
      "\u001b[0;32m~/.local/lib/python3.8/site-packages/numpy/core/fromnumeric.py\u001b[0m in \u001b[0;36msum\u001b[0;34m(a, axis, dtype, out, keepdims, initial, where)\u001b[0m\n\u001b[1;32m   2294\u001b[0m         \u001b[0;32mreturn\u001b[0m \u001b[0mres\u001b[0m\u001b[0;34m\u001b[0m\u001b[0;34m\u001b[0m\u001b[0m\n\u001b[1;32m   2295\u001b[0m \u001b[0;34m\u001b[0m\u001b[0m\n\u001b[0;32m-> 2296\u001b[0;31m     return _wrapreduction(a, np.add, 'sum', axis, dtype, out, keepdims=keepdims,\n\u001b[0m\u001b[1;32m   2297\u001b[0m                           initial=initial, where=where)\n\u001b[1;32m   2298\u001b[0m \u001b[0;34m\u001b[0m\u001b[0m\n",
      "\u001b[0;32m~/.local/lib/python3.8/site-packages/numpy/core/fromnumeric.py\u001b[0m in \u001b[0;36m_wrapreduction\u001b[0;34m(obj, ufunc, method, axis, dtype, out, **kwargs)\u001b[0m\n\u001b[1;32m     84\u001b[0m                 \u001b[0;32mreturn\u001b[0m \u001b[0mreduction\u001b[0m\u001b[0;34m(\u001b[0m\u001b[0maxis\u001b[0m\u001b[0;34m=\u001b[0m\u001b[0maxis\u001b[0m\u001b[0;34m,\u001b[0m \u001b[0mout\u001b[0m\u001b[0;34m=\u001b[0m\u001b[0mout\u001b[0m\u001b[0;34m,\u001b[0m \u001b[0;34m**\u001b[0m\u001b[0mpasskwargs\u001b[0m\u001b[0;34m)\u001b[0m\u001b[0;34m\u001b[0m\u001b[0;34m\u001b[0m\u001b[0m\n\u001b[1;32m     85\u001b[0m \u001b[0;34m\u001b[0m\u001b[0m\n\u001b[0;32m---> 86\u001b[0;31m     \u001b[0;32mreturn\u001b[0m \u001b[0mufunc\u001b[0m\u001b[0;34m.\u001b[0m\u001b[0mreduce\u001b[0m\u001b[0;34m(\u001b[0m\u001b[0mobj\u001b[0m\u001b[0;34m,\u001b[0m \u001b[0maxis\u001b[0m\u001b[0;34m,\u001b[0m \u001b[0mdtype\u001b[0m\u001b[0;34m,\u001b[0m \u001b[0mout\u001b[0m\u001b[0;34m,\u001b[0m \u001b[0;34m**\u001b[0m\u001b[0mpasskwargs\u001b[0m\u001b[0;34m)\u001b[0m\u001b[0;34m\u001b[0m\u001b[0;34m\u001b[0m\u001b[0m\n\u001b[0m\u001b[1;32m     87\u001b[0m \u001b[0;34m\u001b[0m\u001b[0m\n\u001b[1;32m     88\u001b[0m \u001b[0;34m\u001b[0m\u001b[0m\n",
      "\u001b[0;31mKeyboardInterrupt\u001b[0m: "
     ]
    }
   ],
   "source": [
    "for i in range (np.shape(G)[1]):\n",
    "    for j in range(np.shape(G)[1]):\n",
    "        A1 = G[0,j,i] #from node i to node j\n",
    "        A2 = G[1,j,i] #from node i to node j\n",
    "        A3 = G[2,j,i] #from node i to node j\n",
    "        A4 = G[3,j,i] #from node i to node j\n",
    "        s1 = np.sum(G[0,:,i])\n",
    "        s2 = np.sum(G[1,:,i])\n",
    "        s3 = np.sum(G[2,:,i])\n",
    "        s4 = np.sum(G[3,:,i])\n",
    "        if s1 == 0:\n",
    "            T1[j,i] = 0\n",
    "        if s2 == 0:\n",
    "            T2[j,i] = 0\n",
    "        if s3 == 0:\n",
    "            T3[j,i] = 0\n",
    "        if s4 == 0:\n",
    "            T4[j,i] = 0\n",
    "        else:\n",
    "            T1[j,i] = A1/s1\n",
    "            T2[j,i] = A2/s2\n",
    "            T3[j,i] = A3/s3\n",
    "            T4[j,i] = A4/s4"
   ]
  },
  {
   "cell_type": "code",
   "execution_count": 132,
   "id": "fe130651-8de9-44f2-ba86-62a80a80817b",
   "metadata": {},
   "outputs": [
    {
     "data": {
      "text/plain": [
       "909"
      ]
     },
     "execution_count": 132,
     "metadata": {},
     "output_type": "execute_result"
    }
   ],
   "source": [
    "i"
   ]
  },
  {
   "cell_type": "code",
   "execution_count": 135,
   "id": "e002f106-b80c-4a1d-8de9-4f8cf499663c",
   "metadata": {},
   "outputs": [
    {
     "data": {
      "text/plain": [
       "992"
      ]
     },
     "execution_count": 135,
     "metadata": {},
     "output_type": "execute_result"
    }
   ],
   "source": [
    "j"
   ]
  },
  {
   "cell_type": "code",
   "execution_count": 134,
   "id": "a1df3702-7f60-4b86-a578-27314a98808c",
   "metadata": {},
   "outputs": [
    {
     "data": {
      "text/plain": [
       "6676"
      ]
     },
     "execution_count": 134,
     "metadata": {},
     "output_type": "execute_result"
    }
   ],
   "source": [
    "np.shape(G)[1]"
   ]
  },
  {
   "cell_type": "code",
   "execution_count": null,
   "id": "63b944ba-9dc1-49c8-b8b6-5c723ba8817a",
   "metadata": {},
   "outputs": [],
   "source": [
    "T1,T2,T3,T4"
   ]
  },
  {
   "cell_type": "code",
   "execution_count": null,
   "id": "88095dc3-b1af-4afe-8e68-2256d24a2a1a",
   "metadata": {},
   "outputs": [],
   "source": [
    "T = []"
   ]
  },
  {
   "cell_type": "code",
   "execution_count": null,
   "id": "1745458b-9bf0-45a9-b2eb-62053f3768ba",
   "metadata": {},
   "outputs": [],
   "source": [
    "T.append(T1)\n",
    "T.append(T2)\n",
    "T.append(T3)\n",
    "T.append(T4)\n",
    "T"
   ]
  },
  {
   "cell_type": "code",
   "execution_count": null,
   "id": "31edec52-b12f-4c9c-b31c-26f4581b764f",
   "metadata": {},
   "outputs": [],
   "source": []
  },
  {
   "cell_type": "code",
   "execution_count": null,
   "id": "1617e656-16b2-49fa-8497-f12918a2dbdd",
   "metadata": {},
   "outputs": [],
   "source": [
    "np.save('T_005_lessloc.npy',(T))"
   ]
  },
  {
   "cell_type": "code",
   "execution_count": null,
   "id": "0c27455a-1ab9-4eb0-9635-e4a1865b1727",
   "metadata": {},
   "outputs": [],
   "source": [
    "np.shape(T)"
   ]
  },
  {
   "cell_type": "code",
   "execution_count": null,
   "id": "d1b6eac1-99d3-4c85-8017-3a8845b2c8e5",
   "metadata": {},
   "outputs": [],
   "source": [
    "T[2][0:10,0:5]"
   ]
  },
  {
   "cell_type": "code",
   "execution_count": null,
   "id": "0355fbcc-d09f-45eb-b2c0-b03401e68433",
   "metadata": {},
   "outputs": [],
   "source": [
    "plt.plot(locations[:,0], locations[:,1],'.', label = 'Nodes')\n",
    "plt.plot(locations[105,0], locations[105,1],'.', label = 'Begin')\n",
    "plt.legend()"
   ]
  },
  {
   "cell_type": "code",
   "execution_count": null,
   "id": "94825306-29e4-4d87-bca2-0c0f04caed92",
   "metadata": {},
   "outputs": [],
   "source": [
    "plt.plot(locations[:,0], locations[:,1],'.', label = 'Nodes')\n",
    "plt.plot(locations[154,0], locations[154,1],'o', label = 'Begin')\n",
    "plt.legend()"
   ]
  },
  {
   "cell_type": "code",
   "execution_count": null,
   "id": "a1975b8f-2808-4b0d-930c-3f33c8246b5d",
   "metadata": {},
   "outputs": [],
   "source": [
    "#A1B = T[0][:,105] #start from node 105\n",
    "A1B = T[0][:,154] #start from node 154\n",
    "A1B"
   ]
  },
  {
   "cell_type": "code",
   "execution_count": null,
   "id": "88e48788-ce68-4ee9-8bdf-e84832408b50",
   "metadata": {},
   "outputs": [],
   "source": [
    "#p = np.zeros((2,4,4))\n",
    "p = np.zeros((4,191,191))\n",
    "#MPP = np.zeros((4,3))\n",
    "MPP = np.zeros((191,4))\n",
    "MPP[:,0] = A1B\n",
    "p[0,:,:] = T[0]\n",
    "\n",
    "for i in range(0,3):\n",
    "    p[i+1,:,:] = MPP[:,i]*T[i+1]\n",
    "    MPP[:,i+1] = np.max(p[i+1,:,:], axis = 1)\n",
    "    "
   ]
  },
  {
   "cell_type": "code",
   "execution_count": null,
   "id": "b2233567-122b-45d1-989d-a65012727a9e",
   "metadata": {
    "tags": []
   },
   "outputs": [],
   "source": [
    "p"
   ]
  },
  {
   "cell_type": "code",
   "execution_count": null,
   "id": "020b1d6f-3d7d-4cc5-b87a-48990a04b8ee",
   "metadata": {},
   "outputs": [],
   "source": [
    "MPP[0:5]"
   ]
  },
  {
   "cell_type": "code",
   "execution_count": null,
   "id": "e5c6e718-e872-41c1-909c-4ab86c130739",
   "metadata": {},
   "outputs": [],
   "source": []
  },
  {
   "cell_type": "markdown",
   "id": "b9f98270-d475-4702-9b6a-900ec7c5ade8",
   "metadata": {},
   "source": [
    "Look which MPP's are non-zero"
   ]
  },
  {
   "cell_type": "code",
   "execution_count": null,
   "id": "113b6409-8d57-4a3d-a02f-01695e87e56c",
   "metadata": {},
   "outputs": [],
   "source": [
    "np.argwhere(MPP[:,0] != 0)"
   ]
  },
  {
   "cell_type": "code",
   "execution_count": null,
   "id": "abdf9555-5b6b-44ed-a8ac-0279c50b5414",
   "metadata": {},
   "outputs": [],
   "source": [
    "MPP[np.argwhere(MPP[:,0] != 0)][:,0][:,0]"
   ]
  },
  {
   "cell_type": "code",
   "execution_count": null,
   "id": "c6654174-5a2c-4ea6-b39c-96305ad08e2a",
   "metadata": {},
   "outputs": [],
   "source": [
    "np.argwhere(MPP[:,1] != 0)"
   ]
  },
  {
   "cell_type": "code",
   "execution_count": null,
   "id": "e893ba93-f4f3-480c-b5a3-b33c0394611e",
   "metadata": {},
   "outputs": [],
   "source": [
    "a_ = MPP[np.argwhere(MPP[:,1] != 0)][:,0][:,1]\n",
    "a_ = MPP[np.argwhere(MPP[:,3] != 0)][:,0][:,3]\n",
    "a_"
   ]
  },
  {
   "cell_type": "code",
   "execution_count": null,
   "id": "b43dfea8-7ba0-4b9e-b6fa-092d246717b8",
   "metadata": {},
   "outputs": [],
   "source": []
  },
  {
   "cell_type": "code",
   "execution_count": null,
   "id": "df3c4c23-d19e-4fc0-a726-ec4630b8bcb1",
   "metadata": {},
   "outputs": [],
   "source": [
    "len(a_)"
   ]
  },
  {
   "cell_type": "code",
   "execution_count": null,
   "id": "e94b075a-ce29-47d6-babd-3f0b841249d0",
   "metadata": {},
   "outputs": [],
   "source": [
    "for i in range(len(a_)):\n",
    "    print(\"%.4f\" % a_[i])"
   ]
  },
  {
   "cell_type": "code",
   "execution_count": null,
   "id": "caf390e3-49c0-47f2-b3eb-1dee4a2bdefc",
   "metadata": {},
   "outputs": [],
   "source": [
    "np.argwhere(MPP[:,2] != 0)"
   ]
  },
  {
   "cell_type": "code",
   "execution_count": null,
   "id": "26145b99-c63c-4fe9-b3b3-396c8f48fafb",
   "metadata": {},
   "outputs": [],
   "source": [
    "MPP[np.argwhere(MPP[:,2] != 0)][:,0][:,2]"
   ]
  },
  {
   "cell_type": "code",
   "execution_count": null,
   "id": "f15890a0-9dfb-400e-871a-41b88329f6ed",
   "metadata": {},
   "outputs": [],
   "source": [
    "np.argwhere(MPP[:,3] != 0)"
   ]
  },
  {
   "cell_type": "code",
   "execution_count": null,
   "id": "4095dbd8-9d68-42ff-aeb2-c50b70f32001",
   "metadata": {},
   "outputs": [],
   "source": [
    "len(np.argwhere(MPP[:,3] != 0))"
   ]
  },
  {
   "cell_type": "code",
   "execution_count": null,
   "id": "1bac5d6f-529f-4e65-8a00-063afa2c48c3",
   "metadata": {},
   "outputs": [],
   "source": [
    "MPP[np.argwhere(MPP[:,3] != 0)][:,0][:,3]"
   ]
  },
  {
   "cell_type": "code",
   "execution_count": null,
   "id": "95b6b43c-8125-48c5-b533-c360578296d4",
   "metadata": {},
   "outputs": [],
   "source": [
    "np.shape(MPP)"
   ]
  },
  {
   "cell_type": "code",
   "execution_count": null,
   "id": "79d88373-3d46-4e80-acd6-2690f2da90aa",
   "metadata": {
    "tags": []
   },
   "outputs": [],
   "source": [
    "from matplotlib import pyplot as plt\n",
    "import numpy as np\n",
    "\n",
    "\n",
    "def add_arrow(line, position=None, direction='right', size=25, color=None):\n",
    "    \"\"\"\n",
    "    add an arrow to a line.\n",
    "\n",
    "    line:       Line2D object\n",
    "    position:   x-position of the arrow. If None, mean of xdata is taken\n",
    "    direction:  'left' or 'right'\n",
    "    size:       size of the arrow in fontsize points\n",
    "    color:      if None, line color is taken.\n",
    "    \"\"\"\n",
    "    if color is None:\n",
    "        color = line.get_color()\n",
    "\n",
    "    xdata = line.get_xdata()\n",
    "    ydata = line.get_ydata()\n",
    "\n",
    "    if position is None:\n",
    "        position = xdata.mean()\n",
    "    # find closest index\n",
    "    start_ind = np.argmin(np.absolute(xdata - position))\n",
    "    if direction == 'right':\n",
    "        end_ind = start_ind + 1\n",
    "    else:\n",
    "        end_ind = start_ind - 1\n",
    "\n",
    "    line.axes.annotate('',\n",
    "        xytext=(xdata[start_ind], ydata[start_ind]),\n",
    "        xy=(xdata[end_ind], ydata[end_ind]),\n",
    "        arrowprops=dict(arrowstyle=\"->\", color=color),\n",
    "        size=size\n",
    "    )\n",
    "\n",
    "\n",
    "plt.figure(figsize = (16,9))\n",
    "plt.plot(locations[:,0], locations[:,1],'.', label = 'Nodes')\n",
    "plt.plot(locations[154,0], locations[154,1],'ro', label = 'Begin')\n",
    "plt.legend()\n",
    "\n",
    "#a = np.array([45,75,90])\n",
    "a = np.argwhere(MPP[:,0] != 0)\n",
    "\n",
    "for i in range(len(a)):\n",
    "    index1 = 154\n",
    "    index2 = a[i]\n",
    "    values = [int(index1), int(index2)]\n",
    "    line = plt.plot(locations[values,0], locations[values,1],'r')[0]\n",
    "    add_arrow(line, color = 'red')\n",
    "    \n",
    "    \n",
    "#b = np.array([15,16,75,90])\n",
    "b = np.argwhere(MPP[:,1] != 0)\n",
    "\n",
    "for j in range(len(b)):\n",
    "    index1 = 154\n",
    "    index2 = b[j]\n",
    "    values = [int(index1), int(index2)]\n",
    "    line = plt.plot(locations[values,0], locations[values,1],'b')[0]\n",
    "    add_arrow(line, color = 'blue')\n",
    "    \n",
    "#c = np.array([0,1,15,75,90])\n",
    "c = np.argwhere(MPP[:,2] != 0)\n",
    "\n",
    "for k in range(len(c)):\n",
    "    index1 = 154\n",
    "    index2 = c[k]\n",
    "    values = [int(index1), int(index2)]\n",
    "    line = plt.plot(locations[values,0], locations[values,1],'g')[0]\n",
    "    add_arrow(line, color = 'green')\n",
    "    \n",
    "#d = np.array([0,1,15,75,90])\n",
    "d = np.argwhere(MPP[:,3] != 0)\n",
    "\n",
    "for l in range(len(c)):\n",
    "    index1 = 154\n",
    "    index2 = d[l]\n",
    "    values = [int(index1), int(index2)]\n",
    "    line = plt.plot(locations[values,0], locations[values,1],'m')[0]\n",
    "    add_arrow(line, color = 'magenta')\n",
    "\n",
    "        \n",
    "#plt.legend(['Nodes','Begin','5 days','_nolegend_','_nolegend_','10 days','_nolegend_','_nolegend_','_nolegend_','15 days','_nolegend_','_nolegend_','_nolegend_','_nolegend_','20 days'])\n",
    "plt.legend(['Nodes','Begin','5 days','_nolegend_','_nolegend_','_nolegend_','_nolegend_','10 days','_nolegend_','_nolegend_','_nolegend_',\n",
    "            '_nolegend_','_nolegend_','_nolegend_','_nolegend_','_nolegend_','_nolegend_','_nolegend_','_nolegend_','_nolegend_','_nolegend_',\n",
    "            '_nolegend_','_nolegend_','_nolegend_','_nolegend_','_nolegend_','15 days','_nolegend_','_nolegend_','_nolegend_',\n",
    "            '_nolegend_','_nolegend_','_nolegend_','_nolegend_','_nolegend_','_nolegend_','_nolegend_','_nolegend_','_nolegend_','_nolegend_',\n",
    "            '_nolegend_','_nolegend_','_nolegend_','_nolegend_','_nolegend_','20 days'])\n",
    "\n",
    "plt.show()\n",
    "\n"
   ]
  },
  {
   "cell_type": "code",
   "execution_count": null,
   "id": "10aa5487-4dad-4d3f-a8de-bd5c0957e8ed",
   "metadata": {},
   "outputs": [],
   "source": [
    "from matplotlib import pyplot as plt\n",
    "import numpy as np\n",
    "\n",
    "\n",
    "def add_arrow(line, position=None, direction='right', size=25, color=None):\n",
    "    \"\"\"\n",
    "    add an arrow to a line.\n",
    "\n",
    "    line:       Line2D object\n",
    "    position:   x-position of the arrow. If None, mean of xdata is taken\n",
    "    direction:  'left' or 'right'\n",
    "    size:       size of the arrow in fontsize points\n",
    "    color:      if None, line color is taken.\n",
    "    \"\"\"\n",
    "    if color is None:\n",
    "        color = line.get_color()\n",
    "\n",
    "    xdata = line.get_xdata()\n",
    "    ydata = line.get_ydata()\n",
    "\n",
    "    if position is None:\n",
    "        position = xdata.mean()\n",
    "    # find closest index\n",
    "    start_ind = np.argmin(np.absolute(xdata - position))\n",
    "    if direction == 'right':\n",
    "        end_ind = start_ind + 1\n",
    "    else:\n",
    "        end_ind = start_ind - 1\n",
    "\n",
    "    line.axes.annotate('',\n",
    "        xytext=(xdata[start_ind], ydata[start_ind]),\n",
    "        xy=(xdata[end_ind], ydata[end_ind]),\n",
    "        arrowprops=dict(arrowstyle=\"->\", color=color),\n",
    "        size=size\n",
    "    )\n",
    "\n",
    "\n",
    "plt.figure(figsize = (16,9))\n",
    "plt.plot(locations[:,0], locations[:,1],'.', label = 'Nodes')\n",
    "plt.plot(locations[154,0], locations[154,1],'ro', label = 'Begin')\n",
    "plt.legend()    \n",
    "\n",
    "#d = np.array([0,1,15,75,90])\n",
    "d = np.argwhere(MPP[:,3] != 0)\n",
    "\n",
    "for l in range(len(c)):\n",
    "    index1 = 154\n",
    "    index2 = d[l]\n",
    "    values = [int(index1), int(index2)]\n",
    "    line = plt.plot(locations[values,0], locations[values,1],'m')[0]\n",
    "    add_arrow(line, color = 'magenta')\n",
    "\n",
    "        \n",
    "#plt.legend(['Nodes','Begin','5 days','_nolegend_','_nolegend_','10 days','_nolegend_','_nolegend_','_nolegend_','15 days','_nolegend_','_nolegend_','_nolegend_','_nolegend_','20 days'])\n",
    "plt.legend(['Nodes','Begin','20 days'])\n",
    "\n",
    "plt.show()\n",
    "\n",
    "\n"
   ]
  },
  {
   "cell_type": "code",
   "execution_count": null,
   "id": "6619c0a7-d9f7-44f4-9395-60546bd57338",
   "metadata": {
    "tags": []
   },
   "outputs": [],
   "source": [
    "plt.plot(locations[:,0], locations[:,1],'.', label = 'Nodes')\n",
    "plt.plot(locations[105,0], locations[105,1],'ro', label = 'Begin')\n",
    "\n",
    "plt.plot(locations[45,0], locations[45,1],'bo', label = '5 days',markersize = 8)\n",
    "plt.plot(locations[75,0], locations[75,1],'bo',markersize = 8)\n",
    "plt.plot(locations[90,0], locations[90,1],'bo',markersize = 8)\n",
    "\n",
    "plt.plot(locations[15,0], locations[15,1],'go', label = '10 days',markersize = 6)\n",
    "plt.plot(locations[16,0], locations[16,1],'go',markersize = 6)\n",
    "plt.plot(locations[75,0], locations[75,1],'go',markersize = 6)\n",
    "plt.plot(locations[90,0], locations[90,1],'go',markersize = 6)\n",
    "\n",
    "plt.plot(locations[0,0], locations[0,1],'yo', label = '15 days',markersize = 4)\n",
    "plt.plot(locations[1,0], locations[1,1],'yo',markersize = 4)\n",
    "plt.plot(locations[15,0], locations[15,1],'yo',markersize = 4)\n",
    "plt.plot(locations[75,0], locations[75,1],'yo',markersize = 4)\n",
    "plt.plot(locations[90,0], locations[90,1],'yo',markersize = 4)\n",
    "\n",
    "plt.plot(locations[0,0], locations[0,1],'mo', label = '20 days',markersize = 2)\n",
    "plt.plot(locations[1,0], locations[1,1],'mo',markersize = 2)\n",
    "plt.plot(locations[15,0], locations[15,1],'mo',markersize = 2)\n",
    "plt.plot(locations[75,0], locations[75,1],'mo',markersize = 2)\n",
    "plt.plot(locations[90,0], locations[90,1],'mo',markersize = 2)\n",
    "\n",
    "plt.legend()"
   ]
  },
  {
   "cell_type": "code",
   "execution_count": null,
   "id": "16ed85ea-b4ca-4114-81a6-2a3ec0d8f789",
   "metadata": {},
   "outputs": [],
   "source": []
  },
  {
   "cell_type": "markdown",
   "id": "ef6d2bbf-097a-4423-88a3-cb2d19e18915",
   "metadata": {},
   "source": [
    "### Look which paths the MPPs take"
   ]
  },
  {
   "cell_type": "code",
   "execution_count": null,
   "id": "79fb21db-64cb-4ef4-ac69-2806bea2d45e",
   "metadata": {
    "tags": []
   },
   "outputs": [],
   "source": [
    "p"
   ]
  },
  {
   "cell_type": "code",
   "execution_count": null,
   "id": "e4c57d82-8e54-48e4-a059-5c54261c38f6",
   "metadata": {},
   "outputs": [],
   "source": [
    "d"
   ]
  },
  {
   "cell_type": "code",
   "execution_count": null,
   "id": "65eef06f-ad1c-4a5a-ae77-8eb7d347533b",
   "metadata": {
    "tags": []
   },
   "outputs": [],
   "source": [
    "index_ED_all = []\n",
    "\n",
    "for i in d:\n",
    "    index_ED_all.append(np.argwhere(p[3,int(i),:] == np.max(p[3,int(i),:])))\n",
    "\n",
    "\n",
    "index_ED_all"
   ]
  },
  {
   "cell_type": "code",
   "execution_count": null,
   "id": "3f9ae96e-398f-4eb7-b7c4-1d792b2d18f7",
   "metadata": {
    "tags": []
   },
   "outputs": [],
   "source": [
    "index_DC_all = []\n",
    "\n",
    "for i in range(len(index_ED_all)):\n",
    "    index_DC_all.append(np.argwhere(p[2,int(index_ED_all[i]),:] == np.max(p[2,int(index_ED_all[i]),:]))[0])\n",
    "\n",
    "\n",
    "index_DC_all"
   ]
  },
  {
   "cell_type": "code",
   "execution_count": null,
   "id": "4120c78b-b3bb-475a-85ba-16388b3bc4b9",
   "metadata": {
    "tags": []
   },
   "outputs": [],
   "source": [
    "index_CB_all = []\n",
    "\n",
    "for i in range(len(index_DC_all)):\n",
    "    index_CB_all.append(np.argwhere(p[1,int(index_DC_all[i]),:] == np.max(p[1,int(index_DC_all[i]),:])))\n",
    "    \n",
    "index_CB_all"
   ]
  },
  {
   "cell_type": "code",
   "execution_count": null,
   "id": "464a6cbf-3a7a-46e5-8add-92ae14dddb01",
   "metadata": {
    "tags": []
   },
   "outputs": [],
   "source": [
    "paths_ = []\n",
    "\n",
    "paths_.append(index_CB_all)\n",
    "paths_.append(index_DC_all)\n",
    "paths_.append(index_ED_all)\n",
    "\n",
    "\n",
    "paths_"
   ]
  },
  {
   "cell_type": "code",
   "execution_count": null,
   "id": "5c85154a-4dc1-4d77-8f02-81dd930b2aaf",
   "metadata": {},
   "outputs": [],
   "source": [
    "paths = np.zeros((len(d),5))\n",
    "paths"
   ]
  },
  {
   "cell_type": "code",
   "execution_count": null,
   "id": "5a660729-3030-413a-a255-0876a571eaee",
   "metadata": {},
   "outputs": [],
   "source": [
    "paths[:,0] = 154\n",
    "paths"
   ]
  },
  {
   "cell_type": "code",
   "execution_count": null,
   "id": "da9410e8-2b40-4a58-94e3-0e321c152ccb",
   "metadata": {},
   "outputs": [],
   "source": [
    "for j in range(len(d)):\n",
    "    paths[j,-1] = d[j]\n",
    "    for i in range(0,3):\n",
    "        paths[j,i+1] = int(paths_[i][j])"
   ]
  },
  {
   "cell_type": "code",
   "execution_count": null,
   "id": "cf26f9a0-d027-4b8e-b7a2-eae6bc1d49fe",
   "metadata": {},
   "outputs": [],
   "source": [
    "paths"
   ]
  },
  {
   "cell_type": "code",
   "execution_count": null,
   "id": "6cffa623-8b8e-4d43-b30c-2e9ea819f56a",
   "metadata": {
    "tags": []
   },
   "outputs": [],
   "source": [
    "from matplotlib import pyplot as plt\n",
    "import numpy as np\n",
    "\n",
    "\n",
    "def add_arrow(line, position=None, direction='right', size=25, color=None):\n",
    "    \"\"\"\n",
    "    add an arrow to a line.\n",
    "\n",
    "    line:       Line2D object\n",
    "    position:   x-position of the arrow. If None, mean of xdata is taken\n",
    "    direction:  'left' or 'right'\n",
    "    size:       size of the arrow in fontsize points\n",
    "    color:      if None, line color is taken.\n",
    "    \"\"\"\n",
    "    if color is None:\n",
    "        color = line.get_color()\n",
    "\n",
    "    xdata = line.get_xdata()\n",
    "    ydata = line.get_ydata()\n",
    "\n",
    "    if position is None:\n",
    "        position = xdata.mean()\n",
    "    # find closest index\n",
    "    start_ind = np.argmin(np.absolute(xdata - position))\n",
    "    if direction == 'right':\n",
    "        end_ind = start_ind + 1\n",
    "    else:\n",
    "        end_ind = start_ind - 1\n",
    "\n",
    "    line.axes.annotate('',\n",
    "        xytext=(xdata[start_ind], ydata[start_ind]),\n",
    "        xy=(xdata[end_ind], ydata[end_ind]),\n",
    "        arrowprops=dict(arrowstyle=\"->\", color=color),\n",
    "        size=size\n",
    "    )\n",
    "\n",
    "\n",
    "plt.figure(figsize = (16,9))\n",
    "plt.plot(locations[:,0], locations[:,1],'.', label = 'Nodes')\n",
    "plt.plot(locations[154,0], locations[154,1],'ro', label = 'Begin')\n",
    "plt.legend()    \n",
    "\n",
    "\n",
    "for l in range(len(paths)):\n",
    "    for k in range(4):\n",
    "        index1 = paths[l,k]\n",
    "        index2 = paths[l,k+1]\n",
    "        values = [int(index1), int(index2)]\n",
    "        line = plt.plot(locations[values,0], locations[values,1],'m',linewidth = 0.7)[0]\n",
    "        add_arrow(line, color = 'magenta')\n",
    "\n",
    "        \n",
    "# #plt.legend(['Nodes','Begin','5 days','_nolegend_','_nolegend_','10 days','_nolegend_','_nolegend_','_nolegend_','15 days','_nolegend_','_nolegend_','_nolegend_','_nolegend_','20 days'])\n",
    "plt.legend(['Nodes','Begin','MPPs after 20 days'])\n",
    "\n",
    "plt.show()\n",
    "\n",
    "\n"
   ]
  },
  {
   "cell_type": "code",
   "execution_count": null,
   "id": "7cda2100-d9f9-4f14-ba8c-cba1483eaf59",
   "metadata": {},
   "outputs": [],
   "source": [
    "paths"
   ]
  },
  {
   "cell_type": "code",
   "execution_count": null,
   "id": "ebac81b8-17b8-4097-bc46-9e23f0ec2434",
   "metadata": {},
   "outputs": [],
   "source": []
  },
  {
   "cell_type": "code",
   "execution_count": null,
   "id": "06fd948d-eb77-47b4-bd1b-bc253a36fec0",
   "metadata": {},
   "outputs": [],
   "source": []
  }
 ],
 "metadata": {
  "kernelspec": {
   "display_name": "Python 3 (ipykernel)",
   "language": "python",
   "name": "python3"
  },
  "language_info": {
   "codemirror_mode": {
    "name": "ipython",
    "version": 3
   },
   "file_extension": ".py",
   "mimetype": "text/x-python",
   "name": "python",
   "nbconvert_exporter": "python",
   "pygments_lexer": "ipython3",
   "version": "3.8.11"
  }
 },
 "nbformat": 4,
 "nbformat_minor": 5
}
