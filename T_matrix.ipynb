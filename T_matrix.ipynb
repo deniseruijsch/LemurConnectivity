{
 "cells": [
  {
   "cell_type": "code",
   "execution_count": 1,
   "id": "95f94661-c4ea-40a0-9cae-e4c251e48a85",
   "metadata": {},
   "outputs": [
    {
     "name": "stdout",
     "output_type": "stream",
     "text": [
      "start\n",
      "started\n"
     ]
    }
   ],
   "source": [
    "\n",
    "print('start')\n",
    "\n",
    "\n",
    "\n",
    "from parcels import FieldSet, ParticleSet, Variable, JITParticle, AdvectionRK4, plotTrajectoriesFile, ErrorCode, ParticleFile, ScipyParticle\n",
    "from parcels import UnitConverter, Field, Variable\n",
    "import numpy as np\n",
    "import math\n",
    "from datetime import timedelta, datetime\n",
    "from datetime import timedelta as delta\n",
    "from operator import attrgetter\n",
    "from glob import glob\n",
    "import copy\n",
    "import xarray as xr\n",
    "import matplotlib.pyplot as plt\n",
    "\n",
    "import pandas as pd\n",
    "from datetime import date, timedelta\n",
    "\n",
    "print('started')\n",
    "\n",
    "\n"
   ]
  },
  {
   "cell_type": "code",
   "execution_count": 2,
   "id": "7f666553-44c1-4af8-a30a-fc9cdfaf4269",
   "metadata": {},
   "outputs": [
    {
     "name": "stdout",
     "output_type": "stream",
     "text": [
      "G loaded\n"
     ]
    }
   ],
   "source": [
    "\n",
    "locations = np.load('2022_10_24_locations_present.npy')\n",
    "\n",
    "\n",
    "index_start = np.load('2022_11_14_index_start_present_2017_001.npy')\n",
    "index_end = np.load('2022_11_14_index_end_present_2017_001.npy')\n",
    "\n",
    "\n",
    "G = np.load('2022_11_15_G_present_2017.npy')\n",
    "print('G loaded')"
   ]
  },
  {
   "cell_type": "code",
   "execution_count": 3,
   "id": "3c4b887f-c1fd-4660-a850-67ffafe3c65e",
   "metadata": {},
   "outputs": [],
   "source": [
    "\n",
    "\n",
    "A1 = G[0,:,:]\n",
    "A2 = G[1,:,:]\n",
    "A3 = G[2,:,:]\n",
    "A4 = G[3,:,:]\n",
    "A5 = G[4,:,:]\n",
    "A6 = G[5,:,:]\n",
    "A7 = G[6,:,:]\n",
    "A8 = G[7,:,:]\n",
    "A9 = G[8,:,:]\n",
    "A10 = G[9,:,:]\n",
    "A11 = G[10,:,:]\n",
    "A12 = G[11,:,:]\n",
    "A13 = G[12,:,:]\n",
    "A14 = G[13,:,:]\n",
    "A15 = G[14,:,:]\n",
    "A16 = G[15,:,:]\n",
    "A17 = G[16,:,:]\n",
    "A18 = G[17,:,:]\n",
    "A19 = G[18,:,:]\n",
    "A20 = G[19,:,:]\n",
    "A21 = G[20,:,:]\n",
    "A22 = G[21,:,:]\n",
    "A23 = G[22,:,:]\n",
    "A24 = G[23,:,:]\n",
    "A25 = G[24,:,:]\n",
    "A26 = G[25,:,:]\n",
    "A27 = G[26,:,:]\n",
    "A28 = G[27,:,:]\n",
    "A29 = G[28,:,:]\n",
    "A30 = G[29,:,:]\n",
    "A31 = G[30,:,:]\n",
    "A32 = G[31,:,:]\n",
    "A33 = G[32,:,:]\n",
    "A34 = G[33,:,:]\n",
    "A35 = G[34,:,:]\n",
    "A36 = G[35,:,:]\n",
    "A37 = G[36,:,:]\n",
    "A38 = G[37,:,:]\n",
    "A39 = G[38,:,:]\n",
    "A40 = G[39,:,:]\n",
    "A41 = G[40,:,:]\n",
    "A42 = G[41,:,:]\n",
    "A43 = G[42,:,:]\n",
    "A44 = G[43,:,:]\n",
    "A45 = G[44,:,:]\n",
    "A46 = G[45,:,:]\n",
    "A47 = G[46,:,:]\n",
    "A48 = G[47,:,:]\n",
    "A49 = G[48,:,:]\n",
    "A50 = G[49,:,:]\n",
    "A51 = G[50,:,:]\n",
    "A52 = G[51,:,:]\n",
    "A53 = G[52,:,:]\n",
    "A54 = G[53,:,:]\n",
    "A55 = G[54,:,:]\n",
    "A56 = G[55,:,:]\n",
    "A57 = G[56,:,:]\n",
    "A58 = G[57,:,:]\n",
    "A59 = G[58,:,:]\n",
    "A60 = G[59,:,:]\n",
    "A61 = G[60,:,:]\n",
    "A62 = G[61,:,:]\n",
    "A63 = G[62,:,:]\n",
    "A64 = G[63,:,:]\n",
    "A65 = G[64,:,:]\n",
    "A66 = G[65,:,:]\n",
    "A67 = G[66,:,:]\n",
    "A68 = G[67,:,:]\n",
    "A69 = G[68,:,:]\n",
    "A70 = G[69,:,:]\n",
    "A71 = G[70,:,:]\n",
    "A72 = G[71,:,:]\n",
    "A73 = G[72,:,:]\n",
    "#A74 = G[73,:,:]\n",
    "\n",
    "# from numpy.linalg import multi_dot\n",
    "\n",
    "# s = np.array([A1,A2,A3,A4,A5,A6,A7,A8,A9,A10,A11,A12,A13,A14,A15,A16,A17,A18,A19,A20,A21,A22,A23,A24,A25,A26,A27,A28,A29,A30,A31,A32,A33,A34,A35,A36,A37,A38,A39,A40,A41,A42,A43,A44,A45,A46,A47,A48,A49,A50,A51,A52,A53,A54,A55,A56,A57,A58,A59,A60,A61,A62,A63,A64,A65,A66,A67,A68,A69,A70,A71,A72,A73])#,A73,A74])\n",
    "# #s = np.array([A1,A2,A3,A4,A5,A6,A7,A8,A9,A10,A11,A12,A13,A14,A15,A16])\n",
    "\n",
    "# C = []\n",
    "\n",
    "# for i in range(len(s)-1):\n",
    "#     if i == 0:\n",
    "#         C__ = A1 + multi_dot(s[0:2]) + multi_dot(s[0:3]) + multi_dot(s[0:4]) + multi_dot(s[0:5]) + multi_dot(s[0:6])# + multi_dot(s[0:7]) + multi_dot(s[0:8])\n",
    "#         C.append(C__)\n",
    "#     else:\n",
    "#         C__ = s[0+i:1+i] + multi_dot(s[0+i:2+i]) + multi_dot(s[0+i:3+i]) + multi_dot(s[0+i:4+i]) + multi_dot(s[0+i:5+i]) + multi_dot(s[0+i:6+i])# + multi_dot(s[0+i:7+i]) + multi_dot(s[0+i:8+i])\n",
    "#         C.append(C__)\n",
    "        \n",
    "# C_access = []\n",
    "\n",
    "# for i in range(len(C)):\n",
    "#     if i == 0:\n",
    "#         C__access = np.argwhere(C[i] != 0)\n",
    "#         C_access.append(C__access)\n",
    "#     else:\n",
    "#         C__access = np.argwhere(C[i][0,:,:] != 0)\n",
    "#         C_access.append(C__access)\n",
    "    \n",
    "# np.save('2022_11_15_C_access_present_2017.npy',(C_access))    \n",
    "\n"
   ]
  },
  {
   "cell_type": "code",
   "execution_count": 4,
   "id": "685d600e-a01a-4e5f-8f30-bba9030191cb",
   "metadata": {},
   "outputs": [],
   "source": [
    "from numpy.linalg import multi_dot\n",
    "\n",
    "s = np.array([A1,A2,A3,A4,A5,A6,A7,A8,A9,A10,A11,A12,A13,A14,A15,A16,A17,A18,A19,A20,A21,A22,A23,A24,A25,A26,A27,A28,A29,A30,A31,A32,A33,A34,A35,A36,A37,A38,A39,A40,A41,A42,A43,A44,A45,A46,A47,A48,A49,A50,A51,A52,A53,A54,A55,A56,A57,A58,A59,A60,A61,A62,A63,A64,A65,A66,A67,A68,A69,A70,A71,A72,A73])#,A73,A74])\n",
    "#s = np.array([A1,A2,A3,A4,A5,A6,A7,A8,A9,A10,A11,A12,A13,A14,A15,A16])\n"
   ]
  },
  {
   "cell_type": "code",
   "execution_count": 4,
   "id": "6b6162fb-a545-4d25-a2e9-790f7fea7a14",
   "metadata": {},
   "outputs": [],
   "source": [
    "from numpy.linalg import multi_dot\n",
    "\n",
    "s1 = np.array([A1,A2,A3,A4,A5,A6,A7,A8,A9,A10,A11,A12,A13,A14,A15,A16,A17,A18,A19,A20,A21,A22,A23,A24,A25,A26,A27,A28,A29,A30])\n",
    "#s = np.array([A1,A2,A3,A4,A5,A6,A7,A8,A9,A10,A11,A12,A13,A14,A15,A16])\n"
   ]
  },
  {
   "cell_type": "code",
   "execution_count": 5,
   "id": "9a78ea9a-5b05-418c-b732-e572c0e0ee59",
   "metadata": {},
   "outputs": [],
   "source": [
    "from numpy.linalg import multi_dot\n",
    "\n",
    "s2 = np.array([A31,A32,A33,A34,A35,A36,A37,A38,A39,A40,A41,A42,A43,A44,A45,A46,A47,A48,A49,A50,A51,A52,A53,A54,A55,A56,A57,A58,A59,A60,A61,A62,A63,A64,A65,A66,A67,A68,A69,A70,A71,A72,A73])#,A73,A74])\n",
    "#s = np.array([A1,A2,A3,A4,A5,A6,A7,A8,A9,A10,A11,A12,A13,A14,A15,A16])\n"
   ]
  },
  {
   "cell_type": "code",
   "execution_count": 6,
   "id": "de346a16-71cc-4228-b3a2-3d59cc3294e4",
   "metadata": {},
   "outputs": [
    {
     "data": {
      "text/plain": [
       "(43, 4403, 4403)"
      ]
     },
     "execution_count": 6,
     "metadata": {},
     "output_type": "execute_result"
    }
   ],
   "source": [
    "np.shape(s2)"
   ]
  },
  {
   "cell_type": "code",
   "execution_count": 7,
   "id": "f69361ea-a222-493e-8bd9-7b7cc79c6219",
   "metadata": {},
   "outputs": [
    {
     "ename": "MemoryError",
     "evalue": "Unable to allocate 10.5 GiB for an array with shape (73, 4403, 4403) and data type float64",
     "output_type": "error",
     "traceback": [
      "\u001b[0;31m---------------------------------------------------------------------------\u001b[0m",
      "\u001b[0;31mMemoryError\u001b[0m                               Traceback (most recent call last)",
      "\u001b[0;32m/tmp/ipykernel_63990/559791462.py\u001b[0m in \u001b[0;36m<module>\u001b[0;34m\u001b[0m\n\u001b[0;32m----> 1\u001b[0;31m \u001b[0ms\u001b[0m \u001b[0;34m=\u001b[0m \u001b[0mnp\u001b[0m\u001b[0;34m.\u001b[0m\u001b[0mconcatenate\u001b[0m\u001b[0;34m(\u001b[0m\u001b[0;34m[\u001b[0m\u001b[0ms1\u001b[0m\u001b[0;34m,\u001b[0m \u001b[0ms2\u001b[0m\u001b[0;34m]\u001b[0m\u001b[0;34m,\u001b[0m \u001b[0;36m0\u001b[0m\u001b[0;34m)\u001b[0m\u001b[0;34m\u001b[0m\u001b[0;34m\u001b[0m\u001b[0m\n\u001b[0m",
      "\u001b[0;32m~/.local/lib/python3.8/site-packages/numpy/core/overrides.py\u001b[0m in \u001b[0;36mconcatenate\u001b[0;34m(*args, **kwargs)\u001b[0m\n",
      "\u001b[0;31mMemoryError\u001b[0m: Unable to allocate 10.5 GiB for an array with shape (73, 4403, 4403) and data type float64"
     ]
    }
   ],
   "source": [
    "s = np.concatenate([s1, s2], 0)"
   ]
  },
  {
   "cell_type": "code",
   "execution_count": null,
   "id": "59471124-d9f4-4f46-b797-8945dcbcf8ee",
   "metadata": {},
   "outputs": [],
   "source": [
    "np.shape(s)"
   ]
  },
  {
   "cell_type": "code",
   "execution_count": null,
   "id": "416cee31-70db-4cdc-9f9f-defa649be386",
   "metadata": {},
   "outputs": [],
   "source": [
    "\n",
    "C_access = np.load('2022_11_15_C_access_present_2017.npy',allow_pickle=True)\n",
    "print('C loaded')\n",
    "    \n",
    "\n"
   ]
  },
  {
   "cell_type": "code",
   "execution_count": null,
   "id": "99f14855-5397-4daf-a111-a836cecd9b67",
   "metadata": {},
   "outputs": [],
   "source": [
    "np.save('2022_11_15_s_2017.npy',(s))"
   ]
  },
  {
   "cell_type": "code",
   "execution_count": null,
   "id": "e8975db8-e291-4a90-9623-1728edbc1688",
   "metadata": {},
   "outputs": [],
   "source": [
    "T_all = []\n",
    "\n",
    "for year in range(len(C_access)-5):\n",
    "    print(year)\n",
    "    T_1 = np.zeros((np.shape(G)[1],np.shape(G)[1]))\n",
    "    T_2 = np.zeros((np.shape(G)[1],np.shape(G)[1]))\n",
    "    T_3 = np.zeros((np.shape(G)[1],np.shape(G)[1]))\n",
    "    T_4 = np.zeros((np.shape(G)[1],np.shape(G)[1]))\n",
    "    T_5 = np.zeros((np.shape(G)[1],np.shape(G)[1]))\n",
    "    T_6 = np.zeros((np.shape(G)[1],np.shape(G)[1]))\n",
    "    for j,i in zip(C_access[year][:,0],C_access[year][:,1]):\n",
    "        A1 = G[0+year,j,i] #from node i to node j\n",
    "        A2 = G[1+year,j,i] #from node i to node j\n",
    "        A3 = G[2+year,j,i] #from node i to node j\n",
    "        A4 = G[3+year,j,i] #from node i to node j\n",
    "        A5 = G[4+year,j,i] #from node i to node j\n",
    "        A6 = G[5+year,j,i] #from node i to node j\n",
    "        s1 = np.sum(G[0+year,:,i])\n",
    "        s2 = np.sum(G[1+year,:,i])\n",
    "        s3 = np.sum(G[2+year,:,i])\n",
    "        s4 = np.sum(G[3+year,:,i])\n",
    "        s5 = np.sum(G[4+year,:,i])\n",
    "        s6 = np.sum(G[5+year,:,i])\n",
    "        if s1 == 0:\n",
    "            T1[j,i] = 0\n",
    "        if s2 == 0:\n",
    "            T2[j,i] = 0\n",
    "        if s3 == 0:\n",
    "            T3[j,i] = 0\n",
    "        if s4 == 0:\n",
    "            T4[j,i] = 0\n",
    "        if s5 == 0:\n",
    "            T5[j,i] = 0\n",
    "        if s6 == 0:\n",
    "            T6[j,i] = 0\n",
    "        else:\n",
    "            T_1[j,i] = A1/s1\n",
    "            T_2[j,i] = A2/s2\n",
    "            T_3[j,i] = A3/s3\n",
    "            T_4[j,i] = A4/s4\n",
    "            T_5[j,i] = A5/s5\n",
    "            T_6[j,i] = A6/s6\n",
    "            \n",
    "        T = []\n",
    "        T.append(T_1)\n",
    "        T.append(T_2)\n",
    "        T.append(T_3)\n",
    "        T.append(T_4)\n",
    "        T.append(T_5)\n",
    "        T.append(T_6)\n",
    "    T_all.append(T)\n",
    "    \n",
    "np.save('2022_11_18_T_present_001_all_2017.npy',(T_all))"
   ]
  },
  {
   "cell_type": "code",
   "execution_count": null,
   "id": "93789c08-696f-46f4-8206-4982c305eedd",
   "metadata": {},
   "outputs": [],
   "source": []
  }
 ],
 "metadata": {
  "kernelspec": {
   "display_name": "Python 3 (ipykernel)",
   "language": "python",
   "name": "python3"
  },
  "language_info": {
   "codemirror_mode": {
    "name": "ipython",
    "version": 3
   },
   "file_extension": ".py",
   "mimetype": "text/x-python",
   "name": "python",
   "nbconvert_exporter": "python",
   "pygments_lexer": "ipython3",
   "version": "3.8.11"
  }
 },
 "nbformat": 4,
 "nbformat_minor": 5
}
