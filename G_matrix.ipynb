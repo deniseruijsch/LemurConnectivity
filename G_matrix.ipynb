{
 "cells": [
  {
   "cell_type": "code",
   "execution_count": 1,
   "id": "6ea13f73-3afe-475a-90b1-9b875a183fc5",
   "metadata": {},
   "outputs": [
    {
     "name": "stdout",
     "output_type": "stream",
     "text": [
      "start\n",
      "started\n"
     ]
    }
   ],
   "source": [
    "print('start')\n",
    "\n",
    "\n",
    "\n",
    "from parcels import FieldSet, ParticleSet, Variable, JITParticle, AdvectionRK4, plotTrajectoriesFile, ErrorCode, ParticleFile, ScipyParticle\n",
    "from parcels import UnitConverter, Field, Variable\n",
    "import numpy as np\n",
    "import math\n",
    "from datetime import timedelta, datetime\n",
    "from datetime import timedelta as delta\n",
    "from operator import attrgetter\n",
    "from glob import glob\n",
    "import copy\n",
    "import xarray as xr\n",
    "import matplotlib.pyplot as plt\n",
    "\n",
    "import pandas as pd\n",
    "from datetime import date, timedelta\n",
    "\n",
    "print('started')\n",
    "\n",
    "locations = np.load('2022_10_24_locations_present.npy')\n",
    "\n",
    "\n",
    "index_start = np.load('2022_11_14_index_start_present_2017_001.npy')\n",
    "index_end = np.load('2022_11_14_index_end_present_2017_001.npy')"
   ]
  },
  {
   "cell_type": "code",
   "execution_count": 2,
   "id": "2d477f62-c799-4ed6-8025-cd877f0333a9",
   "metadata": {},
   "outputs": [],
   "source": [
    "output_files = sorted(glob('Present_day_2016-2019_windage_0/2022_11_01_present_day_2016_2018_whole_grid_001_windage_0_day*.nc'))[73:146]"
   ]
  },
  {
   "cell_type": "code",
   "execution_count": 3,
   "id": "8cdcee56-4788-4445-875d-169499e2ec7a",
   "metadata": {},
   "outputs": [],
   "source": [
    "#output_files = sorted(glob('Present_day_2019_windage_3/2022_11_02_present_day_2019_whole_grid_001_windage_3_day*.nc'))\n",
    "start = 0\n",
    "#end = 41\n",
    "#output_files = output_files[start:end]"
   ]
  },
  {
   "cell_type": "code",
   "execution_count": 4,
   "id": "38ce8cac-6e0b-4693-b6b1-0436147fb0f7",
   "metadata": {},
   "outputs": [],
   "source": [
    "G = np.zeros((len(output_files),len(locations),len(locations)))"
   ]
  },
  {
   "cell_type": "code",
   "execution_count": 5,
   "id": "f3b72784-e092-42cd-8803-df0ae9f4ef76",
   "metadata": {},
   "outputs": [
    {
     "data": {
      "text/plain": [
       "73"
      ]
     },
     "execution_count": 5,
     "metadata": {},
     "output_type": "execute_result"
    }
   ],
   "source": [
    "len(output_files)"
   ]
  },
  {
   "cell_type": "code",
   "execution_count": 6,
   "id": "7f3ed9e5-0c13-413b-8ebf-72aa14835a92",
   "metadata": {},
   "outputs": [
    {
     "name": "stdout",
     "output_type": "stream",
     "text": [
      "0\n",
      "1\n",
      "2\n",
      "3\n",
      "4\n",
      "5\n",
      "6\n",
      "7\n",
      "8\n",
      "9\n",
      "10\n",
      "11\n",
      "12\n",
      "13\n",
      "14\n",
      "15\n",
      "16\n",
      "17\n",
      "18\n",
      "19\n",
      "20\n",
      "21\n",
      "22\n",
      "23\n",
      "24\n",
      "25\n",
      "26\n",
      "27\n",
      "28\n",
      "29\n",
      "30\n",
      "31\n",
      "32\n",
      "33\n",
      "34\n",
      "35\n",
      "36\n",
      "37\n",
      "38\n",
      "39\n",
      "40\n",
      "41\n",
      "42\n",
      "43\n",
      "44\n",
      "45\n",
      "46\n",
      "47\n",
      "48\n",
      "49\n",
      "50\n",
      "51\n",
      "52\n",
      "53\n",
      "54\n",
      "55\n",
      "56\n",
      "57\n",
      "58\n",
      "59\n",
      "60\n",
      "61\n",
      "62\n",
      "63\n",
      "64\n",
      "65\n",
      "66\n",
      "67\n",
      "68\n",
      "69\n",
      "70\n",
      "71\n",
      "72\n"
     ]
    }
   ],
   "source": [
    "for year in range(len(output_files)):\n",
    "    print(year)\n",
    "    for i,j in zip(index_end[year+start],index_start):\n",
    "        G[year,int(i),int(j)] = G[year,int(i),int(j)] + 1"
   ]
  },
  {
   "cell_type": "markdown",
   "id": "f5737478-623f-4414-8733-f1b6423778b1",
   "metadata": {},
   "source": [
    "Make sure the Madagascar nodes are sinks"
   ]
  },
  {
   "cell_type": "code",
   "execution_count": 7,
   "id": "1679b47f-7dae-4b97-8aea-68c4fe8d48b7",
   "metadata": {},
   "outputs": [],
   "source": [
    "afr_unique = np.load(\"2022_10_25_afr_unique_present.npy\")\n",
    "mad_unique = np.load(\"2022_10_25_mad_unique_present.npy\")"
   ]
  },
  {
   "cell_type": "code",
   "execution_count": 8,
   "id": "40f87039-dcd1-490e-bbeb-127694da0118",
   "metadata": {},
   "outputs": [],
   "source": [
    "for year in range(len(output_files)):\n",
    "    for mad in mad_unique:\n",
    "        G[year,:,int(mad)] = G[0,:,int(mad)] *0 #from node 1221 to all nodes"
   ]
  },
  {
   "cell_type": "code",
   "execution_count": 9,
   "id": "32607c9e-46aa-465d-8300-12865bf0781d",
   "metadata": {},
   "outputs": [],
   "source": [
    "np.save('2022_11_15_G_present_2017.npy',(G))"
   ]
  },
  {
   "cell_type": "code",
   "execution_count": null,
   "id": "5f60713c-930f-41b0-b3b2-0cec37eb5020",
   "metadata": {},
   "outputs": [],
   "source": []
  }
 ],
 "metadata": {
  "kernelspec": {
   "display_name": "Python 3 (ipykernel)",
   "language": "python",
   "name": "python3"
  },
  "language_info": {
   "codemirror_mode": {
    "name": "ipython",
    "version": 3
   },
   "file_extension": ".py",
   "mimetype": "text/x-python",
   "name": "python",
   "nbconvert_exporter": "python",
   "pygments_lexer": "ipython3",
   "version": "3.8.11"
  }
 },
 "nbformat": 4,
 "nbformat_minor": 5
}
